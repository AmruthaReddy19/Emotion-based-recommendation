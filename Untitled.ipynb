{
 "cells": [
  {
   "cell_type": "code",
   "execution_count": 1,
   "id": "fd069e01",
   "metadata": {},
   "outputs": [],
   "source": [
    "import pandas as pd\n",
    "import warnings\n",
    "import re\n",
    "from nltk.stem import WordNetLemmatizer, PorterStemmer, SnowballStemmer\n",
    "warnings.filterwarnings('ignore')\n",
    "from nltk.corpus import stopwords\n",
    "from nltk.tokenize import word_tokenize\n",
    "from nltk.util import ngrams, bigrams, trigrams\n",
    "\n"
   ]
  },
  {
   "cell_type": "code",
   "execution_count": 9,
   "id": "fbaf2968",
   "metadata": {},
   "outputs": [],
   "source": [
    "df=pd.read_csv('tweets_phase2_b.csv')"
   ]
  },
  {
   "cell_type": "code",
   "execution_count": 10,
   "id": "3316c1d0",
   "metadata": {},
   "outputs": [
    {
     "data": {
      "text/html": [
       "<div>\n",
       "<style scoped>\n",
       "    .dataframe tbody tr th:only-of-type {\n",
       "        vertical-align: middle;\n",
       "    }\n",
       "\n",
       "    .dataframe tbody tr th {\n",
       "        vertical-align: top;\n",
       "    }\n",
       "\n",
       "    .dataframe thead th {\n",
       "        text-align: right;\n",
       "    }\n",
       "</style>\n",
       "<table border=\"1\" class=\"dataframe\">\n",
       "  <thead>\n",
       "    <tr style=\"text-align: right;\">\n",
       "      <th></th>\n",
       "      <th>id</th>\n",
       "      <th>Time</th>\n",
       "      <th>Tweet</th>\n",
       "    </tr>\n",
       "  </thead>\n",
       "  <tbody>\n",
       "    <tr>\n",
       "      <th>0</th>\n",
       "      <td>586751692</td>\n",
       "      <td>2023-01-19 06:23:20+00:00</td>\n",
       "      <td>b'RT @EricTopol: The benefit of vaccination af...</td>\n",
       "    </tr>\n",
       "    <tr>\n",
       "      <th>1</th>\n",
       "      <td>289443557</td>\n",
       "      <td>2023-01-19 06:23:17+00:00</td>\n",
       "      <td>b'My dermatologist failed me. All the skincare...</td>\n",
       "    </tr>\n",
       "    <tr>\n",
       "      <th>2</th>\n",
       "      <td>1512061703285972994</td>\n",
       "      <td>2023-01-19 06:23:15+00:00</td>\n",
       "      <td>b\"RT @lsmbulgari: Every bp member having their...</td>\n",
       "    </tr>\n",
       "    <tr>\n",
       "      <th>3</th>\n",
       "      <td>1538589726021763072</td>\n",
       "      <td>2023-01-19 06:23:12+00:00</td>\n",
       "      <td>b'@bp_exol @roundiemimi You can simply search ...</td>\n",
       "    </tr>\n",
       "    <tr>\n",
       "      <th>4</th>\n",
       "      <td>1600366827359477761</td>\n",
       "      <td>2023-01-19 06:23:10+00:00</td>\n",
       "      <td>b'USA STORE ONLY:\\n\\nAMAZON BEST SELLER\\n\\nhtt...</td>\n",
       "    </tr>\n",
       "  </tbody>\n",
       "</table>\n",
       "</div>"
      ],
      "text/plain": [
       "                    id                       Time  \\\n",
       "0            586751692  2023-01-19 06:23:20+00:00   \n",
       "1            289443557  2023-01-19 06:23:17+00:00   \n",
       "2  1512061703285972994  2023-01-19 06:23:15+00:00   \n",
       "3  1538589726021763072  2023-01-19 06:23:12+00:00   \n",
       "4  1600366827359477761  2023-01-19 06:23:10+00:00   \n",
       "\n",
       "                                               Tweet  \n",
       "0  b'RT @EricTopol: The benefit of vaccination af...  \n",
       "1  b'My dermatologist failed me. All the skincare...  \n",
       "2  b\"RT @lsmbulgari: Every bp member having their...  \n",
       "3  b'@bp_exol @roundiemimi You can simply search ...  \n",
       "4  b'USA STORE ONLY:\\n\\nAMAZON BEST SELLER\\n\\nhtt...  "
      ]
     },
     "execution_count": 10,
     "metadata": {},
     "output_type": "execute_result"
    }
   ],
   "source": [
    "df.head()"
   ]
  },
  {
   "cell_type": "code",
   "execution_count": 11,
   "id": "efef021f",
   "metadata": {},
   "outputs": [],
   "source": [
    "stop_words_file = 'SmartStoplist.txt'\n",
    "\n",
    "stop_words = []\n",
    "\n",
    "with open(stop_words_file, \"r\") as f:\n",
    "    for line in f:\n",
    "        stop_words.extend(line.split()) \n",
    "        \n",
    "stop_words = stop_words"
   ]
  },
  {
   "cell_type": "code",
   "execution_count": 12,
   "id": "4d7d8360",
   "metadata": {},
   "outputs": [],
   "source": [
    "def preprocess(raw_text):\n",
    "    \n",
    "    #regular expression keeping only letters \n",
    "    letters_only_text = re.sub(\"[^a-zA-Z]\", \" \", raw_text)\n",
    "\n",
    "    # convert to lower case and split into words -> convert string into list ( 'hello world' -> ['hello', 'world'])\n",
    "    words = letters_only_text.lower().split()\n",
    "\n",
    "    cleaned_words = []\n",
    "    lemmatizer = PorterStemmer() #plug in here any other stemmer or lemmatiser you want to try out\n",
    "    \n",
    "    # remove stopwords\n",
    "    for word in words:\n",
    "        if word not in stop_words:\n",
    "            cleaned_words.append(word)\n",
    "    \n",
    "    # stemm or lemmatise words\n",
    "    stemmed_words = []\n",
    "    for word in cleaned_words:\n",
    "        word = lemmatizer.stem(word)   #dont forget to change stem to lemmatize if you are using a lemmatizer\n",
    "        stemmed_words.append(word)\n",
    "    \n",
    "    # converting list back to string\n",
    "    return \" \".join(stemmed_words)"
   ]
  },
  {
   "cell_type": "code",
   "execution_count": 13,
   "id": "1afbf0cc",
   "metadata": {},
   "outputs": [],
   "source": [
    "df['prep'] = df['Tweet'].apply(preprocess)  "
   ]
  },
  {
   "cell_type": "code",
   "execution_count": 14,
   "id": "be66f6a3",
   "metadata": {},
   "outputs": [
    {
     "data": {
      "text/html": [
       "<div>\n",
       "<style scoped>\n",
       "    .dataframe tbody tr th:only-of-type {\n",
       "        vertical-align: middle;\n",
       "    }\n",
       "\n",
       "    .dataframe tbody tr th {\n",
       "        vertical-align: top;\n",
       "    }\n",
       "\n",
       "    .dataframe thead th {\n",
       "        text-align: right;\n",
       "    }\n",
       "</style>\n",
       "<table border=\"1\" class=\"dataframe\">\n",
       "  <thead>\n",
       "    <tr style=\"text-align: right;\">\n",
       "      <th></th>\n",
       "      <th>id</th>\n",
       "      <th>Time</th>\n",
       "      <th>Tweet</th>\n",
       "      <th>prep</th>\n",
       "    </tr>\n",
       "  </thead>\n",
       "  <tbody>\n",
       "    <tr>\n",
       "      <th>0</th>\n",
       "      <td>586751692</td>\n",
       "      <td>2023-01-19 06:23:20+00:00</td>\n",
       "      <td>b'RT @EricTopol: The benefit of vaccination af...</td>\n",
       "      <td>rt erictopol benefit vaccin covid prevent long...</td>\n",
       "    </tr>\n",
       "    <tr>\n",
       "      <th>1</th>\n",
       "      <td>289443557</td>\n",
       "      <td>2023-01-19 06:23:17+00:00</td>\n",
       "      <td>b'My dermatologist failed me. All the skincare...</td>\n",
       "      <td>dermatologist fail skincar xe ve invest work m...</td>\n",
       "    </tr>\n",
       "    <tr>\n",
       "      <th>2</th>\n",
       "      <td>1512061703285972994</td>\n",
       "      <td>2023-01-19 06:23:15+00:00</td>\n",
       "      <td>b\"RT @lsmbulgari: Every bp member having their...</td>\n",
       "      <td>rt lsmbulgari bp member bday celebr lisa lisar...</td>\n",
       "    </tr>\n",
       "    <tr>\n",
       "      <th>3</th>\n",
       "      <td>1538589726021763072</td>\n",
       "      <td>2023-01-19 06:23:12+00:00</td>\n",
       "      <td>b'@bp_exol @roundiemimi You can simply search ...</td>\n",
       "      <td>bp exol roundiemimi simpli search impact lv fi...</td>\n",
       "    </tr>\n",
       "    <tr>\n",
       "      <th>4</th>\n",
       "      <td>1600366827359477761</td>\n",
       "      <td>2023-01-19 06:23:10+00:00</td>\n",
       "      <td>b'USA STORE ONLY:\\n\\nAMAZON BEST SELLER\\n\\nhtt...</td>\n",
       "      <td>usa store namazon seller nhttp tnuqvob exfoli ...</td>\n",
       "    </tr>\n",
       "  </tbody>\n",
       "</table>\n",
       "</div>"
      ],
      "text/plain": [
       "                    id                       Time  \\\n",
       "0            586751692  2023-01-19 06:23:20+00:00   \n",
       "1            289443557  2023-01-19 06:23:17+00:00   \n",
       "2  1512061703285972994  2023-01-19 06:23:15+00:00   \n",
       "3  1538589726021763072  2023-01-19 06:23:12+00:00   \n",
       "4  1600366827359477761  2023-01-19 06:23:10+00:00   \n",
       "\n",
       "                                               Tweet  \\\n",
       "0  b'RT @EricTopol: The benefit of vaccination af...   \n",
       "1  b'My dermatologist failed me. All the skincare...   \n",
       "2  b\"RT @lsmbulgari: Every bp member having their...   \n",
       "3  b'@bp_exol @roundiemimi You can simply search ...   \n",
       "4  b'USA STORE ONLY:\\n\\nAMAZON BEST SELLER\\n\\nhtt...   \n",
       "\n",
       "                                                prep  \n",
       "0  rt erictopol benefit vaccin covid prevent long...  \n",
       "1  dermatologist fail skincar xe ve invest work m...  \n",
       "2  rt lsmbulgari bp member bday celebr lisa lisar...  \n",
       "3  bp exol roundiemimi simpli search impact lv fi...  \n",
       "4  usa store namazon seller nhttp tnuqvob exfoli ...  "
      ]
     },
     "execution_count": 14,
     "metadata": {},
     "output_type": "execute_result"
    }
   ],
   "source": [
    "df.head()"
   ]
  },
  {
   "cell_type": "code",
   "execution_count": 15,
   "id": "7136db8c",
   "metadata": {},
   "outputs": [
    {
     "data": {
      "text/plain": [
       "0      rt erictopol benefit vaccin covid prevent long...\n",
       "1      dermatologist fail skincar xe ve invest work m...\n",
       "2      rt lsmbulgari bp member bday celebr lisa lisar...\n",
       "3      bp exol roundiemimi simpli search impact lv fi...\n",
       "4      usa store namazon seller nhttp tnuqvob exfoli ...\n",
       "                             ...                        \n",
       "947    rt diedsuddenli sad xe xa year die cardiac fai...\n",
       "948    rt ms livyyi xe black own korean skincar store...\n",
       "949     rehanjayawick youth involv polit cheer xf xf xbd\n",
       "950    rt realstewpet wait time davo januari talk wor...\n",
       "951    skin perfect drop skincar routin matti xf xab ...\n",
       "Name: prep, Length: 952, dtype: object"
      ]
     },
     "execution_count": 15,
     "metadata": {},
     "output_type": "execute_result"
    }
   ],
   "source": [
    "df['prep']"
   ]
  },
  {
   "cell_type": "code",
   "execution_count": null,
   "id": "9a67a44f",
   "metadata": {},
   "outputs": [],
   "source": []
  }
 ],
 "metadata": {
  "kernelspec": {
   "display_name": "Python 3 (ipykernel)",
   "language": "python",
   "name": "python3"
  },
  "language_info": {
   "codemirror_mode": {
    "name": "ipython",
    "version": 3
   },
   "file_extension": ".py",
   "mimetype": "text/x-python",
   "name": "python",
   "nbconvert_exporter": "python",
   "pygments_lexer": "ipython3",
   "version": "3.10.5"
  }
 },
 "nbformat": 4,
 "nbformat_minor": 5
}
