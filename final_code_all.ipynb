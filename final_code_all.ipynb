{
 "cells": [
  {
   "cell_type": "code",
   "execution_count": 1,
   "id": "f01acbab",
   "metadata": {},
   "outputs": [],
   "source": [
    "import pandas as pd"
   ]
  },
  {
   "cell_type": "code",
   "execution_count": 2,
   "id": "0b5fbe26",
   "metadata": {},
   "outputs": [],
   "source": [
    "df=pd.read_csv('prepData.csv')"
   ]
  },
  {
   "cell_type": "code",
   "execution_count": 3,
   "id": "1cabb50d",
   "metadata": {
    "scrolled": true
   },
   "outputs": [
    {
     "data": {
      "text/html": [
       "<div>\n",
       "<style scoped>\n",
       "    .dataframe tbody tr th:only-of-type {\n",
       "        vertical-align: middle;\n",
       "    }\n",
       "\n",
       "    .dataframe tbody tr th {\n",
       "        vertical-align: top;\n",
       "    }\n",
       "\n",
       "    .dataframe thead th {\n",
       "        text-align: right;\n",
       "    }\n",
       "</style>\n",
       "<table border=\"1\" class=\"dataframe\">\n",
       "  <thead>\n",
       "    <tr style=\"text-align: right;\">\n",
       "      <th></th>\n",
       "      <th>Unnamed: 0</th>\n",
       "      <th>id</th>\n",
       "      <th>Time</th>\n",
       "      <th>Tweet</th>\n",
       "      <th>tags</th>\n",
       "      <th>pre</th>\n",
       "      <th>words</th>\n",
       "    </tr>\n",
       "  </thead>\n",
       "  <tbody>\n",
       "    <tr>\n",
       "      <th>0</th>\n",
       "      <td>0</td>\n",
       "      <td>1578527198734065664</td>\n",
       "      <td>2023-02-13 17:09:44+00:00</td>\n",
       "      <td>b'runny nose tear eyes fever headache loss of ...</td>\n",
       "      <td>fever</td>\n",
       "      <td>b runny nose tear eyes fever headache loss of ...</td>\n",
       "      <td>['b', 'runny', 'nose', 'tear', 'eyes', 'fever'...</td>\n",
       "    </tr>\n",
       "    <tr>\n",
       "      <th>1</th>\n",
       "      <td>1</td>\n",
       "      <td>49049956</td>\n",
       "      <td>2023-02-13 15:34:08+00:00</td>\n",
       "      <td>b'@katkinneywrites i have hot/cold sometimes. ...</td>\n",
       "      <td>fever</td>\n",
       "      <td>b i have hot cold sometimes usually cold means...</td>\n",
       "      <td>['b', 'i', 'have', 'hot', 'cold', 'sometimes',...</td>\n",
       "    </tr>\n",
       "    <tr>\n",
       "      <th>2</th>\n",
       "      <td>2</td>\n",
       "      <td>92341784</td>\n",
       "      <td>2023-02-13 13:57:31+00:00</td>\n",
       "      <td>b'cytomegalovirus colitis - complication when ...</td>\n",
       "      <td>fever</td>\n",
       "      <td>b cytomegalovirus colitis complication when cd...</td>\n",
       "      <td>['b', 'cytomegalovirus', 'colitis', 'complicat...</td>\n",
       "    </tr>\n",
       "    <tr>\n",
       "      <th>3</th>\n",
       "      <td>3</td>\n",
       "      <td>1179433528687239173</td>\n",
       "      <td>2023-02-13 11:38:54+00:00</td>\n",
       "      <td>b'@fatalkci l know otli and matli for nausea a...</td>\n",
       "      <td>fever</td>\n",
       "      <td>b l know otli and matli for nausea and vomitin...</td>\n",
       "      <td>['b', 'l', 'know', 'otli', 'and', 'matli', 'fo...</td>\n",
       "    </tr>\n",
       "    <tr>\n",
       "      <th>4</th>\n",
       "      <td>4</td>\n",
       "      <td>856681920</td>\n",
       "      <td>2023-02-13 01:57:45+00:00</td>\n",
       "      <td>b'went from a fever to a cough to a sore throa...</td>\n",
       "      <td>fever</td>\n",
       "      <td>b went from a fever to a cough to a sore throa...</td>\n",
       "      <td>['b', 'went', 'from', 'a', 'fever', 'to', 'a',...</td>\n",
       "    </tr>\n",
       "  </tbody>\n",
       "</table>\n",
       "</div>"
      ],
      "text/plain": [
       "   Unnamed: 0                   id                       Time  \\\n",
       "0           0  1578527198734065664  2023-02-13 17:09:44+00:00   \n",
       "1           1             49049956  2023-02-13 15:34:08+00:00   \n",
       "2           2             92341784  2023-02-13 13:57:31+00:00   \n",
       "3           3  1179433528687239173  2023-02-13 11:38:54+00:00   \n",
       "4           4            856681920  2023-02-13 01:57:45+00:00   \n",
       "\n",
       "                                               Tweet   tags  \\\n",
       "0  b'runny nose tear eyes fever headache loss of ...  fever   \n",
       "1  b'@katkinneywrites i have hot/cold sometimes. ...  fever   \n",
       "2  b'cytomegalovirus colitis - complication when ...  fever   \n",
       "3  b'@fatalkci l know otli and matli for nausea a...  fever   \n",
       "4  b'went from a fever to a cough to a sore throa...  fever   \n",
       "\n",
       "                                                 pre  \\\n",
       "0  b runny nose tear eyes fever headache loss of ...   \n",
       "1  b i have hot cold sometimes usually cold means...   \n",
       "2  b cytomegalovirus colitis complication when cd...   \n",
       "3  b l know otli and matli for nausea and vomitin...   \n",
       "4  b went from a fever to a cough to a sore throa...   \n",
       "\n",
       "                                               words  \n",
       "0  ['b', 'runny', 'nose', 'tear', 'eyes', 'fever'...  \n",
       "1  ['b', 'i', 'have', 'hot', 'cold', 'sometimes',...  \n",
       "2  ['b', 'cytomegalovirus', 'colitis', 'complicat...  \n",
       "3  ['b', 'l', 'know', 'otli', 'and', 'matli', 'fo...  \n",
       "4  ['b', 'went', 'from', 'a', 'fever', 'to', 'a',...  "
      ]
     },
     "execution_count": 3,
     "metadata": {},
     "output_type": "execute_result"
    }
   ],
   "source": [
    "df.head()"
   ]
  },
  {
   "cell_type": "code",
   "execution_count": 12,
   "id": "5add941c",
   "metadata": {},
   "outputs": [
    {
     "data": {
      "text/plain": [
       "Index(['Unnamed: 0', 'id', 'Time', 'Tweet', 'tags', 'words', 'prep'], dtype='object')"
      ]
     },
     "execution_count": 12,
     "metadata": {},
     "output_type": "execute_result"
    }
   ],
   "source": [
    "df.columns"
   ]
  },
  {
   "cell_type": "code",
   "execution_count": 8,
   "id": "1f6f68be",
   "metadata": {},
   "outputs": [],
   "source": [
    "df1=df"
   ]
  },
  {
   "cell_type": "code",
   "execution_count": 17,
   "id": "158d39bf",
   "metadata": {
    "scrolled": true
   },
   "outputs": [],
   "source": [
    "df1.drop(['tags','prep','words'],axis=1,inplace=True)"
   ]
  },
  {
   "cell_type": "code",
   "execution_count": 19,
   "id": "9e695b92",
   "metadata": {},
   "outputs": [],
   "source": [
    "df1.to_csv('Final_Dataset1.csv')"
   ]
  },
  {
   "cell_type": "code",
   "execution_count": 4,
   "id": "9814339a",
   "metadata": {},
   "outputs": [
    {
     "name": "stdout",
     "output_type": "stream",
     "text": [
      "<class 'pandas.core.frame.DataFrame'>\n",
      "RangeIndex: 7480 entries, 0 to 7479\n",
      "Data columns (total 7 columns):\n",
      " #   Column      Non-Null Count  Dtype \n",
      "---  ------      --------------  ----- \n",
      " 0   Unnamed: 0  7480 non-null   int64 \n",
      " 1   id          7480 non-null   int64 \n",
      " 2   Time        7480 non-null   object\n",
      " 3   Tweet       7480 non-null   object\n",
      " 4   tags        7480 non-null   object\n",
      " 5   pre         7480 non-null   object\n",
      " 6   words       7480 non-null   object\n",
      "dtypes: int64(2), object(5)\n",
      "memory usage: 409.2+ KB\n"
     ]
    }
   ],
   "source": [
    "df.info()"
   ]
  },
  {
   "cell_type": "code",
   "execution_count": 3,
   "id": "11b6d221",
   "metadata": {},
   "outputs": [],
   "source": [
    "# to remove first letter \n",
    "def remove_first_character(text):\n",
    "    return text[1:]"
   ]
  },
  {
   "cell_type": "code",
   "execution_count": 4,
   "id": "19e5fb21",
   "metadata": {},
   "outputs": [],
   "source": [
    "df['prep']=df['pre'].apply(remove_first_character)"
   ]
  },
  {
   "cell_type": "code",
   "execution_count": 5,
   "id": "be049de6",
   "metadata": {
    "scrolled": false
   },
   "outputs": [
    {
     "data": {
      "text/html": [
       "<div>\n",
       "<style scoped>\n",
       "    .dataframe tbody tr th:only-of-type {\n",
       "        vertical-align: middle;\n",
       "    }\n",
       "\n",
       "    .dataframe tbody tr th {\n",
       "        vertical-align: top;\n",
       "    }\n",
       "\n",
       "    .dataframe thead th {\n",
       "        text-align: right;\n",
       "    }\n",
       "</style>\n",
       "<table border=\"1\" class=\"dataframe\">\n",
       "  <thead>\n",
       "    <tr style=\"text-align: right;\">\n",
       "      <th></th>\n",
       "      <th>Unnamed: 0</th>\n",
       "      <th>id</th>\n",
       "      <th>Time</th>\n",
       "      <th>Tweet</th>\n",
       "      <th>tags</th>\n",
       "      <th>pre</th>\n",
       "      <th>words</th>\n",
       "      <th>prep</th>\n",
       "    </tr>\n",
       "  </thead>\n",
       "  <tbody>\n",
       "    <tr>\n",
       "      <th>0</th>\n",
       "      <td>0</td>\n",
       "      <td>1578527198734065664</td>\n",
       "      <td>2023-02-13 17:09:44+00:00</td>\n",
       "      <td>b'runny nose tear eyes fever headache loss of ...</td>\n",
       "      <td>fever</td>\n",
       "      <td>b runny nose tear eyes fever headache loss of ...</td>\n",
       "      <td>['b', 'runny', 'nose', 'tear', 'eyes', 'fever'...</td>\n",
       "      <td>runny nose tear eyes fever headache loss of a...</td>\n",
       "    </tr>\n",
       "    <tr>\n",
       "      <th>1</th>\n",
       "      <td>1</td>\n",
       "      <td>49049956</td>\n",
       "      <td>2023-02-13 15:34:08+00:00</td>\n",
       "      <td>b'@katkinneywrites i have hot/cold sometimes. ...</td>\n",
       "      <td>fever</td>\n",
       "      <td>b i have hot cold sometimes usually cold means...</td>\n",
       "      <td>['b', 'i', 'have', 'hot', 'cold', 'sometimes',...</td>\n",
       "      <td>i have hot cold sometimes usually cold means ...</td>\n",
       "    </tr>\n",
       "    <tr>\n",
       "      <th>2</th>\n",
       "      <td>2</td>\n",
       "      <td>92341784</td>\n",
       "      <td>2023-02-13 13:57:31+00:00</td>\n",
       "      <td>b'cytomegalovirus colitis - complication when ...</td>\n",
       "      <td>fever</td>\n",
       "      <td>b cytomegalovirus colitis complication when cd...</td>\n",
       "      <td>['b', 'cytomegalovirus', 'colitis', 'complicat...</td>\n",
       "      <td>cytomegalovirus colitis complication when cd4...</td>\n",
       "    </tr>\n",
       "    <tr>\n",
       "      <th>3</th>\n",
       "      <td>3</td>\n",
       "      <td>1179433528687239173</td>\n",
       "      <td>2023-02-13 11:38:54+00:00</td>\n",
       "      <td>b'@fatalkci l know otli and matli for nausea a...</td>\n",
       "      <td>fever</td>\n",
       "      <td>b l know otli and matli for nausea and vomitin...</td>\n",
       "      <td>['b', 'l', 'know', 'otli', 'and', 'matli', 'fo...</td>\n",
       "      <td>l know otli and matli for nausea and vomiting...</td>\n",
       "    </tr>\n",
       "    <tr>\n",
       "      <th>4</th>\n",
       "      <td>4</td>\n",
       "      <td>856681920</td>\n",
       "      <td>2023-02-13 01:57:45+00:00</td>\n",
       "      <td>b'went from a fever to a cough to a sore throa...</td>\n",
       "      <td>fever</td>\n",
       "      <td>b went from a fever to a cough to a sore throa...</td>\n",
       "      <td>['b', 'went', 'from', 'a', 'fever', 'to', 'a',...</td>\n",
       "      <td>went from a fever to a cough to a sore throat...</td>\n",
       "    </tr>\n",
       "    <tr>\n",
       "      <th>...</th>\n",
       "      <td>...</td>\n",
       "      <td>...</td>\n",
       "      <td>...</td>\n",
       "      <td>...</td>\n",
       "      <td>...</td>\n",
       "      <td>...</td>\n",
       "      <td>...</td>\n",
       "      <td>...</td>\n",
       "    </tr>\n",
       "    <tr>\n",
       "      <th>7475</th>\n",
       "      <td>7475</td>\n",
       "      <td>705162643</td>\n",
       "      <td>2023-02-05 11:45:11+00:00</td>\n",
       "      <td>b'#nowplaying jump (mega banton) by dengue fev...</td>\n",
       "      <td>dengue</td>\n",
       "      <td>b jump mega banton by dengue fever riddim onli...</td>\n",
       "      <td>['b', 'jump', 'mega', 'banton', 'by', 'dengue'...</td>\n",
       "      <td>jump mega banton by dengue fever riddim onlin...</td>\n",
       "    </tr>\n",
       "    <tr>\n",
       "      <th>7476</th>\n",
       "      <td>7476</td>\n",
       "      <td>63543042</td>\n",
       "      <td>2023-02-05 11:35:22+00:00</td>\n",
       "      <td>b\"rt @chris_c_chapman: blood counts still very...</td>\n",
       "      <td>dengue</td>\n",
       "      <td>b rt c chapman blood counts still very low but...</td>\n",
       "      <td>['b', 'rt', 'c', 'chapman', 'blood', 'counts',...</td>\n",
       "      <td>rt c chapman blood counts still very low but ...</td>\n",
       "    </tr>\n",
       "    <tr>\n",
       "      <th>7477</th>\n",
       "      <td>7477</td>\n",
       "      <td>1273954059867701251</td>\n",
       "      <td>2023-02-05 11:30:20+00:00</td>\n",
       "      <td>b'rt @shukladeepak73: different activities by ...</td>\n",
       "      <td>dengue</td>\n",
       "      <td>b rt different activities by bccf under embed ...</td>\n",
       "      <td>['b', 'rt', 'different', 'activities', 'by', '...</td>\n",
       "      <td>rt different activities by bccf under embed p...</td>\n",
       "    </tr>\n",
       "    <tr>\n",
       "      <th>7478</th>\n",
       "      <td>7478</td>\n",
       "      <td>3306545726</td>\n",
       "      <td>2023-02-05 11:26:45+00:00</td>\n",
       "      <td>b'dengue: 1 more dies, 5 patients hospitalised...</td>\n",
       "      <td>dengue</td>\n",
       "      <td>b dengue 1 more dies 5 patients hospitalised n...</td>\n",
       "      <td>['b', 'dengue', '1', 'more', 'dies', '5', 'pat...</td>\n",
       "      <td>dengue 1 more dies 5 patients hospitalised n#...</td>\n",
       "    </tr>\n",
       "    <tr>\n",
       "      <th>7479</th>\n",
       "      <td>7479</td>\n",
       "      <td>1282362054200958978</td>\n",
       "      <td>2023-02-05 11:14:11+00:00</td>\n",
       "      <td>b\"if only your name rhymed with dengue shock s...</td>\n",
       "      <td>dengue</td>\n",
       "      <td>b if only your name rhymed with dengue shock s...</td>\n",
       "      <td>['b', 'if', 'only', 'your', 'name', 'rhymed', ...</td>\n",
       "      <td>if only your name rhymed with dengue shock sy...</td>\n",
       "    </tr>\n",
       "  </tbody>\n",
       "</table>\n",
       "<p>7480 rows × 8 columns</p>\n",
       "</div>"
      ],
      "text/plain": [
       "      Unnamed: 0                   id                       Time  \\\n",
       "0              0  1578527198734065664  2023-02-13 17:09:44+00:00   \n",
       "1              1             49049956  2023-02-13 15:34:08+00:00   \n",
       "2              2             92341784  2023-02-13 13:57:31+00:00   \n",
       "3              3  1179433528687239173  2023-02-13 11:38:54+00:00   \n",
       "4              4            856681920  2023-02-13 01:57:45+00:00   \n",
       "...          ...                  ...                        ...   \n",
       "7475        7475            705162643  2023-02-05 11:45:11+00:00   \n",
       "7476        7476             63543042  2023-02-05 11:35:22+00:00   \n",
       "7477        7477  1273954059867701251  2023-02-05 11:30:20+00:00   \n",
       "7478        7478           3306545726  2023-02-05 11:26:45+00:00   \n",
       "7479        7479  1282362054200958978  2023-02-05 11:14:11+00:00   \n",
       "\n",
       "                                                  Tweet    tags  \\\n",
       "0     b'runny nose tear eyes fever headache loss of ...   fever   \n",
       "1     b'@katkinneywrites i have hot/cold sometimes. ...   fever   \n",
       "2     b'cytomegalovirus colitis - complication when ...   fever   \n",
       "3     b'@fatalkci l know otli and matli for nausea a...   fever   \n",
       "4     b'went from a fever to a cough to a sore throa...   fever   \n",
       "...                                                 ...     ...   \n",
       "7475  b'#nowplaying jump (mega banton) by dengue fev...  dengue   \n",
       "7476  b\"rt @chris_c_chapman: blood counts still very...  dengue   \n",
       "7477  b'rt @shukladeepak73: different activities by ...  dengue   \n",
       "7478  b'dengue: 1 more dies, 5 patients hospitalised...  dengue   \n",
       "7479  b\"if only your name rhymed with dengue shock s...  dengue   \n",
       "\n",
       "                                                    pre  \\\n",
       "0     b runny nose tear eyes fever headache loss of ...   \n",
       "1     b i have hot cold sometimes usually cold means...   \n",
       "2     b cytomegalovirus colitis complication when cd...   \n",
       "3     b l know otli and matli for nausea and vomitin...   \n",
       "4     b went from a fever to a cough to a sore throa...   \n",
       "...                                                 ...   \n",
       "7475  b jump mega banton by dengue fever riddim onli...   \n",
       "7476  b rt c chapman blood counts still very low but...   \n",
       "7477  b rt different activities by bccf under embed ...   \n",
       "7478  b dengue 1 more dies 5 patients hospitalised n...   \n",
       "7479  b if only your name rhymed with dengue shock s...   \n",
       "\n",
       "                                                  words  \\\n",
       "0     ['b', 'runny', 'nose', 'tear', 'eyes', 'fever'...   \n",
       "1     ['b', 'i', 'have', 'hot', 'cold', 'sometimes',...   \n",
       "2     ['b', 'cytomegalovirus', 'colitis', 'complicat...   \n",
       "3     ['b', 'l', 'know', 'otli', 'and', 'matli', 'fo...   \n",
       "4     ['b', 'went', 'from', 'a', 'fever', 'to', 'a',...   \n",
       "...                                                 ...   \n",
       "7475  ['b', 'jump', 'mega', 'banton', 'by', 'dengue'...   \n",
       "7476  ['b', 'rt', 'c', 'chapman', 'blood', 'counts',...   \n",
       "7477  ['b', 'rt', 'different', 'activities', 'by', '...   \n",
       "7478  ['b', 'dengue', '1', 'more', 'dies', '5', 'pat...   \n",
       "7479  ['b', 'if', 'only', 'your', 'name', 'rhymed', ...   \n",
       "\n",
       "                                                   prep  \n",
       "0      runny nose tear eyes fever headache loss of a...  \n",
       "1      i have hot cold sometimes usually cold means ...  \n",
       "2      cytomegalovirus colitis complication when cd4...  \n",
       "3      l know otli and matli for nausea and vomiting...  \n",
       "4      went from a fever to a cough to a sore throat...  \n",
       "...                                                 ...  \n",
       "7475   jump mega banton by dengue fever riddim onlin...  \n",
       "7476   rt c chapman blood counts still very low but ...  \n",
       "7477   rt different activities by bccf under embed p...  \n",
       "7478   dengue 1 more dies 5 patients hospitalised n#...  \n",
       "7479   if only your name rhymed with dengue shock sy...  \n",
       "\n",
       "[7480 rows x 8 columns]"
      ]
     },
     "execution_count": 5,
     "metadata": {},
     "output_type": "execute_result"
    }
   ],
   "source": [
    "df = df.applymap(lambda s: s.lower() if type(s) == str else s)"
   ]
  },
  {
   "cell_type": "code",
   "execution_count": 7,
   "id": "600efcfd",
   "metadata": {},
   "outputs": [
    {
     "data": {
      "text/plain": [
       "fever      750\n",
       "nausea     750\n",
       "sprain     750\n",
       "stroke     750\n",
       "anxiety    750\n",
       "flu        750\n",
       "obesity    750\n",
       "autism     750\n",
       "asthma     750\n",
       "dengue     730\n",
       "Name: tags, dtype: int64"
      ]
     },
     "execution_count": 7,
     "metadata": {},
     "output_type": "execute_result"
    }
   ],
   "source": [
    "df['tags'].value_counts()"
   ]
  },
  {
   "cell_type": "code",
   "execution_count": 6,
   "id": "392c176f",
   "metadata": {},
   "outputs": [],
   "source": [
    "df.drop('pre',axis=1,inplace=True)"
   ]
  },
  {
   "cell_type": "code",
   "execution_count": 12,
   "id": "1a8fe160",
   "metadata": {},
   "outputs": [
    {
     "ename": "ModuleNotFoundError",
     "evalue": "No module named 'sentiwordnet'",
     "output_type": "error",
     "traceback": [
      "\u001b[1;31m---------------------------------------------------------------------------\u001b[0m",
      "\u001b[1;31mModuleNotFoundError\u001b[0m                       Traceback (most recent call last)",
      "Input \u001b[1;32mIn [12]\u001b[0m, in \u001b[0;36m<cell line: 2>\u001b[1;34m()\u001b[0m\n\u001b[0;32m      1\u001b[0m \u001b[38;5;28;01mfrom\u001b[39;00m \u001b[38;5;21;01mnltk\u001b[39;00m\u001b[38;5;21;01m.\u001b[39;00m\u001b[38;5;21;01mcorpus\u001b[39;00m \u001b[38;5;28;01mimport\u001b[39;00m wordnet \u001b[38;5;28;01mas\u001b[39;00m wn\n\u001b[1;32m----> 2\u001b[0m \u001b[38;5;28;01mfrom\u001b[39;00m \u001b[38;5;21;01msentiwordnet\u001b[39;00m \u001b[38;5;28;01mimport\u001b[39;00m SentiWordNetCorpusReader\n",
      "\u001b[1;31mModuleNotFoundError\u001b[0m: No module named 'sentiwordnet'"
     ]
    }
   ],
   "source": [
    "from nltk.corpus import wordnet as wn\n",
    "from sentiwordnet import SentiWordNetCorpusReader\n"
   ]
  },
  {
   "cell_type": "code",
   "execution_count": 16,
   "id": "ca19ac12",
   "metadata": {},
   "outputs": [],
   "source": [
    "from nltk.corpus import sentiwordnet as swn"
   ]
  },
  {
   "cell_type": "code",
   "execution_count": 15,
   "id": "d9c21083",
   "metadata": {},
   "outputs": [
    {
     "ename": "ModuleNotFoundError",
     "evalue": "No module named 'swn'",
     "output_type": "error",
     "traceback": [
      "\u001b[1;31m---------------------------------------------------------------------------\u001b[0m",
      "\u001b[1;31mModuleNotFoundError\u001b[0m                       Traceback (most recent call last)",
      "Input \u001b[1;32mIn [15]\u001b[0m, in \u001b[0;36m<cell line: 1>\u001b[1;34m()\u001b[0m\n\u001b[1;32m----> 1\u001b[0m \u001b[38;5;28;01mfrom\u001b[39;00m \u001b[38;5;21;01mswn\u001b[39;00m \u001b[38;5;28;01mimport\u001b[39;00m SentiWordNetCorpusReader\n",
      "\u001b[1;31mModuleNotFoundError\u001b[0m: No module named 'swn'"
     ]
    }
   ],
   "source": []
  },
  {
   "cell_type": "code",
   "execution_count": 17,
   "id": "f3304bd8",
   "metadata": {},
   "outputs": [],
   "source": [
    "df.drop([],axis=1,inplace=True)"
   ]
  },
  {
   "cell_type": "code",
   "execution_count": 18,
   "id": "a05630dc",
   "metadata": {},
   "outputs": [
    {
     "data": {
      "text/html": [
       "<div>\n",
       "<style scoped>\n",
       "    .dataframe tbody tr th:only-of-type {\n",
       "        vertical-align: middle;\n",
       "    }\n",
       "\n",
       "    .dataframe tbody tr th {\n",
       "        vertical-align: top;\n",
       "    }\n",
       "\n",
       "    .dataframe thead th {\n",
       "        text-align: right;\n",
       "    }\n",
       "</style>\n",
       "<table border=\"1\" class=\"dataframe\">\n",
       "  <thead>\n",
       "    <tr style=\"text-align: right;\">\n",
       "      <th></th>\n",
       "      <th>id</th>\n",
       "      <th>Tweet</th>\n",
       "      <th>tags</th>\n",
       "      <th>words</th>\n",
       "      <th>prep</th>\n",
       "    </tr>\n",
       "  </thead>\n",
       "  <tbody>\n",
       "    <tr>\n",
       "      <th>0</th>\n",
       "      <td>1578527198734065664</td>\n",
       "      <td>b'runny nose tear eyes fever headache loss of ...</td>\n",
       "      <td>fever</td>\n",
       "      <td>['b', 'runny', 'nose', 'tear', 'eyes', 'fever'...</td>\n",
       "      <td>runny nose tear eyes fever headache loss of a...</td>\n",
       "    </tr>\n",
       "    <tr>\n",
       "      <th>1</th>\n",
       "      <td>49049956</td>\n",
       "      <td>b'@katkinneywrites i have hot/cold sometimes. ...</td>\n",
       "      <td>fever</td>\n",
       "      <td>['b', 'i', 'have', 'hot', 'cold', 'sometimes',...</td>\n",
       "      <td>i have hot cold sometimes usually cold means ...</td>\n",
       "    </tr>\n",
       "    <tr>\n",
       "      <th>2</th>\n",
       "      <td>92341784</td>\n",
       "      <td>b'cytomegalovirus colitis - complication when ...</td>\n",
       "      <td>fever</td>\n",
       "      <td>['b', 'cytomegalovirus', 'colitis', 'complicat...</td>\n",
       "      <td>cytomegalovirus colitis complication when cd4...</td>\n",
       "    </tr>\n",
       "    <tr>\n",
       "      <th>3</th>\n",
       "      <td>1179433528687239173</td>\n",
       "      <td>b'@fatalkci l know otli and matli for nausea a...</td>\n",
       "      <td>fever</td>\n",
       "      <td>['b', 'l', 'know', 'otli', 'and', 'matli', 'fo...</td>\n",
       "      <td>l know otli and matli for nausea and vomiting...</td>\n",
       "    </tr>\n",
       "    <tr>\n",
       "      <th>4</th>\n",
       "      <td>856681920</td>\n",
       "      <td>b'went from a fever to a cough to a sore throa...</td>\n",
       "      <td>fever</td>\n",
       "      <td>['b', 'went', 'from', 'a', 'fever', 'to', 'a',...</td>\n",
       "      <td>went from a fever to a cough to a sore throat...</td>\n",
       "    </tr>\n",
       "  </tbody>\n",
       "</table>\n",
       "</div>"
      ],
      "text/plain": [
       "                    id                                              Tweet  \\\n",
       "0  1578527198734065664  b'runny nose tear eyes fever headache loss of ...   \n",
       "1             49049956  b'@katkinneywrites i have hot/cold sometimes. ...   \n",
       "2             92341784  b'cytomegalovirus colitis - complication when ...   \n",
       "3  1179433528687239173  b'@fatalkci l know otli and matli for nausea a...   \n",
       "4            856681920  b'went from a fever to a cough to a sore throa...   \n",
       "\n",
       "    tags                                              words  \\\n",
       "0  fever  ['b', 'runny', 'nose', 'tear', 'eyes', 'fever'...   \n",
       "1  fever  ['b', 'i', 'have', 'hot', 'cold', 'sometimes',...   \n",
       "2  fever  ['b', 'cytomegalovirus', 'colitis', 'complicat...   \n",
       "3  fever  ['b', 'l', 'know', 'otli', 'and', 'matli', 'fo...   \n",
       "4  fever  ['b', 'went', 'from', 'a', 'fever', 'to', 'a',...   \n",
       "\n",
       "                                                prep  \n",
       "0   runny nose tear eyes fever headache loss of a...  \n",
       "1   i have hot cold sometimes usually cold means ...  \n",
       "2   cytomegalovirus colitis complication when cd4...  \n",
       "3   l know otli and matli for nausea and vomiting...  \n",
       "4   went from a fever to a cough to a sore throat...  "
      ]
     },
     "execution_count": 18,
     "metadata": {},
     "output_type": "execute_result"
    }
   ],
   "source": [
    "df.head()"
   ]
  },
  {
   "cell_type": "code",
   "execution_count": 19,
   "id": "a506a3dc",
   "metadata": {},
   "outputs": [],
   "source": [
    "df1=df"
   ]
  },
  {
   "cell_type": "code",
   "execution_count": 22,
   "id": "bd1085fb",
   "metadata": {},
   "outputs": [],
   "source": [
    "df1.drop('tags',axis=1,inplace=True)"
   ]
  },
  {
   "cell_type": "code",
   "execution_count": 23,
   "id": "e6a56e58",
   "metadata": {},
   "outputs": [
    {
     "data": {
      "text/html": [
       "<div>\n",
       "<style scoped>\n",
       "    .dataframe tbody tr th:only-of-type {\n",
       "        vertical-align: middle;\n",
       "    }\n",
       "\n",
       "    .dataframe tbody tr th {\n",
       "        vertical-align: top;\n",
       "    }\n",
       "\n",
       "    .dataframe thead th {\n",
       "        text-align: right;\n",
       "    }\n",
       "</style>\n",
       "<table border=\"1\" class=\"dataframe\">\n",
       "  <thead>\n",
       "    <tr style=\"text-align: right;\">\n",
       "      <th></th>\n",
       "      <th>id</th>\n",
       "      <th>Tweet</th>\n",
       "    </tr>\n",
       "  </thead>\n",
       "  <tbody>\n",
       "    <tr>\n",
       "      <th>0</th>\n",
       "      <td>1578527198734065664</td>\n",
       "      <td>b'runny nose tear eyes fever headache loss of ...</td>\n",
       "    </tr>\n",
       "    <tr>\n",
       "      <th>1</th>\n",
       "      <td>49049956</td>\n",
       "      <td>b'@katkinneywrites i have hot/cold sometimes. ...</td>\n",
       "    </tr>\n",
       "    <tr>\n",
       "      <th>2</th>\n",
       "      <td>92341784</td>\n",
       "      <td>b'cytomegalovirus colitis - complication when ...</td>\n",
       "    </tr>\n",
       "    <tr>\n",
       "      <th>3</th>\n",
       "      <td>1179433528687239173</td>\n",
       "      <td>b'@fatalkci l know otli and matli for nausea a...</td>\n",
       "    </tr>\n",
       "    <tr>\n",
       "      <th>4</th>\n",
       "      <td>856681920</td>\n",
       "      <td>b'went from a fever to a cough to a sore throa...</td>\n",
       "    </tr>\n",
       "  </tbody>\n",
       "</table>\n",
       "</div>"
      ],
      "text/plain": [
       "                    id                                              Tweet\n",
       "0  1578527198734065664  b'runny nose tear eyes fever headache loss of ...\n",
       "1             49049956  b'@katkinneywrites i have hot/cold sometimes. ...\n",
       "2             92341784  b'cytomegalovirus colitis - complication when ...\n",
       "3  1179433528687239173  b'@fatalkci l know otli and matli for nausea a...\n",
       "4            856681920  b'went from a fever to a cough to a sore throa..."
      ]
     },
     "execution_count": 23,
     "metadata": {},
     "output_type": "execute_result"
    }
   ],
   "source": [
    "df1.head()"
   ]
  },
  {
   "cell_type": "code",
   "execution_count": null,
   "id": "c9cc2492",
   "metadata": {},
   "outputs": [],
   "source": [
    "#step1 \n",
    "#removal of @ and ' links'\n",
    "import re\n",
    "def clean_text(text):\n",
    "    \n",
    "    #remove links\n",
    "    re.sub('@\\w+','',text)\n",
    "    re.sub('https?://\\S+','',text)\n",
    "    \n",
    "    \n",
    "\n"
   ]
  }
 ],
 "metadata": {
  "kernelspec": {
   "display_name": "Python 3 (ipykernel)",
   "language": "python",
   "name": "python3"
  },
  "language_info": {
   "codemirror_mode": {
    "name": "ipython",
    "version": 3
   },
   "file_extension": ".py",
   "mimetype": "text/x-python",
   "name": "python",
   "nbconvert_exporter": "python",
   "pygments_lexer": "ipython3",
   "version": "3.10.5"
  }
 },
 "nbformat": 4,
 "nbformat_minor": 5
}
