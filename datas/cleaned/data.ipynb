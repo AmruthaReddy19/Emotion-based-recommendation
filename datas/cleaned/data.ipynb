{
 "cells": [
  {
   "cell_type": "code",
   "execution_count": 1,
   "id": "d60dc57a",
   "metadata": {},
   "outputs": [],
   "source": [
    "import pandas as pd"
   ]
  },
  {
   "cell_type": "code",
   "execution_count": 24,
   "id": "6d2fdae2",
   "metadata": {},
   "outputs": [],
   "source": [
    "anemia=pd.read_csv('anemia.csv')"
   ]
  },
  {
   "cell_type": "code",
   "execution_count": 25,
   "id": "1117beed",
   "metadata": {},
   "outputs": [],
   "source": [
    "asthma=pd.read_csv('asthma.csv')"
   ]
  },
  {
   "cell_type": "code",
   "execution_count": 26,
   "id": "b6a2d1a0",
   "metadata": {},
   "outputs": [],
   "source": [
    "anxiety=pd.read_csv('axiety.csv')"
   ]
  },
  {
   "cell_type": "code",
   "execution_count": 27,
   "id": "83f88824",
   "metadata": {},
   "outputs": [],
   "source": [
    "allergy=pd.read_csv('allergy.csv')"
   ]
  },
  {
   "cell_type": "code",
   "execution_count": 28,
   "id": "c585fbe8",
   "metadata": {},
   "outputs": [],
   "source": [
    "fever=pd.read_csv('fever.csv')"
   ]
  },
  {
   "cell_type": "code",
   "execution_count": 29,
   "id": "83f53d6c",
   "metadata": {},
   "outputs": [],
   "source": [
    "flu=pd.read_csv('flu.csv')"
   ]
  },
  {
   "cell_type": "code",
   "execution_count": 30,
   "id": "03e82bb7",
   "metadata": {},
   "outputs": [],
   "source": [
    "nausea=pd.read_csv('nausea.csv')"
   ]
  },
  {
   "cell_type": "code",
   "execution_count": null,
   "id": "5e3e935c",
   "metadata": {},
   "outputs": [],
   "source": []
  },
  {
   "cell_type": "code",
   "execution_count": 31,
   "id": "3058f6cf",
   "metadata": {},
   "outputs": [],
   "source": [
    "pneumonia=pd.read_csv('pneumonia.csv')"
   ]
  },
  {
   "cell_type": "code",
   "execution_count": 32,
   "id": "3900ca8f",
   "metadata": {},
   "outputs": [],
   "source": [
    "sinus=pd.read_csv('sinus.csv')"
   ]
  },
  {
   "cell_type": "code",
   "execution_count": null,
   "id": "79056d21",
   "metadata": {},
   "outputs": [],
   "source": []
  },
  {
   "cell_type": "code",
   "execution_count": 33,
   "id": "de355216",
   "metadata": {},
   "outputs": [],
   "source": [
    "data=pd.concat([anemia,asthma,anxiety,allergy,fever,flu,nausea,pneumonia,sinus])"
   ]
  },
  {
   "cell_type": "code",
   "execution_count": 34,
   "id": "745cce79",
   "metadata": {},
   "outputs": [
    {
     "data": {
      "text/html": [
       "<div>\n",
       "<style scoped>\n",
       "    .dataframe tbody tr th:only-of-type {\n",
       "        vertical-align: middle;\n",
       "    }\n",
       "\n",
       "    .dataframe tbody tr th {\n",
       "        vertical-align: top;\n",
       "    }\n",
       "\n",
       "    .dataframe thead th {\n",
       "        text-align: right;\n",
       "    }\n",
       "</style>\n",
       "<table border=\"1\" class=\"dataframe\">\n",
       "  <thead>\n",
       "    <tr style=\"text-align: right;\">\n",
       "      <th></th>\n",
       "      <th>Unnamed: 0</th>\n",
       "      <th>id</th>\n",
       "      <th>Time</th>\n",
       "      <th>Tweet</th>\n",
       "    </tr>\n",
       "  </thead>\n",
       "  <tbody>\n",
       "    <tr>\n",
       "      <th>0</th>\n",
       "      <td>1</td>\n",
       "      <td>2447961475</td>\n",
       "      <td>2023-02-14 16:40:12+00:00</td>\n",
       "      <td>b'.@CDCgov report: Too few US children with #s...</td>\n",
       "    </tr>\n",
       "    <tr>\n",
       "      <th>1</th>\n",
       "      <td>5</td>\n",
       "      <td>1333374505931198466</td>\n",
       "      <td>2023-02-14 16:38:01+00:00</td>\n",
       "      <td>b'eu tava fazendo questao de anemia ai dormi e...</td>\n",
       "    </tr>\n",
       "    <tr>\n",
       "      <th>2</th>\n",
       "      <td>7</td>\n",
       "      <td>204970444</td>\n",
       "      <td>2023-02-14 16:37:25+00:00</td>\n",
       "      <td>b'la verdad es que ando tan cansada que no se ...</td>\n",
       "    </tr>\n",
       "    <tr>\n",
       "      <th>3</th>\n",
       "      <td>9</td>\n",
       "      <td>1593276163132112897</td>\n",
       "      <td>2023-02-14 16:37:12+00:00</td>\n",
       "      <td>b'Even before my ed I have been struggling wit...</td>\n",
       "    </tr>\n",
       "    <tr>\n",
       "      <th>4</th>\n",
       "      <td>13</td>\n",
       "      <td>1230594840255225863</td>\n",
       "      <td>2023-02-14 16:36:09+00:00</td>\n",
       "      <td>b'Bueno, por culpa de estar menstruando, la an...</td>\n",
       "    </tr>\n",
       "  </tbody>\n",
       "</table>\n",
       "</div>"
      ],
      "text/plain": [
       "   Unnamed: 0                   id                       Time  \\\n",
       "0           1           2447961475  2023-02-14 16:40:12+00:00   \n",
       "1           5  1333374505931198466  2023-02-14 16:38:01+00:00   \n",
       "2           7            204970444  2023-02-14 16:37:25+00:00   \n",
       "3           9  1593276163132112897  2023-02-14 16:37:12+00:00   \n",
       "4          13  1230594840255225863  2023-02-14 16:36:09+00:00   \n",
       "\n",
       "                                               Tweet  \n",
       "0  b'.@CDCgov report: Too few US children with #s...  \n",
       "1  b'eu tava fazendo questao de anemia ai dormi e...  \n",
       "2  b'la verdad es que ando tan cansada que no se ...  \n",
       "3  b'Even before my ed I have been struggling wit...  \n",
       "4  b'Bueno, por culpa de estar menstruando, la an...  "
      ]
     },
     "execution_count": 34,
     "metadata": {},
     "output_type": "execute_result"
    }
   ],
   "source": [
    "data.head()"
   ]
  },
  {
   "cell_type": "code",
   "execution_count": 35,
   "id": "03b22fe0",
   "metadata": {},
   "outputs": [
    {
     "name": "stdout",
     "output_type": "stream",
     "text": [
      "<class 'pandas.core.frame.DataFrame'>\n",
      "Int64Index: 4020 entries, 0 to 411\n",
      "Data columns (total 4 columns):\n",
      " #   Column      Non-Null Count  Dtype \n",
      "---  ------      --------------  ----- \n",
      " 0   Unnamed: 0  4020 non-null   int64 \n",
      " 1   id          4020 non-null   object\n",
      " 2   Time        4020 non-null   object\n",
      " 3   Tweet       4020 non-null   object\n",
      "dtypes: int64(1), object(3)\n",
      "memory usage: 157.0+ KB\n"
     ]
    }
   ],
   "source": [
    "data.info()"
   ]
  },
  {
   "cell_type": "code",
   "execution_count": 36,
   "id": "a376461f",
   "metadata": {},
   "outputs": [],
   "source": [
    "data1=data.drop('Unnamed: 0',axis=1)"
   ]
  },
  {
   "cell_type": "code",
   "execution_count": 37,
   "id": "8c53bc1b",
   "metadata": {},
   "outputs": [
    {
     "name": "stdout",
     "output_type": "stream",
     "text": [
      "<class 'pandas.core.frame.DataFrame'>\n",
      "Int64Index: 4020 entries, 0 to 411\n",
      "Data columns (total 3 columns):\n",
      " #   Column  Non-Null Count  Dtype \n",
      "---  ------  --------------  ----- \n",
      " 0   id      4020 non-null   object\n",
      " 1   Time    4020 non-null   object\n",
      " 2   Tweet   4020 non-null   object\n",
      "dtypes: object(3)\n",
      "memory usage: 125.6+ KB\n"
     ]
    }
   ],
   "source": [
    "data1.info()"
   ]
  },
  {
   "cell_type": "code",
   "execution_count": 38,
   "id": "72348066",
   "metadata": {},
   "outputs": [
    {
     "data": {
      "text/html": [
       "<div>\n",
       "<style scoped>\n",
       "    .dataframe tbody tr th:only-of-type {\n",
       "        vertical-align: middle;\n",
       "    }\n",
       "\n",
       "    .dataframe tbody tr th {\n",
       "        vertical-align: top;\n",
       "    }\n",
       "\n",
       "    .dataframe thead th {\n",
       "        text-align: right;\n",
       "    }\n",
       "</style>\n",
       "<table border=\"1\" class=\"dataframe\">\n",
       "  <thead>\n",
       "    <tr style=\"text-align: right;\">\n",
       "      <th></th>\n",
       "      <th>id</th>\n",
       "      <th>Time</th>\n",
       "      <th>Tweet</th>\n",
       "    </tr>\n",
       "  </thead>\n",
       "  <tbody>\n",
       "    <tr>\n",
       "      <th>0</th>\n",
       "      <td>2447961475</td>\n",
       "      <td>2023-02-14 16:40:12+00:00</td>\n",
       "      <td>b'.@CDCgov report: Too few US children with #s...</td>\n",
       "    </tr>\n",
       "    <tr>\n",
       "      <th>1</th>\n",
       "      <td>1333374505931198466</td>\n",
       "      <td>2023-02-14 16:38:01+00:00</td>\n",
       "      <td>b'eu tava fazendo questao de anemia ai dormi e...</td>\n",
       "    </tr>\n",
       "    <tr>\n",
       "      <th>2</th>\n",
       "      <td>204970444</td>\n",
       "      <td>2023-02-14 16:37:25+00:00</td>\n",
       "      <td>b'la verdad es que ando tan cansada que no se ...</td>\n",
       "    </tr>\n",
       "    <tr>\n",
       "      <th>3</th>\n",
       "      <td>1593276163132112897</td>\n",
       "      <td>2023-02-14 16:37:12+00:00</td>\n",
       "      <td>b'Even before my ed I have been struggling wit...</td>\n",
       "    </tr>\n",
       "    <tr>\n",
       "      <th>4</th>\n",
       "      <td>1230594840255225863</td>\n",
       "      <td>2023-02-14 16:36:09+00:00</td>\n",
       "      <td>b'Bueno, por culpa de estar menstruando, la an...</td>\n",
       "    </tr>\n",
       "  </tbody>\n",
       "</table>\n",
       "</div>"
      ],
      "text/plain": [
       "                    id                       Time  \\\n",
       "0           2447961475  2023-02-14 16:40:12+00:00   \n",
       "1  1333374505931198466  2023-02-14 16:38:01+00:00   \n",
       "2            204970444  2023-02-14 16:37:25+00:00   \n",
       "3  1593276163132112897  2023-02-14 16:37:12+00:00   \n",
       "4  1230594840255225863  2023-02-14 16:36:09+00:00   \n",
       "\n",
       "                                               Tweet  \n",
       "0  b'.@CDCgov report: Too few US children with #s...  \n",
       "1  b'eu tava fazendo questao de anemia ai dormi e...  \n",
       "2  b'la verdad es que ando tan cansada que no se ...  \n",
       "3  b'Even before my ed I have been struggling wit...  \n",
       "4  b'Bueno, por culpa de estar menstruando, la an...  "
      ]
     },
     "execution_count": 38,
     "metadata": {},
     "output_type": "execute_result"
    }
   ],
   "source": [
    "data1.head()"
   ]
  },
  {
   "cell_type": "code",
   "execution_count": 39,
   "id": "1d605dd5",
   "metadata": {},
   "outputs": [],
   "source": [
    "data1.to_csv('data_final.csv')"
   ]
  },
  {
   "cell_type": "code",
   "execution_count": null,
   "id": "794c7577",
   "metadata": {},
   "outputs": [],
   "source": []
  }
 ],
 "metadata": {
  "kernelspec": {
   "display_name": "Python 3 (ipykernel)",
   "language": "python",
   "name": "python3"
  },
  "language_info": {
   "codemirror_mode": {
    "name": "ipython",
    "version": 3
   },
   "file_extension": ".py",
   "mimetype": "text/x-python",
   "name": "python",
   "nbconvert_exporter": "python",
   "pygments_lexer": "ipython3",
   "version": "3.10.5"
  }
 },
 "nbformat": 4,
 "nbformat_minor": 5
}
