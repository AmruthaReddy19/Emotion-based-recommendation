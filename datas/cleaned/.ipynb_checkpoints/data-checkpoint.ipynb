{
 "cells": [
  {
   "cell_type": "code",
   "execution_count": 1,
   "id": "ed4db2aa",
   "metadata": {},
   "outputs": [],
   "source": [
    "import pandas as pd"
   ]
  },
  {
   "cell_type": "code",
   "execution_count": 2,
   "id": "f3aa27ef",
   "metadata": {},
   "outputs": [],
   "source": [
    "anemia=pd.read_csv('anemia.csv')"
   ]
  },
  {
   "cell_type": "code",
   "execution_count": 3,
   "id": "57f6abab",
   "metadata": {},
   "outputs": [],
   "source": [
    "asthma=pd.read_csv('asthma.csv')"
   ]
  },
  {
   "cell_type": "code",
   "execution_count": 4,
   "id": "b0511955",
   "metadata": {},
   "outputs": [],
   "source": [
    "autism=pd.read_csv('autism.csv')"
   ]
  },
  {
   "cell_type": "code",
   "execution_count": 5,
   "id": "4fe29bf6",
   "metadata": {},
   "outputs": [],
   "source": [
    "dengue=pd.read_csv('dengue.csv')"
   ]
  },
  {
   "cell_type": "code",
   "execution_count": 6,
   "id": "b037a7d1",
   "metadata": {},
   "outputs": [],
   "source": [
    "fever=pd.read_csv('fever.csv')"
   ]
  },
  {
   "cell_type": "code",
   "execution_count": 7,
   "id": "7228d099",
   "metadata": {},
   "outputs": [],
   "source": [
    "flu=pd.read_csv('flu.csv')"
   ]
  },
  {
   "cell_type": "code",
   "execution_count": 8,
   "id": "f9a029dd",
   "metadata": {},
   "outputs": [],
   "source": [
    "nausea=pd.read_csv('nausea.csv')"
   ]
  },
  {
   "cell_type": "code",
   "execution_count": 9,
   "id": "478be299",
   "metadata": {},
   "outputs": [],
   "source": [
    "obesity=pd.read_csv('obesity.csv')"
   ]
  },
  {
   "cell_type": "code",
   "execution_count": 10,
   "id": "5574d34e",
   "metadata": {},
   "outputs": [],
   "source": [
    "pneumonia=pd.read_csv('pneumonia.csv')"
   ]
  },
  {
   "cell_type": "code",
   "execution_count": null,
   "id": "be69d824",
   "metadata": {},
   "outputs": [],
   "source": []
  },
  {
   "cell_type": "code",
   "execution_count": null,
   "id": "35f2be8e",
   "metadata": {},
   "outputs": [],
   "source": []
  },
  {
   "cell_type": "code",
   "execution_count": null,
   "id": "58c61cb8",
   "metadata": {},
   "outputs": [],
   "source": [
    "data=pd.concat(['anemia,'])"
   ]
  }
 ],
 "metadata": {
  "kernelspec": {
   "display_name": "Python 3 (ipykernel)",
   "language": "python",
   "name": "python3"
  },
  "language_info": {
   "codemirror_mode": {
    "name": "ipython",
    "version": 3
   },
   "file_extension": ".py",
   "mimetype": "text/x-python",
   "name": "python",
   "nbconvert_exporter": "python",
   "pygments_lexer": "ipython3",
   "version": "3.10.5"
  }
 },
 "nbformat": 4,
 "nbformat_minor": 5
}
