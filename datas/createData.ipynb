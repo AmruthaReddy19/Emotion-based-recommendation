{
 "cells": [
  {
   "cell_type": "code",
   "execution_count": 1,
   "id": "a56b260f",
   "metadata": {},
   "outputs": [],
   "source": [
    "import pandas as pd"
   ]
  },
  {
   "cell_type": "markdown",
   "id": "57c80155",
   "metadata": {},
   "source": [
    "### asthma"
   ]
  },
  {
   "cell_type": "code",
   "execution_count": 63,
   "id": "024bedb0",
   "metadata": {},
   "outputs": [],
   "source": [
    "asthma_data=pd.read_csv('n_asthma.csv')"
   ]
  },
  {
   "cell_type": "code",
   "execution_count": 64,
   "id": "eb43df9c",
   "metadata": {},
   "outputs": [
    {
     "data": {
      "text/html": [
       "<div>\n",
       "<style scoped>\n",
       "    .dataframe tbody tr th:only-of-type {\n",
       "        vertical-align: middle;\n",
       "    }\n",
       "\n",
       "    .dataframe tbody tr th {\n",
       "        vertical-align: top;\n",
       "    }\n",
       "\n",
       "    .dataframe thead th {\n",
       "        text-align: right;\n",
       "    }\n",
       "</style>\n",
       "<table border=\"1\" class=\"dataframe\">\n",
       "  <thead>\n",
       "    <tr style=\"text-align: right;\">\n",
       "      <th></th>\n",
       "      <th>id</th>\n",
       "      <th>Time</th>\n",
       "      <th>Tweet</th>\n",
       "    </tr>\n",
       "  </thead>\n",
       "  <tbody>\n",
       "    <tr>\n",
       "      <th>0</th>\n",
       "      <td>845658145</td>\n",
       "      <td>2023-02-14 15:40:38+00:00</td>\n",
       "      <td>b'RT @NIHRCRN_yorks: A patient in Yorkshire an...</td>\n",
       "    </tr>\n",
       "    <tr>\n",
       "      <th>1</th>\n",
       "      <td>1169775415</td>\n",
       "      <td>2023-02-14 15:40:12+00:00</td>\n",
       "      <td>b'STEELE Water Fact- When dehydrated, airways ...</td>\n",
       "    </tr>\n",
       "    <tr>\n",
       "      <th>2</th>\n",
       "      <td>837186017501331456</td>\n",
       "      <td>2023-02-14 15:39:49+00:00</td>\n",
       "      <td>b\"@ShieldMouse NO BC I'M CRYING LIKE IM ABT TO...</td>\n",
       "    </tr>\n",
       "    <tr>\n",
       "      <th>3</th>\n",
       "      <td>1281186137109925893</td>\n",
       "      <td>2023-02-14 15:39:48+00:00</td>\n",
       "      <td>b'\"Love is in the air\"\\n\\nAsthma patients : ht...</td>\n",
       "    </tr>\n",
       "    <tr>\n",
       "      <th>4</th>\n",
       "      <td>2976676220</td>\n",
       "      <td>2023-02-14 15:39:44+00:00</td>\n",
       "      <td>b'Tigas ulo nag mango shake pa ako. Tonsilliti...</td>\n",
       "    </tr>\n",
       "  </tbody>\n",
       "</table>\n",
       "</div>"
      ],
      "text/plain": [
       "                    id                       Time  \\\n",
       "0            845658145  2023-02-14 15:40:38+00:00   \n",
       "1           1169775415  2023-02-14 15:40:12+00:00   \n",
       "2   837186017501331456  2023-02-14 15:39:49+00:00   \n",
       "3  1281186137109925893  2023-02-14 15:39:48+00:00   \n",
       "4           2976676220  2023-02-14 15:39:44+00:00   \n",
       "\n",
       "                                               Tweet  \n",
       "0  b'RT @NIHRCRN_yorks: A patient in Yorkshire an...  \n",
       "1  b'STEELE Water Fact- When dehydrated, airways ...  \n",
       "2  b\"@ShieldMouse NO BC I'M CRYING LIKE IM ABT TO...  \n",
       "3  b'\"Love is in the air\"\\n\\nAsthma patients : ht...  \n",
       "4  b'Tigas ulo nag mango shake pa ako. Tonsilliti...  "
      ]
     },
     "execution_count": 64,
     "metadata": {},
     "output_type": "execute_result"
    }
   ],
   "source": [
    "asthma_data.head()"
   ]
  },
  {
   "cell_type": "code",
   "execution_count": 72,
   "id": "0119b92b",
   "metadata": {
    "scrolled": true
   },
   "outputs": [
    {
     "name": "stdout",
     "output_type": "stream",
     "text": [
      "<class 'pandas.core.frame.DataFrame'>\n",
      "Int64Index: 532 entries, 1 to 870\n",
      "Data columns (total 3 columns):\n",
      " #   Column  Non-Null Count  Dtype \n",
      "---  ------  --------------  ----- \n",
      " 0   id      532 non-null    int64 \n",
      " 1   Time    532 non-null    object\n",
      " 2   Tweet   532 non-null    object\n",
      "dtypes: int64(1), object(2)\n",
      "memory usage: 16.6+ KB\n"
     ]
    }
   ],
   "source": [
    "asthma_data.info()"
   ]
  },
  {
   "cell_type": "code",
   "execution_count": 73,
   "id": "17e1ad9c",
   "metadata": {},
   "outputs": [],
   "source": [
    "asthma_data.drop_duplicates(subset=\"Tweet\",keep=False, inplace=True)"
   ]
  },
  {
   "cell_type": "code",
   "execution_count": 74,
   "id": "7daa353f",
   "metadata": {},
   "outputs": [],
   "source": [
    "asthma_data.drop_duplicates(subset=\"Time\",keep=False, inplace=True)"
   ]
  },
  {
   "cell_type": "code",
   "execution_count": 75,
   "id": "77bacfc4",
   "metadata": {},
   "outputs": [],
   "source": [
    "asthma_data.to_csv('asthma.csv')"
   ]
  },
  {
   "cell_type": "markdown",
   "id": "712e9145",
   "metadata": {},
   "source": [
    "## dengue"
   ]
  },
  {
   "cell_type": "code",
   "execution_count": 121,
   "id": "678f09ab",
   "metadata": {},
   "outputs": [],
   "source": [
    "dengue_data=pd.read_csv('n_dengue.csv')"
   ]
  },
  {
   "cell_type": "code",
   "execution_count": 126,
   "id": "ddb60c18",
   "metadata": {},
   "outputs": [
    {
     "name": "stdout",
     "output_type": "stream",
     "text": [
      "<class 'pandas.core.frame.DataFrame'>\n",
      "Int64Index: 4491 entries, 3 to 8482\n",
      "Data columns (total 3 columns):\n",
      " #   Column  Non-Null Count  Dtype \n",
      "---  ------  --------------  ----- \n",
      " 0   id      4491 non-null   object\n",
      " 1   Time    4491 non-null   object\n",
      " 2   Tweet   4491 non-null   object\n",
      "dtypes: object(3)\n",
      "memory usage: 140.3+ KB\n"
     ]
    }
   ],
   "source": [
    "dengue_data.info()"
   ]
  },
  {
   "cell_type": "code",
   "execution_count": 123,
   "id": "513e6e49",
   "metadata": {},
   "outputs": [],
   "source": [
    "dengue_data.drop_duplicates(subset=\"Tweet\",keep=False, inplace=True)"
   ]
  },
  {
   "cell_type": "code",
   "execution_count": 124,
   "id": "40093257",
   "metadata": {},
   "outputs": [],
   "source": [
    "dengue_data.drop_duplicates(subset=\"Time\",keep=False, inplace=True)"
   ]
  },
  {
   "cell_type": "code",
   "execution_count": 125,
   "id": "2a141c02",
   "metadata": {},
   "outputs": [],
   "source": [
    "dengue_data.to_csv('dengue.csv')"
   ]
  },
  {
   "cell_type": "markdown",
   "id": "50e04c67",
   "metadata": {},
   "source": [
    "### nausea"
   ]
  },
  {
   "cell_type": "code",
   "execution_count": 71,
   "id": "de998ba1",
   "metadata": {
    "scrolled": false
   },
   "outputs": [],
   "source": [
    "nausea_data=pd.read_csv('n_nausea.csv')"
   ]
  },
  {
   "cell_type": "code",
   "execution_count": 79,
   "id": "a03c390e",
   "metadata": {
    "scrolled": true
   },
   "outputs": [
    {
     "name": "stdout",
     "output_type": "stream",
     "text": [
      "<class 'pandas.core.frame.DataFrame'>\n",
      "Int64Index: 316 entries, 0 to 483\n",
      "Data columns (total 3 columns):\n",
      " #   Column  Non-Null Count  Dtype \n",
      "---  ------  --------------  ----- \n",
      " 0   id      316 non-null    int64 \n",
      " 1   Time    316 non-null    object\n",
      " 2   Tweet   316 non-null    object\n",
      "dtypes: int64(1), object(2)\n",
      "memory usage: 9.9+ KB\n"
     ]
    }
   ],
   "source": [
    "nausea_data.info()"
   ]
  },
  {
   "cell_type": "code",
   "execution_count": 77,
   "id": "4ad2bffa",
   "metadata": {},
   "outputs": [],
   "source": [
    "nausea_data.drop_duplicates(subset=\"Tweet\",keep=False, inplace=True)"
   ]
  },
  {
   "cell_type": "code",
   "execution_count": 78,
   "id": "d5ced943",
   "metadata": {},
   "outputs": [],
   "source": [
    "nausea_data.drop_duplicates(subset=\"Time\",keep=False, inplace=True)"
   ]
  },
  {
   "cell_type": "code",
   "execution_count": 81,
   "id": "e3c55609",
   "metadata": {},
   "outputs": [],
   "source": [
    "nausea_data.to_csv('nausea.csv')"
   ]
  },
  {
   "cell_type": "markdown",
   "id": "dfe2f16e",
   "metadata": {},
   "source": [
    "## sinus"
   ]
  },
  {
   "cell_type": "code",
   "execution_count": 82,
   "id": "7025db73",
   "metadata": {},
   "outputs": [],
   "source": [
    "sinus_data=pd.read_csv('n_sinus.csv')"
   ]
  },
  {
   "cell_type": "code",
   "execution_count": 86,
   "id": "9092afc2",
   "metadata": {
    "scrolled": true
   },
   "outputs": [
    {
     "name": "stdout",
     "output_type": "stream",
     "text": [
      "<class 'pandas.core.frame.DataFrame'>\n",
      "Int64Index: 1039 entries, 0 to 1451\n",
      "Data columns (total 3 columns):\n",
      " #   Column  Non-Null Count  Dtype \n",
      "---  ------  --------------  ----- \n",
      " 0   id      1039 non-null   int64 \n",
      " 1   Time    1039 non-null   object\n",
      " 2   Tweet   1039 non-null   object\n",
      "dtypes: int64(1), object(2)\n",
      "memory usage: 32.5+ KB\n"
     ]
    }
   ],
   "source": [
    "sinus_data.info()"
   ]
  },
  {
   "cell_type": "code",
   "execution_count": 84,
   "id": "ca2c8300",
   "metadata": {},
   "outputs": [],
   "source": [
    "sinus_data.drop_duplicates(subset=\"Tweet\",keep=False, inplace=True)"
   ]
  },
  {
   "cell_type": "code",
   "execution_count": 85,
   "id": "ad379d34",
   "metadata": {},
   "outputs": [],
   "source": [
    "sinus_data.drop_duplicates(subset=\"Time\",keep=False, inplace=True)"
   ]
  },
  {
   "cell_type": "code",
   "execution_count": null,
   "id": "76bb100c",
   "metadata": {},
   "outputs": [],
   "source": []
  },
  {
   "cell_type": "code",
   "execution_count": 87,
   "id": "ac629a69",
   "metadata": {},
   "outputs": [],
   "source": [
    "sinus_data.to_csv('sinus.csv')"
   ]
  },
  {
   "cell_type": "code",
   "execution_count": 88,
   "id": "d96cdb88",
   "metadata": {},
   "outputs": [],
   "source": [
    "si=pd.read_csv('sinus.csv')"
   ]
  },
  {
   "cell_type": "code",
   "execution_count": 89,
   "id": "f46be98c",
   "metadata": {},
   "outputs": [
    {
     "name": "stdout",
     "output_type": "stream",
     "text": [
      "<class 'pandas.core.frame.DataFrame'>\n",
      "RangeIndex: 412 entries, 0 to 411\n",
      "Data columns (total 4 columns):\n",
      " #   Column      Non-Null Count  Dtype  \n",
      "---  ------      --------------  -----  \n",
      " 0   Unnamed: 0  412 non-null    int64  \n",
      " 1   id          412 non-null    float64\n",
      " 2   Time        412 non-null    object \n",
      " 3   Tweet       412 non-null    object \n",
      "dtypes: float64(1), int64(1), object(2)\n",
      "memory usage: 13.0+ KB\n"
     ]
    }
   ],
   "source": [
    "si.info()"
   ]
  },
  {
   "cell_type": "markdown",
   "id": "b5d76e60",
   "metadata": {},
   "source": [
    "## anemia"
   ]
  },
  {
   "cell_type": "code",
   "execution_count": 113,
   "id": "632e77bb",
   "metadata": {},
   "outputs": [],
   "source": [
    "anemia_data=pd.read_csv('n_anemia.csv')"
   ]
  },
  {
   "cell_type": "code",
   "execution_count": 117,
   "id": "c3153457",
   "metadata": {},
   "outputs": [
    {
     "name": "stdout",
     "output_type": "stream",
     "text": [
      "<class 'pandas.core.frame.DataFrame'>\n",
      "Int64Index: 679 entries, 1 to 1362\n",
      "Data columns (total 3 columns):\n",
      " #   Column  Non-Null Count  Dtype \n",
      "---  ------  --------------  ----- \n",
      " 0   id      679 non-null    int64 \n",
      " 1   Time    679 non-null    object\n",
      " 2   Tweet   679 non-null    object\n",
      "dtypes: int64(1), object(2)\n",
      "memory usage: 21.2+ KB\n"
     ]
    }
   ],
   "source": [
    "anemia_data.info()"
   ]
  },
  {
   "cell_type": "code",
   "execution_count": 115,
   "id": "da666e9c",
   "metadata": {},
   "outputs": [],
   "source": [
    "anemia_data.drop_duplicates(subset=\"Tweet\",keep=False, inplace=True)"
   ]
  },
  {
   "cell_type": "code",
   "execution_count": 116,
   "id": "dfb72343",
   "metadata": {},
   "outputs": [],
   "source": [
    "anemia_data.drop_duplicates(subset=\"Time\",keep=False, inplace=True)"
   ]
  },
  {
   "cell_type": "code",
   "execution_count": 118,
   "id": "15292c0c",
   "metadata": {},
   "outputs": [],
   "source": [
    "anemia_data.to_csv('anemia.csv')"
   ]
  },
  {
   "cell_type": "markdown",
   "id": "1b89d3b3",
   "metadata": {},
   "source": [
    "## autism"
   ]
  },
  {
   "cell_type": "code",
   "execution_count": 119,
   "id": "3e5e12ae",
   "metadata": {},
   "outputs": [],
   "source": [
    "autism_data= pd.read_csv('n_autism.csv')"
   ]
  },
  {
   "cell_type": "code",
   "execution_count": 120,
   "id": "db75b192",
   "metadata": {},
   "outputs": [
    {
     "name": "stdout",
     "output_type": "stream",
     "text": [
      "<class 'pandas.core.frame.DataFrame'>\n",
      "RangeIndex: 5302 entries, 0 to 5301\n",
      "Data columns (total 3 columns):\n",
      " #   Column  Non-Null Count  Dtype \n",
      "---  ------  --------------  ----- \n",
      " 0   id      5302 non-null   int64 \n",
      " 1   Time    5302 non-null   object\n",
      " 2   Tweet   5302 non-null   object\n",
      "dtypes: int64(1), object(2)\n",
      "memory usage: 124.4+ KB\n"
     ]
    }
   ],
   "source": [
    "autism_data.info()"
   ]
  },
  {
   "cell_type": "code",
   "execution_count": 40,
   "id": "74a951e5",
   "metadata": {},
   "outputs": [],
   "source": [
    "autism_data.to_csv('autism.csv')"
   ]
  },
  {
   "cell_type": "markdown",
   "id": "3704c935",
   "metadata": {},
   "source": [
    "## fever"
   ]
  },
  {
   "cell_type": "code",
   "execution_count": 90,
   "id": "f970fc81",
   "metadata": {},
   "outputs": [],
   "source": [
    "fever_data=pd.read_csv('n_fever.csv')"
   ]
  },
  {
   "cell_type": "code",
   "execution_count": 95,
   "id": "5a87c41c",
   "metadata": {},
   "outputs": [
    {
     "name": "stdout",
     "output_type": "stream",
     "text": [
      "<class 'pandas.core.frame.DataFrame'>\n",
      "Int64Index: 333 entries, 0 to 642\n",
      "Data columns (total 3 columns):\n",
      " #   Column  Non-Null Count  Dtype \n",
      "---  ------  --------------  ----- \n",
      " 0   id      333 non-null    int64 \n",
      " 1   Time    333 non-null    object\n",
      " 2   Tweet   333 non-null    object\n",
      "dtypes: int64(1), object(2)\n",
      "memory usage: 10.4+ KB\n"
     ]
    }
   ],
   "source": [
    "fever_data.info()"
   ]
  },
  {
   "cell_type": "code",
   "execution_count": 92,
   "id": "09d6e311",
   "metadata": {},
   "outputs": [],
   "source": [
    "fever_data.drop_duplicates(subset=\"Tweet\",keep=False, inplace=True)"
   ]
  },
  {
   "cell_type": "code",
   "execution_count": 93,
   "id": "57c629f8",
   "metadata": {},
   "outputs": [],
   "source": [
    "fever_data.drop_duplicates(subset=\"Time\",keep=False, inplace=True)"
   ]
  },
  {
   "cell_type": "code",
   "execution_count": 94,
   "id": "5ec15958",
   "metadata": {},
   "outputs": [],
   "source": [
    "fever_data.to_csv('fever.csv')"
   ]
  },
  {
   "cell_type": "markdown",
   "id": "819fffbb",
   "metadata": {},
   "source": [
    "## flu"
   ]
  },
  {
   "cell_type": "code",
   "execution_count": 96,
   "id": "a50345e3",
   "metadata": {},
   "outputs": [],
   "source": [
    "flu_data=pd.read_csv('n_flu.csv')"
   ]
  },
  {
   "cell_type": "code",
   "execution_count": 101,
   "id": "093c163d",
   "metadata": {
    "scrolled": true
   },
   "outputs": [
    {
     "name": "stdout",
     "output_type": "stream",
     "text": [
      "<class 'pandas.core.frame.DataFrame'>\n",
      "Int64Index: 409 entries, 0 to 767\n",
      "Data columns (total 3 columns):\n",
      " #   Column  Non-Null Count  Dtype \n",
      "---  ------  --------------  ----- \n",
      " 0   id      409 non-null    int64 \n",
      " 1   Time    409 non-null    object\n",
      " 2   Tweet   409 non-null    object\n",
      "dtypes: int64(1), object(2)\n",
      "memory usage: 12.8+ KB\n"
     ]
    }
   ],
   "source": [
    "flu_data.info()"
   ]
  },
  {
   "cell_type": "code",
   "execution_count": 98,
   "id": "8d291496",
   "metadata": {},
   "outputs": [],
   "source": [
    "flu_data.drop_duplicates(subset=\"Tweet\",keep=False, inplace=True)"
   ]
  },
  {
   "cell_type": "code",
   "execution_count": 99,
   "id": "e58aedcc",
   "metadata": {},
   "outputs": [],
   "source": [
    "flu_data.drop_duplicates(subset=\"Time\",keep=False, inplace=True)"
   ]
  },
  {
   "cell_type": "code",
   "execution_count": 100,
   "id": "4ffb1c04",
   "metadata": {},
   "outputs": [],
   "source": [
    "flu_data.to_csv('flu.csv')"
   ]
  },
  {
   "cell_type": "markdown",
   "id": "e7ecf2b5",
   "metadata": {},
   "source": [
    "## pneumonia"
   ]
  },
  {
   "cell_type": "code",
   "execution_count": 110,
   "id": "935b1a13",
   "metadata": {},
   "outputs": [],
   "source": [
    "pneumonia_data=pd.read_csv('n_pneumonia.csv')"
   ]
  },
  {
   "cell_type": "code",
   "execution_count": 111,
   "id": "388440a4",
   "metadata": {
    "scrolled": true
   },
   "outputs": [
    {
     "name": "stdout",
     "output_type": "stream",
     "text": [
      "<class 'pandas.core.frame.DataFrame'>\n",
      "RangeIndex: 268 entries, 0 to 267\n",
      "Data columns (total 3 columns):\n",
      " #   Column  Non-Null Count  Dtype \n",
      "---  ------  --------------  ----- \n",
      " 0   id      268 non-null    object\n",
      " 1   Time    268 non-null    object\n",
      " 2   Tweet   268 non-null    object\n",
      "dtypes: object(3)\n",
      "memory usage: 6.4+ KB\n"
     ]
    }
   ],
   "source": [
    "pneumonia_data.info()"
   ]
  },
  {
   "cell_type": "code",
   "execution_count": 112,
   "id": "acf217be",
   "metadata": {},
   "outputs": [],
   "source": [
    "pneumonia_data.to_csv('pneumonia.csv')"
   ]
  },
  {
   "cell_type": "code",
   "execution_count": 127,
   "id": "a71da926",
   "metadata": {},
   "outputs": [],
   "source": [
    "anxiety_data=pd.read_csv('n_anxiety.csv')"
   ]
  },
  {
   "cell_type": "code",
   "execution_count": 131,
   "id": "69704991",
   "metadata": {},
   "outputs": [
    {
     "name": "stdout",
     "output_type": "stream",
     "text": [
      "<class 'pandas.core.frame.DataFrame'>\n",
      "Int64Index: 688 entries, 0 to 1357\n",
      "Data columns (total 3 columns):\n",
      " #   Column  Non-Null Count  Dtype \n",
      "---  ------  --------------  ----- \n",
      " 0   id      688 non-null    object\n",
      " 1   Time    688 non-null    object\n",
      " 2   Tweet   688 non-null    object\n",
      "dtypes: object(3)\n",
      "memory usage: 21.5+ KB\n"
     ]
    }
   ],
   "source": [
    "anxiety_data.info()"
   ]
  },
  {
   "cell_type": "code",
   "execution_count": 129,
   "id": "4dba71c5",
   "metadata": {},
   "outputs": [],
   "source": [
    "anxiety_data.drop_duplicates(subset=\"Tweet\",keep=False, inplace=True)"
   ]
  },
  {
   "cell_type": "code",
   "execution_count": 130,
   "id": "3c173f9b",
   "metadata": {},
   "outputs": [],
   "source": [
    "anxiety_data.drop_duplicates(subset=\"Time\",keep=False, inplace=True)"
   ]
  },
  {
   "cell_type": "code",
   "execution_count": 132,
   "id": "2e05fc62",
   "metadata": {},
   "outputs": [],
   "source": [
    "anxiety_data.to_csv('axiety.csv')"
   ]
  },
  {
   "cell_type": "code",
   "execution_count": 133,
   "id": "a105bfb2",
   "metadata": {},
   "outputs": [],
   "source": [
    "indigestion_data=pd.read_csv('n_indigestion.csv')"
   ]
  },
  {
   "cell_type": "code",
   "execution_count": 137,
   "id": "29d40b40",
   "metadata": {},
   "outputs": [
    {
     "name": "stdout",
     "output_type": "stream",
     "text": [
      "<class 'pandas.core.frame.DataFrame'>\n",
      "Int64Index: 2390 entries, 0 to 3243\n",
      "Data columns (total 3 columns):\n",
      " #   Column  Non-Null Count  Dtype \n",
      "---  ------  --------------  ----- \n",
      " 0   id      2390 non-null   int64 \n",
      " 1   Time    2390 non-null   object\n",
      " 2   Tweet   2390 non-null   object\n",
      "dtypes: int64(1), object(2)\n",
      "memory usage: 74.7+ KB\n"
     ]
    }
   ],
   "source": [
    "indigestion_data.info()"
   ]
  },
  {
   "cell_type": "code",
   "execution_count": 135,
   "id": "6c40cdbb",
   "metadata": {},
   "outputs": [],
   "source": [
    "indigestion_data.drop_duplicates(subset=\"Tweet\",keep=False, inplace=True)"
   ]
  },
  {
   "cell_type": "code",
   "execution_count": 136,
   "id": "eba1177f",
   "metadata": {},
   "outputs": [],
   "source": [
    "indigestion_data.drop_duplicates(subset=\"Time\",keep=False, inplace=True)"
   ]
  },
  {
   "cell_type": "code",
   "execution_count": 138,
   "id": "9a46854b",
   "metadata": {},
   "outputs": [],
   "source": [
    "allergy_data=pd.read_csv('n_allergy.csv')"
   ]
  },
  {
   "cell_type": "code",
   "execution_count": 142,
   "id": "b224b3d1",
   "metadata": {},
   "outputs": [
    {
     "name": "stdout",
     "output_type": "stream",
     "text": [
      "<class 'pandas.core.frame.DataFrame'>\n",
      "Int64Index: 857 entries, 0 to 1457\n",
      "Data columns (total 3 columns):\n",
      " #   Column  Non-Null Count  Dtype \n",
      "---  ------  --------------  ----- \n",
      " 0   id      857 non-null    int64 \n",
      " 1   Time    857 non-null    object\n",
      " 2   Tweet   857 non-null    object\n",
      "dtypes: int64(1), object(2)\n",
      "memory usage: 26.8+ KB\n"
     ]
    }
   ],
   "source": [
    "allergy_data.info()"
   ]
  },
  {
   "cell_type": "code",
   "execution_count": 140,
   "id": "bc70e913",
   "metadata": {},
   "outputs": [],
   "source": [
    "allergy_data.drop_duplicates(subset=\"Tweet\",keep=False, inplace=True)"
   ]
  },
  {
   "cell_type": "code",
   "execution_count": 141,
   "id": "1168f711",
   "metadata": {},
   "outputs": [],
   "source": [
    "allergy_data.drop_duplicates(subset=\"Time\",keep=False, inplace=True)"
   ]
  },
  {
   "cell_type": "code",
   "execution_count": 143,
   "id": "22a9e05d",
   "metadata": {},
   "outputs": [],
   "source": [
    "allergy_data.to_csv('allergy.csv')"
   ]
  },
  {
   "cell_type": "code",
   "execution_count": null,
   "id": "dd8095ff",
   "metadata": {},
   "outputs": [],
   "source": []
  }
 ],
 "metadata": {
  "kernelspec": {
   "display_name": "Python 3 (ipykernel)",
   "language": "python",
   "name": "python3"
  },
  "language_info": {
   "codemirror_mode": {
    "name": "ipython",
    "version": 3
   },
   "file_extension": ".py",
   "mimetype": "text/x-python",
   "name": "python",
   "nbconvert_exporter": "python",
   "pygments_lexer": "ipython3",
   "version": "3.10.5"
  }
 },
 "nbformat": 4,
 "nbformat_minor": 5
}
