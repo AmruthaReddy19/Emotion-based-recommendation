{
 "cells": [
  {
   "cell_type": "code",
   "execution_count": 2,
   "id": "2bd26f2c",
   "metadata": {},
   "outputs": [],
   "source": [
    "import pandas as pd\n"
   ]
  },
  {
   "cell_type": "code",
   "execution_count": 3,
   "id": "6b84228e",
   "metadata": {},
   "outputs": [],
   "source": [
    "df=pd.read_csv('predata.csv')"
   ]
  },
  {
   "cell_type": "code",
   "execution_count": 4,
   "id": "824d5951",
   "metadata": {},
   "outputs": [],
   "source": [
    "df['Tweet']=df['Tweet'].str.lower()"
   ]
  },
  {
   "cell_type": "code",
   "execution_count": 5,
   "id": "327b782f",
   "metadata": {},
   "outputs": [
    {
     "data": {
      "text/html": [
       "<div>\n",
       "<style scoped>\n",
       "    .dataframe tbody tr th:only-of-type {\n",
       "        vertical-align: middle;\n",
       "    }\n",
       "\n",
       "    .dataframe tbody tr th {\n",
       "        vertical-align: top;\n",
       "    }\n",
       "\n",
       "    .dataframe thead th {\n",
       "        text-align: right;\n",
       "    }\n",
       "</style>\n",
       "<table border=\"1\" class=\"dataframe\">\n",
       "  <thead>\n",
       "    <tr style=\"text-align: right;\">\n",
       "      <th></th>\n",
       "      <th>Unnamed: 0</th>\n",
       "      <th>id</th>\n",
       "      <th>Time</th>\n",
       "      <th>Tweet</th>\n",
       "      <th>Processed_Tweets</th>\n",
       "    </tr>\n",
       "  </thead>\n",
       "  <tbody>\n",
       "    <tr>\n",
       "      <th>0</th>\n",
       "      <td>0</td>\n",
       "      <td>4047408077</td>\n",
       "      <td>2023-02-14 17:55:24+00:00</td>\n",
       "      <td>b'@oljog1 had one for my asthma'</td>\n",
       "      <td>b'oneasthma'</td>\n",
       "    </tr>\n",
       "    <tr>\n",
       "      <th>1</th>\n",
       "      <td>1</td>\n",
       "      <td>3320788901</td>\n",
       "      <td>2023-02-14 17:55:18+00:00</td>\n",
       "      <td>b'@native3rd deep breathing, mindfulness, and ...</td>\n",
       "      <td>b'deepbreathing,mindfulness,listeningbodylearn...</td>\n",
       "    </tr>\n",
       "    <tr>\n",
       "      <th>2</th>\n",
       "      <td>2</td>\n",
       "      <td>4039664782</td>\n",
       "      <td>2023-02-14 17:55:08+00:00</td>\n",
       "      <td>b'@fordf35022 @black_gato_xy @krassenstein als...</td>\n",
       "      <td>b'alsoseatbeltlaws,cancertreatments,bloodpress...</td>\n",
       "    </tr>\n",
       "    <tr>\n",
       "      <th>3</th>\n",
       "      <td>3</td>\n",
       "      <td>62240256</td>\n",
       "      <td>2023-02-14 17:55:00+00:00</td>\n",
       "      <td>b'#generictiotropium inhalation powder capsule...</td>\n",
       "      <td>b'generictiotropiuminhalationpowdercapsules$.\\...</td>\n",
       "    </tr>\n",
       "    <tr>\n",
       "      <th>4</th>\n",
       "      <td>4</td>\n",
       "      <td>1510427631249887238</td>\n",
       "      <td>2023-02-14 17:52:16+00:00</td>\n",
       "      <td>b'@tracyelrod5 and those were all useless. we ...</td>\n",
       "      <td>b'useless.needednmasksunavailable.however,even...</td>\n",
       "    </tr>\n",
       "    <tr>\n",
       "      <th>...</th>\n",
       "      <td>...</td>\n",
       "      <td>...</td>\n",
       "      <td>...</td>\n",
       "      <td>...</td>\n",
       "      <td>...</td>\n",
       "    </tr>\n",
       "    <tr>\n",
       "      <th>30572</th>\n",
       "      <td>30572</td>\n",
       "      <td>1476742116</td>\n",
       "      <td>2023-02-14 15:52:23+00:00</td>\n",
       "      <td>b'learning #disabilities and disorders: types ...</td>\n",
       "      <td>b'learningdisabilitiesdisorders:typeslearningd...</td>\n",
       "    </tr>\n",
       "    <tr>\n",
       "      <th>30573</th>\n",
       "      <td>30573</td>\n",
       "      <td>334714751</td>\n",
       "      <td>2023-02-14 15:52:16+00:00</td>\n",
       "      <td>b'this tweet is to remind myself that whatever...</td>\n",
       "      <td>b'thistweetremindwhateverautismmomentnewdaysee...</td>\n",
       "    </tr>\n",
       "    <tr>\n",
       "      <th>30574</th>\n",
       "      <td>30574</td>\n",
       "      <td>729753956843323392</td>\n",
       "      <td>2023-02-14 15:52:15+00:00</td>\n",
       "      <td>b'@nainboruto no i disagree with the merging o...</td>\n",
       "      <td>b'disagreemergingaspergersautismoneumbrelladia...</td>\n",
       "    </tr>\n",
       "    <tr>\n",
       "      <th>30575</th>\n",
       "      <td>30575</td>\n",
       "      <td>23563381</td>\n",
       "      <td>2023-02-14 15:52:06+00:00</td>\n",
       "      <td>b'i took a couple autism quizzes online today....</td>\n",
       "      <td>b'tookcoupleautismquizzesonlinetoday.moderate....</td>\n",
       "    </tr>\n",
       "    <tr>\n",
       "      <th>30576</th>\n",
       "      <td>30576</td>\n",
       "      <td>1359489880812847106</td>\n",
       "      <td>2023-02-14 15:51:59+00:00</td>\n",
       "      <td>b'@csimons3 @hollie110 @jesusislord2222 @arlen...</td>\n",
       "      <td>b'...</td>\n",
       "    </tr>\n",
       "  </tbody>\n",
       "</table>\n",
       "<p>30577 rows × 5 columns</p>\n",
       "</div>"
      ],
      "text/plain": [
       "       Unnamed: 0                   id                       Time  \\\n",
       "0               0           4047408077  2023-02-14 17:55:24+00:00   \n",
       "1               1           3320788901  2023-02-14 17:55:18+00:00   \n",
       "2               2           4039664782  2023-02-14 17:55:08+00:00   \n",
       "3               3             62240256  2023-02-14 17:55:00+00:00   \n",
       "4               4  1510427631249887238  2023-02-14 17:52:16+00:00   \n",
       "...           ...                  ...                        ...   \n",
       "30572       30572           1476742116  2023-02-14 15:52:23+00:00   \n",
       "30573       30573            334714751  2023-02-14 15:52:16+00:00   \n",
       "30574       30574   729753956843323392  2023-02-14 15:52:15+00:00   \n",
       "30575       30575             23563381  2023-02-14 15:52:06+00:00   \n",
       "30576       30576  1359489880812847106  2023-02-14 15:51:59+00:00   \n",
       "\n",
       "                                                   Tweet  \\\n",
       "0                       b'@oljog1 had one for my asthma'   \n",
       "1      b'@native3rd deep breathing, mindfulness, and ...   \n",
       "2      b'@fordf35022 @black_gato_xy @krassenstein als...   \n",
       "3      b'#generictiotropium inhalation powder capsule...   \n",
       "4      b'@tracyelrod5 and those were all useless. we ...   \n",
       "...                                                  ...   \n",
       "30572  b'learning #disabilities and disorders: types ...   \n",
       "30573  b'this tweet is to remind myself that whatever...   \n",
       "30574  b'@nainboruto no i disagree with the merging o...   \n",
       "30575  b'i took a couple autism quizzes online today....   \n",
       "30576  b'@csimons3 @hollie110 @jesusislord2222 @arlen...   \n",
       "\n",
       "                                        Processed_Tweets  \n",
       "0                                           b'oneasthma'  \n",
       "1      b'deepbreathing,mindfulness,listeningbodylearn...  \n",
       "2      b'alsoseatbeltlaws,cancertreatments,bloodpress...  \n",
       "3      b'generictiotropiuminhalationpowdercapsules$.\\...  \n",
       "4      b'useless.needednmasksunavailable.however,even...  \n",
       "...                                                  ...  \n",
       "30572  b'learningdisabilitiesdisorders:typeslearningd...  \n",
       "30573  b'thistweetremindwhateverautismmomentnewdaysee...  \n",
       "30574  b'disagreemergingaspergersautismoneumbrelladia...  \n",
       "30575  b'tookcoupleautismquizzesonlinetoday.moderate....  \n",
       "30576                                              b'...  \n",
       "\n",
       "[30577 rows x 5 columns]"
      ]
     },
     "execution_count": 5,
     "metadata": {},
     "output_type": "execute_result"
    }
   ],
   "source": [
    "df"
   ]
  },
  {
   "cell_type": "code",
   "execution_count": 16,
   "id": "b963a34d",
   "metadata": {},
   "outputs": [],
   "source": [
    "diseases=['asthma','autism','dengue','fever','flu','nausea','anxiety','sprain','stroke','obesity']"
   ]
  },
  {
   "cell_type": "code",
   "execution_count": 17,
   "id": "8adfaebc",
   "metadata": {},
   "outputs": [
    {
     "data": {
      "text/plain": [
       "['asthma',\n",
       " 'autism',\n",
       " 'dengue',\n",
       " 'fever',\n",
       " 'flu',\n",
       " 'nausea',\n",
       " 'anxiety',\n",
       " 'sprain',\n",
       " 'stroke',\n",
       " 'obesity']"
      ]
     },
     "execution_count": 17,
     "metadata": {},
     "output_type": "execute_result"
    }
   ],
   "source": [
    "diseases"
   ]
  },
  {
   "cell_type": "code",
   "execution_count": 18,
   "id": "42d98041",
   "metadata": {},
   "outputs": [],
   "source": [
    "tw=[]\n",
    "for i in df['Tweet']:\n",
    "    tw.append(i)"
   ]
  },
  {
   "cell_type": "code",
   "execution_count": 19,
   "id": "cc0db4e4",
   "metadata": {},
   "outputs": [
    {
     "data": {
      "text/plain": [
       "30577"
      ]
     },
     "execution_count": 19,
     "metadata": {},
     "output_type": "execute_result"
    }
   ],
   "source": [
    "len(tw)"
   ]
  },
  {
   "cell_type": "code",
   "execution_count": 20,
   "id": "1cee0842",
   "metadata": {},
   "outputs": [],
   "source": [
    "tag=[]\n",
    "flag=False\n",
    "for i in range(0,len(tw)):\n",
    "    for j in range(0,len(diseases)):\n",
    "        if(tw[i].find(diseases[j])>0):\n",
    "            tag.append(diseases[j])\n",
    "            flag=True\n",
    "            break\n",
    "    if(flag != True):\n",
    "        tag.append('NIL')\n",
    "    flag=False"
   ]
  },
  {
   "cell_type": "code",
   "execution_count": 21,
   "id": "e5107654",
   "metadata": {},
   "outputs": [
    {
     "data": {
      "text/plain": [
       "30577"
      ]
     },
     "execution_count": 21,
     "metadata": {},
     "output_type": "execute_result"
    }
   ],
   "source": [
    "len(tag)"
   ]
  },
  {
   "cell_type": "code",
   "execution_count": 22,
   "id": "5a9d6a6c",
   "metadata": {},
   "outputs": [],
   "source": [
    "df['tags']=tag"
   ]
  },
  {
   "cell_type": "code",
   "execution_count": 23,
   "id": "8a9ac4ab",
   "metadata": {},
   "outputs": [
    {
     "data": {
      "text/html": [
       "<div>\n",
       "<style scoped>\n",
       "    .dataframe tbody tr th:only-of-type {\n",
       "        vertical-align: middle;\n",
       "    }\n",
       "\n",
       "    .dataframe tbody tr th {\n",
       "        vertical-align: top;\n",
       "    }\n",
       "\n",
       "    .dataframe thead th {\n",
       "        text-align: right;\n",
       "    }\n",
       "</style>\n",
       "<table border=\"1\" class=\"dataframe\">\n",
       "  <thead>\n",
       "    <tr style=\"text-align: right;\">\n",
       "      <th></th>\n",
       "      <th>Unnamed: 0</th>\n",
       "      <th>id</th>\n",
       "      <th>Time</th>\n",
       "      <th>Tweet</th>\n",
       "      <th>Processed_Tweets</th>\n",
       "      <th>tags</th>\n",
       "    </tr>\n",
       "  </thead>\n",
       "  <tbody>\n",
       "    <tr>\n",
       "      <th>0</th>\n",
       "      <td>0</td>\n",
       "      <td>4047408077</td>\n",
       "      <td>2023-02-14 17:55:24+00:00</td>\n",
       "      <td>b'@oljog1 had one for my asthma'</td>\n",
       "      <td>b'oneasthma'</td>\n",
       "      <td>asthma</td>\n",
       "    </tr>\n",
       "    <tr>\n",
       "      <th>1</th>\n",
       "      <td>1</td>\n",
       "      <td>3320788901</td>\n",
       "      <td>2023-02-14 17:55:18+00:00</td>\n",
       "      <td>b'@native3rd deep breathing, mindfulness, and ...</td>\n",
       "      <td>b'deepbreathing,mindfulness,listeningbodylearn...</td>\n",
       "      <td>NIL</td>\n",
       "    </tr>\n",
       "    <tr>\n",
       "      <th>2</th>\n",
       "      <td>2</td>\n",
       "      <td>4039664782</td>\n",
       "      <td>2023-02-14 17:55:08+00:00</td>\n",
       "      <td>b'@fordf35022 @black_gato_xy @krassenstein als...</td>\n",
       "      <td>b'alsoseatbeltlaws,cancertreatments,bloodpress...</td>\n",
       "      <td>asthma</td>\n",
       "    </tr>\n",
       "    <tr>\n",
       "      <th>3</th>\n",
       "      <td>3</td>\n",
       "      <td>62240256</td>\n",
       "      <td>2023-02-14 17:55:00+00:00</td>\n",
       "      <td>b'#generictiotropium inhalation powder capsule...</td>\n",
       "      <td>b'generictiotropiuminhalationpowdercapsules$.\\...</td>\n",
       "      <td>NIL</td>\n",
       "    </tr>\n",
       "    <tr>\n",
       "      <th>4</th>\n",
       "      <td>4</td>\n",
       "      <td>1510427631249887238</td>\n",
       "      <td>2023-02-14 17:52:16+00:00</td>\n",
       "      <td>b'@tracyelrod5 and those were all useless. we ...</td>\n",
       "      <td>b'useless.needednmasksunavailable.however,even...</td>\n",
       "      <td>NIL</td>\n",
       "    </tr>\n",
       "    <tr>\n",
       "      <th>...</th>\n",
       "      <td>...</td>\n",
       "      <td>...</td>\n",
       "      <td>...</td>\n",
       "      <td>...</td>\n",
       "      <td>...</td>\n",
       "      <td>...</td>\n",
       "    </tr>\n",
       "    <tr>\n",
       "      <th>30572</th>\n",
       "      <td>30572</td>\n",
       "      <td>1476742116</td>\n",
       "      <td>2023-02-14 15:52:23+00:00</td>\n",
       "      <td>b'learning #disabilities and disorders: types ...</td>\n",
       "      <td>b'learningdisabilitiesdisorders:typeslearningd...</td>\n",
       "      <td>NIL</td>\n",
       "    </tr>\n",
       "    <tr>\n",
       "      <th>30573</th>\n",
       "      <td>30573</td>\n",
       "      <td>334714751</td>\n",
       "      <td>2023-02-14 15:52:16+00:00</td>\n",
       "      <td>b'this tweet is to remind myself that whatever...</td>\n",
       "      <td>b'thistweetremindwhateverautismmomentnewdaysee...</td>\n",
       "      <td>autism</td>\n",
       "    </tr>\n",
       "    <tr>\n",
       "      <th>30574</th>\n",
       "      <td>30574</td>\n",
       "      <td>729753956843323392</td>\n",
       "      <td>2023-02-14 15:52:15+00:00</td>\n",
       "      <td>b'@nainboruto no i disagree with the merging o...</td>\n",
       "      <td>b'disagreemergingaspergersautismoneumbrelladia...</td>\n",
       "      <td>autism</td>\n",
       "    </tr>\n",
       "    <tr>\n",
       "      <th>30575</th>\n",
       "      <td>30575</td>\n",
       "      <td>23563381</td>\n",
       "      <td>2023-02-14 15:52:06+00:00</td>\n",
       "      <td>b'i took a couple autism quizzes online today....</td>\n",
       "      <td>b'tookcoupleautismquizzesonlinetoday.moderate....</td>\n",
       "      <td>autism</td>\n",
       "    </tr>\n",
       "    <tr>\n",
       "      <th>30576</th>\n",
       "      <td>30576</td>\n",
       "      <td>1359489880812847106</td>\n",
       "      <td>2023-02-14 15:51:59+00:00</td>\n",
       "      <td>b'@csimons3 @hollie110 @jesusislord2222 @arlen...</td>\n",
       "      <td>b'...</td>\n",
       "      <td>NIL</td>\n",
       "    </tr>\n",
       "  </tbody>\n",
       "</table>\n",
       "<p>30577 rows × 6 columns</p>\n",
       "</div>"
      ],
      "text/plain": [
       "       Unnamed: 0                   id                       Time  \\\n",
       "0               0           4047408077  2023-02-14 17:55:24+00:00   \n",
       "1               1           3320788901  2023-02-14 17:55:18+00:00   \n",
       "2               2           4039664782  2023-02-14 17:55:08+00:00   \n",
       "3               3             62240256  2023-02-14 17:55:00+00:00   \n",
       "4               4  1510427631249887238  2023-02-14 17:52:16+00:00   \n",
       "...           ...                  ...                        ...   \n",
       "30572       30572           1476742116  2023-02-14 15:52:23+00:00   \n",
       "30573       30573            334714751  2023-02-14 15:52:16+00:00   \n",
       "30574       30574   729753956843323392  2023-02-14 15:52:15+00:00   \n",
       "30575       30575             23563381  2023-02-14 15:52:06+00:00   \n",
       "30576       30576  1359489880812847106  2023-02-14 15:51:59+00:00   \n",
       "\n",
       "                                                   Tweet  \\\n",
       "0                       b'@oljog1 had one for my asthma'   \n",
       "1      b'@native3rd deep breathing, mindfulness, and ...   \n",
       "2      b'@fordf35022 @black_gato_xy @krassenstein als...   \n",
       "3      b'#generictiotropium inhalation powder capsule...   \n",
       "4      b'@tracyelrod5 and those were all useless. we ...   \n",
       "...                                                  ...   \n",
       "30572  b'learning #disabilities and disorders: types ...   \n",
       "30573  b'this tweet is to remind myself that whatever...   \n",
       "30574  b'@nainboruto no i disagree with the merging o...   \n",
       "30575  b'i took a couple autism quizzes online today....   \n",
       "30576  b'@csimons3 @hollie110 @jesusislord2222 @arlen...   \n",
       "\n",
       "                                        Processed_Tweets    tags  \n",
       "0                                           b'oneasthma'  asthma  \n",
       "1      b'deepbreathing,mindfulness,listeningbodylearn...     NIL  \n",
       "2      b'alsoseatbeltlaws,cancertreatments,bloodpress...  asthma  \n",
       "3      b'generictiotropiuminhalationpowdercapsules$.\\...     NIL  \n",
       "4      b'useless.needednmasksunavailable.however,even...     NIL  \n",
       "...                                                  ...     ...  \n",
       "30572  b'learningdisabilitiesdisorders:typeslearningd...     NIL  \n",
       "30573  b'thistweetremindwhateverautismmomentnewdaysee...  autism  \n",
       "30574  b'disagreemergingaspergersautismoneumbrelladia...  autism  \n",
       "30575  b'tookcoupleautismquizzesonlinetoday.moderate....  autism  \n",
       "30576                                              b'...     NIL  \n",
       "\n",
       "[30577 rows x 6 columns]"
      ]
     },
     "execution_count": 23,
     "metadata": {},
     "output_type": "execute_result"
    }
   ],
   "source": [
    "df"
   ]
  },
  {
   "cell_type": "code",
   "execution_count": 24,
   "id": "de519321",
   "metadata": {},
   "outputs": [
    {
     "data": {
      "text/plain": [
       "9268"
      ]
     },
     "execution_count": 24,
     "metadata": {},
     "output_type": "execute_result"
    }
   ],
   "source": [
    "(df['tags']=='NIL').sum()"
   ]
  },
  {
   "cell_type": "code",
   "execution_count": 26,
   "id": "971e4b58",
   "metadata": {},
   "outputs": [],
   "source": [
    "df.drop('Unnamed: 0',axis=1,inplace=True)"
   ]
  },
  {
   "cell_type": "code",
   "execution_count": 27,
   "id": "0f97a181",
   "metadata": {},
   "outputs": [
    {
     "data": {
      "text/html": [
       "<div>\n",
       "<style scoped>\n",
       "    .dataframe tbody tr th:only-of-type {\n",
       "        vertical-align: middle;\n",
       "    }\n",
       "\n",
       "    .dataframe tbody tr th {\n",
       "        vertical-align: top;\n",
       "    }\n",
       "\n",
       "    .dataframe thead th {\n",
       "        text-align: right;\n",
       "    }\n",
       "</style>\n",
       "<table border=\"1\" class=\"dataframe\">\n",
       "  <thead>\n",
       "    <tr style=\"text-align: right;\">\n",
       "      <th></th>\n",
       "      <th>id</th>\n",
       "      <th>Time</th>\n",
       "      <th>Tweet</th>\n",
       "      <th>Processed_Tweets</th>\n",
       "      <th>tags</th>\n",
       "    </tr>\n",
       "  </thead>\n",
       "  <tbody>\n",
       "    <tr>\n",
       "      <th>0</th>\n",
       "      <td>4047408077</td>\n",
       "      <td>2023-02-14 17:55:24+00:00</td>\n",
       "      <td>b'@oljog1 had one for my asthma'</td>\n",
       "      <td>b'oneasthma'</td>\n",
       "      <td>asthma</td>\n",
       "    </tr>\n",
       "    <tr>\n",
       "      <th>1</th>\n",
       "      <td>3320788901</td>\n",
       "      <td>2023-02-14 17:55:18+00:00</td>\n",
       "      <td>b'@native3rd deep breathing, mindfulness, and ...</td>\n",
       "      <td>b'deepbreathing,mindfulness,listeningbodylearn...</td>\n",
       "      <td>NIL</td>\n",
       "    </tr>\n",
       "    <tr>\n",
       "      <th>2</th>\n",
       "      <td>4039664782</td>\n",
       "      <td>2023-02-14 17:55:08+00:00</td>\n",
       "      <td>b'@fordf35022 @black_gato_xy @krassenstein als...</td>\n",
       "      <td>b'alsoseatbeltlaws,cancertreatments,bloodpress...</td>\n",
       "      <td>asthma</td>\n",
       "    </tr>\n",
       "    <tr>\n",
       "      <th>3</th>\n",
       "      <td>62240256</td>\n",
       "      <td>2023-02-14 17:55:00+00:00</td>\n",
       "      <td>b'#generictiotropium inhalation powder capsule...</td>\n",
       "      <td>b'generictiotropiuminhalationpowdercapsules$.\\...</td>\n",
       "      <td>NIL</td>\n",
       "    </tr>\n",
       "    <tr>\n",
       "      <th>4</th>\n",
       "      <td>1510427631249887238</td>\n",
       "      <td>2023-02-14 17:52:16+00:00</td>\n",
       "      <td>b'@tracyelrod5 and those were all useless. we ...</td>\n",
       "      <td>b'useless.needednmasksunavailable.however,even...</td>\n",
       "      <td>NIL</td>\n",
       "    </tr>\n",
       "  </tbody>\n",
       "</table>\n",
       "</div>"
      ],
      "text/plain": [
       "                    id                       Time  \\\n",
       "0           4047408077  2023-02-14 17:55:24+00:00   \n",
       "1           3320788901  2023-02-14 17:55:18+00:00   \n",
       "2           4039664782  2023-02-14 17:55:08+00:00   \n",
       "3             62240256  2023-02-14 17:55:00+00:00   \n",
       "4  1510427631249887238  2023-02-14 17:52:16+00:00   \n",
       "\n",
       "                                               Tweet  \\\n",
       "0                   b'@oljog1 had one for my asthma'   \n",
       "1  b'@native3rd deep breathing, mindfulness, and ...   \n",
       "2  b'@fordf35022 @black_gato_xy @krassenstein als...   \n",
       "3  b'#generictiotropium inhalation powder capsule...   \n",
       "4  b'@tracyelrod5 and those were all useless. we ...   \n",
       "\n",
       "                                    Processed_Tweets    tags  \n",
       "0                                       b'oneasthma'  asthma  \n",
       "1  b'deepbreathing,mindfulness,listeningbodylearn...     NIL  \n",
       "2  b'alsoseatbeltlaws,cancertreatments,bloodpress...  asthma  \n",
       "3  b'generictiotropiuminhalationpowdercapsules$.\\...     NIL  \n",
       "4  b'useless.needednmasksunavailable.however,even...     NIL  "
      ]
     },
     "execution_count": 27,
     "metadata": {},
     "output_type": "execute_result"
    }
   ],
   "source": [
    "df.head()"
   ]
  },
  {
   "cell_type": "code",
   "execution_count": 28,
   "id": "c996c7d7",
   "metadata": {},
   "outputs": [],
   "source": [
    "df.to_csv('labelled_data.csv')"
   ]
  },
  {
   "cell_type": "code",
   "execution_count": 29,
   "id": "3af959df",
   "metadata": {},
   "outputs": [
    {
     "data": {
      "text/plain": [
       "NIL        9268\n",
       "fever      5211\n",
       "nausea     4052\n",
       "sprain     2689\n",
       "stroke     2406\n",
       "anxiety    1631\n",
       "flu        1432\n",
       "obesity    1378\n",
       "autism      982\n",
       "asthma      794\n",
       "dengue      734\n",
       "Name: tags, dtype: int64"
      ]
     },
     "execution_count": 29,
     "metadata": {},
     "output_type": "execute_result"
    }
   ],
   "source": [
    "df['tags'].value_counts()"
   ]
  },
  {
   "cell_type": "code",
   "execution_count": 33,
   "id": "3775798f",
   "metadata": {},
   "outputs": [],
   "source": [
    "df_fever=df[df['tags']=='fever'][:750]"
   ]
  },
  {
   "cell_type": "code",
   "execution_count": 34,
   "id": "a3a79101",
   "metadata": {},
   "outputs": [],
   "source": [
    "df_nausea=df[df['tags']=='nausea'][:750]"
   ]
  },
  {
   "cell_type": "code",
   "execution_count": 35,
   "id": "c9544045",
   "metadata": {},
   "outputs": [],
   "source": [
    "df_sprain=df[df['tags']=='sprain'][:750]"
   ]
  },
  {
   "cell_type": "code",
   "execution_count": 36,
   "id": "f77e7239",
   "metadata": {},
   "outputs": [],
   "source": [
    "df_stroke=df[df['tags']=='stroke'][:750]"
   ]
  },
  {
   "cell_type": "code",
   "execution_count": 37,
   "id": "a7eb324c",
   "metadata": {},
   "outputs": [],
   "source": [
    "df_anxiety=df[df['tags']=='anxiety'][:750]"
   ]
  },
  {
   "cell_type": "code",
   "execution_count": 38,
   "id": "43d771d9",
   "metadata": {},
   "outputs": [],
   "source": [
    "df_flu=df[df['tags']=='flu'][:750]"
   ]
  },
  {
   "cell_type": "code",
   "execution_count": 39,
   "id": "b6e6eb35",
   "metadata": {},
   "outputs": [],
   "source": [
    "df_obesity=df[df['tags']=='obesity'][:750]"
   ]
  },
  {
   "cell_type": "code",
   "execution_count": 40,
   "id": "d09f9129",
   "metadata": {},
   "outputs": [],
   "source": [
    "df_autism=df[df['tags']=='autism'][:750]"
   ]
  },
  {
   "cell_type": "code",
   "execution_count": 41,
   "id": "331c199c",
   "metadata": {},
   "outputs": [],
   "source": [
    "df_asthma=df[df['tags']=='asthma'][:750]"
   ]
  },
  {
   "cell_type": "code",
   "execution_count": 73,
   "id": "c865ab64",
   "metadata": {},
   "outputs": [],
   "source": [
    "df_dengue=df[df['tags']=='dengue'][:730]"
   ]
  },
  {
   "cell_type": "code",
   "execution_count": 90,
   "id": "1153689d",
   "metadata": {
    "scrolled": true
   },
   "outputs": [],
   "source": [
    "data=pd.concat([df_fever,df_nausea,df_sprain,df_stroke,df_anxiety,df_flu,df_obesity,df_autism,df_asthma,df_dengue])"
   ]
  },
  {
   "cell_type": "code",
   "execution_count": 91,
   "id": "b5bbd904",
   "metadata": {},
   "outputs": [
    {
     "data": {
      "text/html": [
       "<div>\n",
       "<style scoped>\n",
       "    .dataframe tbody tr th:only-of-type {\n",
       "        vertical-align: middle;\n",
       "    }\n",
       "\n",
       "    .dataframe tbody tr th {\n",
       "        vertical-align: top;\n",
       "    }\n",
       "\n",
       "    .dataframe thead th {\n",
       "        text-align: right;\n",
       "    }\n",
       "</style>\n",
       "<table border=\"1\" class=\"dataframe\">\n",
       "  <thead>\n",
       "    <tr style=\"text-align: right;\">\n",
       "      <th></th>\n",
       "      <th>id</th>\n",
       "      <th>Time</th>\n",
       "      <th>Tweet</th>\n",
       "      <th>Processed_Tweets</th>\n",
       "      <th>tags</th>\n",
       "    </tr>\n",
       "  </thead>\n",
       "  <tbody>\n",
       "    <tr>\n",
       "      <th>3763</th>\n",
       "      <td>1578527198734065664</td>\n",
       "      <td>2023-02-13 17:09:44+00:00</td>\n",
       "      <td>b'runny nose tear eyes fever headache loss of ...</td>\n",
       "      <td>b'runnynoseteareyesfeverheadachelossappetitech...</td>\n",
       "      <td>fever</td>\n",
       "    </tr>\n",
       "    <tr>\n",
       "      <th>3860</th>\n",
       "      <td>49049956</td>\n",
       "      <td>2023-02-13 15:34:08+00:00</td>\n",
       "      <td>b'@katkinneywrites i have hot/cold sometimes. ...</td>\n",
       "      <td>b'hot/coldsometimes.usuallycoldmeansthingsturn...</td>\n",
       "      <td>fever</td>\n",
       "    </tr>\n",
       "    <tr>\n",
       "      <th>3950</th>\n",
       "      <td>92341784</td>\n",
       "      <td>2023-02-13 13:57:31+00:00</td>\n",
       "      <td>b'cytomegalovirus colitis - complication when ...</td>\n",
       "      <td>b'cytomegaloviruscolitis-complicationcd&amp;lt;cel...</td>\n",
       "      <td>fever</td>\n",
       "    </tr>\n",
       "    <tr>\n",
       "      <th>4020</th>\n",
       "      <td>1179433528687239173</td>\n",
       "      <td>2023-02-13 11:38:54+00:00</td>\n",
       "      <td>b'@fatalkci l know otli and matli for nausea a...</td>\n",
       "      <td>b'lknowotlimatlinauseavomiting.\\nsar-me-daradh...</td>\n",
       "      <td>fever</td>\n",
       "    </tr>\n",
       "    <tr>\n",
       "      <th>4297</th>\n",
       "      <td>856681920</td>\n",
       "      <td>2023-02-13 01:57:45+00:00</td>\n",
       "      <td>b'went from a fever to a cough to a sore throa...</td>\n",
       "      <td>b'wentfevercoughsorethroatflupermasneezingnose...</td>\n",
       "      <td>fever</td>\n",
       "    </tr>\n",
       "    <tr>\n",
       "      <th>...</th>\n",
       "      <td>...</td>\n",
       "      <td>...</td>\n",
       "      <td>...</td>\n",
       "      <td>...</td>\n",
       "      <td>...</td>\n",
       "    </tr>\n",
       "    <tr>\n",
       "      <th>22754</th>\n",
       "      <td>705162643</td>\n",
       "      <td>2023-02-05 11:45:11+00:00</td>\n",
       "      <td>b'#nowplaying jump (mega banton) by dengue fev...</td>\n",
       "      <td>b'nowplayingjump(megabanton)denguefeverriddiml...</td>\n",
       "      <td>dengue</td>\n",
       "    </tr>\n",
       "    <tr>\n",
       "      <th>22755</th>\n",
       "      <td>63543042</td>\n",
       "      <td>2023-02-05 11:35:22+00:00</td>\n",
       "      <td>b\"rt @chris_c_chapman: blood counts still very...</td>\n",
       "      <td>b''rt:bloodcountsstilllow.startedgo,showsdengu...</td>\n",
       "      <td>dengue</td>\n",
       "    </tr>\n",
       "    <tr>\n",
       "      <th>22756</th>\n",
       "      <td>1273954059867701251</td>\n",
       "      <td>2023-02-05 11:30:20+00:00</td>\n",
       "      <td>b'rt @shukladeepak73: different activities by ...</td>\n",
       "      <td>b'rt:differentactivitiesbccfembedproject.\\nmal...</td>\n",
       "      <td>dengue</td>\n",
       "    </tr>\n",
       "    <tr>\n",
       "      <th>22757</th>\n",
       "      <td>3306545726</td>\n",
       "      <td>2023-02-05 11:26:45+00:00</td>\n",
       "      <td>b'dengue: 1 more dies, 5 patients hospitalised...</td>\n",
       "      <td>b'dengue:dies,patientshospitalised\\ndenguebang...</td>\n",
       "      <td>dengue</td>\n",
       "    </tr>\n",
       "    <tr>\n",
       "      <th>22759</th>\n",
       "      <td>1282362054200958978</td>\n",
       "      <td>2023-02-05 11:14:11+00:00</td>\n",
       "      <td>b\"if only your name rhymed with dengue shock s...</td>\n",
       "      <td>b''namerhymeddengueshocksyndrome-inducingconsu...</td>\n",
       "      <td>dengue</td>\n",
       "    </tr>\n",
       "  </tbody>\n",
       "</table>\n",
       "<p>7480 rows × 5 columns</p>\n",
       "</div>"
      ],
      "text/plain": [
       "                        id                       Time  \\\n",
       "3763   1578527198734065664  2023-02-13 17:09:44+00:00   \n",
       "3860              49049956  2023-02-13 15:34:08+00:00   \n",
       "3950              92341784  2023-02-13 13:57:31+00:00   \n",
       "4020   1179433528687239173  2023-02-13 11:38:54+00:00   \n",
       "4297             856681920  2023-02-13 01:57:45+00:00   \n",
       "...                    ...                        ...   \n",
       "22754            705162643  2023-02-05 11:45:11+00:00   \n",
       "22755             63543042  2023-02-05 11:35:22+00:00   \n",
       "22756  1273954059867701251  2023-02-05 11:30:20+00:00   \n",
       "22757           3306545726  2023-02-05 11:26:45+00:00   \n",
       "22759  1282362054200958978  2023-02-05 11:14:11+00:00   \n",
       "\n",
       "                                                   Tweet  \\\n",
       "3763   b'runny nose tear eyes fever headache loss of ...   \n",
       "3860   b'@katkinneywrites i have hot/cold sometimes. ...   \n",
       "3950   b'cytomegalovirus colitis - complication when ...   \n",
       "4020   b'@fatalkci l know otli and matli for nausea a...   \n",
       "4297   b'went from a fever to a cough to a sore throa...   \n",
       "...                                                  ...   \n",
       "22754  b'#nowplaying jump (mega banton) by dengue fev...   \n",
       "22755  b\"rt @chris_c_chapman: blood counts still very...   \n",
       "22756  b'rt @shukladeepak73: different activities by ...   \n",
       "22757  b'dengue: 1 more dies, 5 patients hospitalised...   \n",
       "22759  b\"if only your name rhymed with dengue shock s...   \n",
       "\n",
       "                                        Processed_Tweets    tags  \n",
       "3763   b'runnynoseteareyesfeverheadachelossappetitech...   fever  \n",
       "3860   b'hot/coldsometimes.usuallycoldmeansthingsturn...   fever  \n",
       "3950   b'cytomegaloviruscolitis-complicationcd&lt;cel...   fever  \n",
       "4020   b'lknowotlimatlinauseavomiting.\\nsar-me-daradh...   fever  \n",
       "4297   b'wentfevercoughsorethroatflupermasneezingnose...   fever  \n",
       "...                                                  ...     ...  \n",
       "22754  b'nowplayingjump(megabanton)denguefeverriddiml...  dengue  \n",
       "22755  b''rt:bloodcountsstilllow.startedgo,showsdengu...  dengue  \n",
       "22756  b'rt:differentactivitiesbccfembedproject.\\nmal...  dengue  \n",
       "22757  b'dengue:dies,patientshospitalised\\ndenguebang...  dengue  \n",
       "22759  b''namerhymeddengueshocksyndrome-inducingconsu...  dengue  \n",
       "\n",
       "[7480 rows x 5 columns]"
      ]
     },
     "execution_count": 91,
     "metadata": {},
     "output_type": "execute_result"
    }
   ],
   "source": [
    "data"
   ]
  },
  {
   "cell_type": "code",
   "execution_count": 81,
   "id": "c81c5a56",
   "metadata": {},
   "outputs": [],
   "source": [
    "df_dengue1=pd.DataFrame(df_dengue)"
   ]
  },
  {
   "cell_type": "code",
   "execution_count": 82,
   "id": "2306e17b",
   "metadata": {},
   "outputs": [
    {
     "data": {
      "text/html": [
       "<div>\n",
       "<style scoped>\n",
       "    .dataframe tbody tr th:only-of-type {\n",
       "        vertical-align: middle;\n",
       "    }\n",
       "\n",
       "    .dataframe tbody tr th {\n",
       "        vertical-align: top;\n",
       "    }\n",
       "\n",
       "    .dataframe thead th {\n",
       "        text-align: right;\n",
       "    }\n",
       "</style>\n",
       "<table border=\"1\" class=\"dataframe\">\n",
       "  <thead>\n",
       "    <tr style=\"text-align: right;\">\n",
       "      <th></th>\n",
       "      <th>id</th>\n",
       "      <th>Time</th>\n",
       "      <th>Tweet</th>\n",
       "      <th>Processed_Tweets</th>\n",
       "      <th>tags</th>\n",
       "    </tr>\n",
       "  </thead>\n",
       "  <tbody>\n",
       "    <tr>\n",
       "      <th>21658</th>\n",
       "      <td>276271211</td>\n",
       "      <td>2023-02-14 17:58:29+00:00</td>\n",
       "      <td>b'rt @davidulin: an honor to publish four new ...</td>\n",
       "      <td>b'rt:honorpublishfournewpoemsmorning.\\n\\n''den...</td>\n",
       "      <td>dengue</td>\n",
       "    </tr>\n",
       "    <tr>\n",
       "      <th>21659</th>\n",
       "      <td>28222035</td>\n",
       "      <td>2023-02-14 17:43:11+00:00</td>\n",
       "      <td>b'an honor to publish four new poems by @clmer...</td>\n",
       "      <td>b'anhonorpublishfournewpoemsmorning.\\n\\n''deng...</td>\n",
       "      <td>dengue</td>\n",
       "    </tr>\n",
       "    <tr>\n",
       "      <th>21660</th>\n",
       "      <td>1608303387103092736</td>\n",
       "      <td>2023-02-14 17:39:01+00:00</td>\n",
       "      <td>b'rt @kcoh999: dengue infections on the rise; ...</td>\n",
       "      <td>b'rt:dengueinfectionsrise;outbreakclose,people...</td>\n",
       "      <td>dengue</td>\n",
       "    </tr>\n",
       "    <tr>\n",
       "      <th>21662</th>\n",
       "      <td>18649572</td>\n",
       "      <td>2023-02-14 17:16:51+00:00</td>\n",
       "      <td>b'all i listen to is alton ellis &amp;amp; dengue ...</td>\n",
       "      <td>b'alllistenaltonellis&amp;amp;denguedenguedengue.'</td>\n",
       "      <td>dengue</td>\n",
       "    </tr>\n",
       "    <tr>\n",
       "      <th>21663</th>\n",
       "      <td>1089517380907266049</td>\n",
       "      <td>2023-02-14 17:09:51+00:00</td>\n",
       "      <td>b'@longchar_amenla it sucks but theres not muc...</td>\n",
       "      <td>b'suckstheresmuch,livingalonedenguefarfaraw...</td>\n",
       "      <td>dengue</td>\n",
       "    </tr>\n",
       "    <tr>\n",
       "      <th>...</th>\n",
       "      <td>...</td>\n",
       "      <td>...</td>\n",
       "      <td>...</td>\n",
       "      <td>...</td>\n",
       "      <td>...</td>\n",
       "    </tr>\n",
       "    <tr>\n",
       "      <th>22754</th>\n",
       "      <td>705162643</td>\n",
       "      <td>2023-02-05 11:45:11+00:00</td>\n",
       "      <td>b'#nowplaying jump (mega banton) by dengue fev...</td>\n",
       "      <td>b'nowplayingjump(megabanton)denguefeverriddiml...</td>\n",
       "      <td>dengue</td>\n",
       "    </tr>\n",
       "    <tr>\n",
       "      <th>22755</th>\n",
       "      <td>63543042</td>\n",
       "      <td>2023-02-05 11:35:22+00:00</td>\n",
       "      <td>b\"rt @chris_c_chapman: blood counts still very...</td>\n",
       "      <td>b''rt:bloodcountsstilllow.startedgo,showsdengu...</td>\n",
       "      <td>dengue</td>\n",
       "    </tr>\n",
       "    <tr>\n",
       "      <th>22756</th>\n",
       "      <td>1273954059867701251</td>\n",
       "      <td>2023-02-05 11:30:20+00:00</td>\n",
       "      <td>b'rt @shukladeepak73: different activities by ...</td>\n",
       "      <td>b'rt:differentactivitiesbccfembedproject.\\nmal...</td>\n",
       "      <td>dengue</td>\n",
       "    </tr>\n",
       "    <tr>\n",
       "      <th>22757</th>\n",
       "      <td>3306545726</td>\n",
       "      <td>2023-02-05 11:26:45+00:00</td>\n",
       "      <td>b'dengue: 1 more dies, 5 patients hospitalised...</td>\n",
       "      <td>b'dengue:dies,patientshospitalised\\ndenguebang...</td>\n",
       "      <td>dengue</td>\n",
       "    </tr>\n",
       "    <tr>\n",
       "      <th>22759</th>\n",
       "      <td>1282362054200958978</td>\n",
       "      <td>2023-02-05 11:14:11+00:00</td>\n",
       "      <td>b\"if only your name rhymed with dengue shock s...</td>\n",
       "      <td>b''namerhymeddengueshocksyndrome-inducingconsu...</td>\n",
       "      <td>dengue</td>\n",
       "    </tr>\n",
       "  </tbody>\n",
       "</table>\n",
       "<p>730 rows × 5 columns</p>\n",
       "</div>"
      ],
      "text/plain": [
       "                        id                       Time  \\\n",
       "21658            276271211  2023-02-14 17:58:29+00:00   \n",
       "21659             28222035  2023-02-14 17:43:11+00:00   \n",
       "21660  1608303387103092736  2023-02-14 17:39:01+00:00   \n",
       "21662             18649572  2023-02-14 17:16:51+00:00   \n",
       "21663  1089517380907266049  2023-02-14 17:09:51+00:00   \n",
       "...                    ...                        ...   \n",
       "22754            705162643  2023-02-05 11:45:11+00:00   \n",
       "22755             63543042  2023-02-05 11:35:22+00:00   \n",
       "22756  1273954059867701251  2023-02-05 11:30:20+00:00   \n",
       "22757           3306545726  2023-02-05 11:26:45+00:00   \n",
       "22759  1282362054200958978  2023-02-05 11:14:11+00:00   \n",
       "\n",
       "                                                   Tweet  \\\n",
       "21658  b'rt @davidulin: an honor to publish four new ...   \n",
       "21659  b'an honor to publish four new poems by @clmer...   \n",
       "21660  b'rt @kcoh999: dengue infections on the rise; ...   \n",
       "21662  b'all i listen to is alton ellis &amp; dengue ...   \n",
       "21663  b'@longchar_amenla it sucks but theres not muc...   \n",
       "...                                                  ...   \n",
       "22754  b'#nowplaying jump (mega banton) by dengue fev...   \n",
       "22755  b\"rt @chris_c_chapman: blood counts still very...   \n",
       "22756  b'rt @shukladeepak73: different activities by ...   \n",
       "22757  b'dengue: 1 more dies, 5 patients hospitalised...   \n",
       "22759  b\"if only your name rhymed with dengue shock s...   \n",
       "\n",
       "                                        Processed_Tweets    tags  \n",
       "21658  b'rt:honorpublishfournewpoemsmorning.\\n\\n''den...  dengue  \n",
       "21659  b'anhonorpublishfournewpoemsmorning.\\n\\n''deng...  dengue  \n",
       "21660  b'rt:dengueinfectionsrise;outbreakclose,people...  dengue  \n",
       "21662     b'alllistenaltonellis&amp;denguedenguedengue.'  dengue  \n",
       "21663     b'suckstheresmuch,livingalonedenguefarfaraw...  dengue  \n",
       "...                                                  ...     ...  \n",
       "22754  b'nowplayingjump(megabanton)denguefeverriddiml...  dengue  \n",
       "22755  b''rt:bloodcountsstilllow.startedgo,showsdengu...  dengue  \n",
       "22756  b'rt:differentactivitiesbccfembedproject.\\nmal...  dengue  \n",
       "22757  b'dengue:dies,patientshospitalised\\ndenguebang...  dengue  \n",
       "22759  b''namerhymeddengueshocksyndrome-inducingconsu...  dengue  \n",
       "\n",
       "[730 rows x 5 columns]"
      ]
     },
     "execution_count": 82,
     "metadata": {},
     "output_type": "execute_result"
    }
   ],
   "source": [
    "df_dengue1"
   ]
  },
  {
   "cell_type": "code",
   "execution_count": 52,
   "id": "372baa6a",
   "metadata": {},
   "outputs": [],
   "source": [
    "df_fever1=pd.DataFrame(df_fever)"
   ]
  },
  {
   "cell_type": "code",
   "execution_count": 53,
   "id": "aefb7f51",
   "metadata": {},
   "outputs": [],
   "source": [
    "df_nausea1=pd.DataFrame(df_nausea)"
   ]
  },
  {
   "cell_type": "code",
   "execution_count": 54,
   "id": "13da162d",
   "metadata": {},
   "outputs": [],
   "source": [
    "df_sprain1=pd.DataFrame(df_sprain)"
   ]
  },
  {
   "cell_type": "code",
   "execution_count": 55,
   "id": "9d9b0cc5",
   "metadata": {},
   "outputs": [],
   "source": [
    "df_stroke1=pd.DataFrame(df_dengue)"
   ]
  },
  {
   "cell_type": "code",
   "execution_count": 56,
   "id": "0d3657ae",
   "metadata": {},
   "outputs": [],
   "source": [
    "df_anxiety1=pd.DataFrame(df_dengue)"
   ]
  },
  {
   "cell_type": "code",
   "execution_count": 57,
   "id": "5627c5c2",
   "metadata": {},
   "outputs": [],
   "source": [
    "df_flu1=pd.DataFrame(df_dengue)"
   ]
  },
  {
   "cell_type": "code",
   "execution_count": 58,
   "id": "9678ac4c",
   "metadata": {},
   "outputs": [],
   "source": [
    "df_obesity1=pd.DataFrame(df_obesity)"
   ]
  },
  {
   "cell_type": "code",
   "execution_count": 59,
   "id": "245ee635",
   "metadata": {},
   "outputs": [],
   "source": [
    "df_autism1=pd.DataFrame(df_autism)"
   ]
  },
  {
   "cell_type": "code",
   "execution_count": 83,
   "id": "5e9ed90a",
   "metadata": {},
   "outputs": [],
   "source": [
    "df_dengue1=pd.DataFrame(df_dengue)"
   ]
  },
  {
   "cell_type": "code",
   "execution_count": 84,
   "id": "225b5eff",
   "metadata": {},
   "outputs": [
    {
     "data": {
      "text/plain": [
       "pandas.core.frame.DataFrame"
      ]
     },
     "execution_count": 84,
     "metadata": {},
     "output_type": "execute_result"
    }
   ],
   "source": [
    "type(df_asthma1)"
   ]
  },
  {
   "cell_type": "code",
   "execution_count": 89,
   "id": "9005b765",
   "metadata": {},
   "outputs": [
    {
     "data": {
      "text/plain": [
       "730"
      ]
     },
     "execution_count": 89,
     "metadata": {},
     "output_type": "execute_result"
    }
   ],
   "source": [
    "(df_dengue['tags']=='dengue').sum()"
   ]
  },
  {
   "cell_type": "code",
   "execution_count": 88,
   "id": "5528120c",
   "metadata": {},
   "outputs": [
    {
     "data": {
      "text/html": [
       "<div>\n",
       "<style scoped>\n",
       "    .dataframe tbody tr th:only-of-type {\n",
       "        vertical-align: middle;\n",
       "    }\n",
       "\n",
       "    .dataframe tbody tr th {\n",
       "        vertical-align: top;\n",
       "    }\n",
       "\n",
       "    .dataframe thead th {\n",
       "        text-align: right;\n",
       "    }\n",
       "</style>\n",
       "<table border=\"1\" class=\"dataframe\">\n",
       "  <thead>\n",
       "    <tr style=\"text-align: right;\">\n",
       "      <th></th>\n",
       "      <th>id</th>\n",
       "      <th>Time</th>\n",
       "      <th>Tweet</th>\n",
       "      <th>Processed_Tweets</th>\n",
       "      <th>tags</th>\n",
       "    </tr>\n",
       "  </thead>\n",
       "  <tbody>\n",
       "    <tr>\n",
       "      <th>21658</th>\n",
       "      <td>276271211</td>\n",
       "      <td>2023-02-14 17:58:29+00:00</td>\n",
       "      <td>b'rt @davidulin: an honor to publish four new ...</td>\n",
       "      <td>b'rt:honorpublishfournewpoemsmorning.\\n\\n''den...</td>\n",
       "      <td>dengue</td>\n",
       "    </tr>\n",
       "    <tr>\n",
       "      <th>21659</th>\n",
       "      <td>28222035</td>\n",
       "      <td>2023-02-14 17:43:11+00:00</td>\n",
       "      <td>b'an honor to publish four new poems by @clmer...</td>\n",
       "      <td>b'anhonorpublishfournewpoemsmorning.\\n\\n''deng...</td>\n",
       "      <td>dengue</td>\n",
       "    </tr>\n",
       "    <tr>\n",
       "      <th>21660</th>\n",
       "      <td>1608303387103092736</td>\n",
       "      <td>2023-02-14 17:39:01+00:00</td>\n",
       "      <td>b'rt @kcoh999: dengue infections on the rise; ...</td>\n",
       "      <td>b'rt:dengueinfectionsrise;outbreakclose,people...</td>\n",
       "      <td>dengue</td>\n",
       "    </tr>\n",
       "    <tr>\n",
       "      <th>21662</th>\n",
       "      <td>18649572</td>\n",
       "      <td>2023-02-14 17:16:51+00:00</td>\n",
       "      <td>b'all i listen to is alton ellis &amp;amp; dengue ...</td>\n",
       "      <td>b'alllistenaltonellis&amp;amp;denguedenguedengue.'</td>\n",
       "      <td>dengue</td>\n",
       "    </tr>\n",
       "    <tr>\n",
       "      <th>21663</th>\n",
       "      <td>1089517380907266049</td>\n",
       "      <td>2023-02-14 17:09:51+00:00</td>\n",
       "      <td>b'@longchar_amenla it sucks but theres not muc...</td>\n",
       "      <td>b'suckstheresmuch,livingalonedenguefarfaraw...</td>\n",
       "      <td>dengue</td>\n",
       "    </tr>\n",
       "    <tr>\n",
       "      <th>...</th>\n",
       "      <td>...</td>\n",
       "      <td>...</td>\n",
       "      <td>...</td>\n",
       "      <td>...</td>\n",
       "      <td>...</td>\n",
       "    </tr>\n",
       "    <tr>\n",
       "      <th>22754</th>\n",
       "      <td>705162643</td>\n",
       "      <td>2023-02-05 11:45:11+00:00</td>\n",
       "      <td>b'#nowplaying jump (mega banton) by dengue fev...</td>\n",
       "      <td>b'nowplayingjump(megabanton)denguefeverriddiml...</td>\n",
       "      <td>dengue</td>\n",
       "    </tr>\n",
       "    <tr>\n",
       "      <th>22755</th>\n",
       "      <td>63543042</td>\n",
       "      <td>2023-02-05 11:35:22+00:00</td>\n",
       "      <td>b\"rt @chris_c_chapman: blood counts still very...</td>\n",
       "      <td>b''rt:bloodcountsstilllow.startedgo,showsdengu...</td>\n",
       "      <td>dengue</td>\n",
       "    </tr>\n",
       "    <tr>\n",
       "      <th>22756</th>\n",
       "      <td>1273954059867701251</td>\n",
       "      <td>2023-02-05 11:30:20+00:00</td>\n",
       "      <td>b'rt @shukladeepak73: different activities by ...</td>\n",
       "      <td>b'rt:differentactivitiesbccfembedproject.\\nmal...</td>\n",
       "      <td>dengue</td>\n",
       "    </tr>\n",
       "    <tr>\n",
       "      <th>22757</th>\n",
       "      <td>3306545726</td>\n",
       "      <td>2023-02-05 11:26:45+00:00</td>\n",
       "      <td>b'dengue: 1 more dies, 5 patients hospitalised...</td>\n",
       "      <td>b'dengue:dies,patientshospitalised\\ndenguebang...</td>\n",
       "      <td>dengue</td>\n",
       "    </tr>\n",
       "    <tr>\n",
       "      <th>22759</th>\n",
       "      <td>1282362054200958978</td>\n",
       "      <td>2023-02-05 11:14:11+00:00</td>\n",
       "      <td>b\"if only your name rhymed with dengue shock s...</td>\n",
       "      <td>b''namerhymeddengueshocksyndrome-inducingconsu...</td>\n",
       "      <td>dengue</td>\n",
       "    </tr>\n",
       "  </tbody>\n",
       "</table>\n",
       "<p>730 rows × 5 columns</p>\n",
       "</div>"
      ],
      "text/plain": [
       "                        id                       Time  \\\n",
       "21658            276271211  2023-02-14 17:58:29+00:00   \n",
       "21659             28222035  2023-02-14 17:43:11+00:00   \n",
       "21660  1608303387103092736  2023-02-14 17:39:01+00:00   \n",
       "21662             18649572  2023-02-14 17:16:51+00:00   \n",
       "21663  1089517380907266049  2023-02-14 17:09:51+00:00   \n",
       "...                    ...                        ...   \n",
       "22754            705162643  2023-02-05 11:45:11+00:00   \n",
       "22755             63543042  2023-02-05 11:35:22+00:00   \n",
       "22756  1273954059867701251  2023-02-05 11:30:20+00:00   \n",
       "22757           3306545726  2023-02-05 11:26:45+00:00   \n",
       "22759  1282362054200958978  2023-02-05 11:14:11+00:00   \n",
       "\n",
       "                                                   Tweet  \\\n",
       "21658  b'rt @davidulin: an honor to publish four new ...   \n",
       "21659  b'an honor to publish four new poems by @clmer...   \n",
       "21660  b'rt @kcoh999: dengue infections on the rise; ...   \n",
       "21662  b'all i listen to is alton ellis &amp; dengue ...   \n",
       "21663  b'@longchar_amenla it sucks but theres not muc...   \n",
       "...                                                  ...   \n",
       "22754  b'#nowplaying jump (mega banton) by dengue fev...   \n",
       "22755  b\"rt @chris_c_chapman: blood counts still very...   \n",
       "22756  b'rt @shukladeepak73: different activities by ...   \n",
       "22757  b'dengue: 1 more dies, 5 patients hospitalised...   \n",
       "22759  b\"if only your name rhymed with dengue shock s...   \n",
       "\n",
       "                                        Processed_Tweets    tags  \n",
       "21658  b'rt:honorpublishfournewpoemsmorning.\\n\\n''den...  dengue  \n",
       "21659  b'anhonorpublishfournewpoemsmorning.\\n\\n''deng...  dengue  \n",
       "21660  b'rt:dengueinfectionsrise;outbreakclose,people...  dengue  \n",
       "21662     b'alllistenaltonellis&amp;denguedenguedengue.'  dengue  \n",
       "21663     b'suckstheresmuch,livingalonedenguefarfaraw...  dengue  \n",
       "...                                                  ...     ...  \n",
       "22754  b'nowplayingjump(megabanton)denguefeverriddiml...  dengue  \n",
       "22755  b''rt:bloodcountsstilllow.startedgo,showsdengu...  dengue  \n",
       "22756  b'rt:differentactivitiesbccfembedproject.\\nmal...  dengue  \n",
       "22757  b'dengue:dies,patientshospitalised\\ndenguebang...  dengue  \n",
       "22759  b''namerhymeddengueshocksyndrome-inducingconsu...  dengue  \n",
       "\n",
       "[730 rows x 5 columns]"
      ]
     },
     "execution_count": 88,
     "metadata": {},
     "output_type": "execute_result"
    }
   ],
   "source": [
    "df_dengue1"
   ]
  },
  {
   "cell_type": "code",
   "execution_count": 93,
   "id": "68ac457c",
   "metadata": {},
   "outputs": [
    {
     "data": {
      "text/plain": [
       "fever      750\n",
       "nausea     750\n",
       "sprain     750\n",
       "stroke     750\n",
       "anxiety    750\n",
       "flu        750\n",
       "obesity    750\n",
       "autism     750\n",
       "asthma     750\n",
       "dengue     730\n",
       "Name: tags, dtype: int64"
      ]
     },
     "execution_count": 93,
     "metadata": {},
     "output_type": "execute_result"
    }
   ],
   "source": [
    "data['tags'].value_counts()"
   ]
  },
  {
   "cell_type": "code",
   "execution_count": 94,
   "id": "f46782e0",
   "metadata": {},
   "outputs": [],
   "source": [
    "data.to_csv('equalData.csv')"
   ]
  },
  {
   "cell_type": "code",
   "execution_count": null,
   "id": "9b8d2adb",
   "metadata": {},
   "outputs": [],
   "source": []
  }
 ],
 "metadata": {
  "kernelspec": {
   "display_name": "Python 3 (ipykernel)",
   "language": "python",
   "name": "python3"
  },
  "language_info": {
   "codemirror_mode": {
    "name": "ipython",
    "version": 3
   },
   "file_extension": ".py",
   "mimetype": "text/x-python",
   "name": "python",
   "nbconvert_exporter": "python",
   "pygments_lexer": "ipython3",
   "version": "3.10.5"
  }
 },
 "nbformat": 4,
 "nbformat_minor": 5
}
