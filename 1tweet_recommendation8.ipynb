{
 "cells": [
  {
   "cell_type": "code",
   "execution_count": 2,
   "id": "241f40e9",
   "metadata": {},
   "outputs": [],
   "source": [
    "import pandas as pd\n",
    "import re\n",
    "from nltk.tokenize import word_tokenize\n",
    "\n",
    "from nltk.stem import WordNetLemmatizer\n",
    "from nltk.corpus import stopwords, words\n",
    "\n",
    "from nltk.stem import PorterStemmer \n",
    "\n",
    "from nltk import pos_tag \n",
    "from textblob import TextBlob \n",
    "from wordcloud import WordCloud\n",
    "import numpy as np \n",
    "import re \n",
    "import string \n",
    "import glob \n"
   ]
  },
  {
   "cell_type": "code",
   "execution_count": 3,
   "id": "9c3c51e9",
   "metadata": {},
   "outputs": [
    {
     "name": "stderr",
     "output_type": "stream",
     "text": [
      "[nltk_data] Downloading package averaged_perceptron_tagger to\n",
      "[nltk_data]     C:\\Users\\Asus\\AppData\\Roaming\\nltk_data...\n",
      "[nltk_data]   Package averaged_perceptron_tagger is already up-to-\n",
      "[nltk_data]       date!\n",
      "[nltk_data] Downloading package stopwords to\n",
      "[nltk_data]     C:\\Users\\Asus\\AppData\\Roaming\\nltk_data...\n",
      "[nltk_data]   Package stopwords is already up-to-date!\n"
     ]
    },
    {
     "data": {
      "text/plain": [
       "True"
      ]
     },
     "execution_count": 3,
     "metadata": {},
     "output_type": "execute_result"
    }
   ],
   "source": [
    "import nltk\n",
    "from nltk.corpus import stopwords\n",
    "from tqdm import tqdm\n",
    "nltk.download('averaged_perceptron_tagger')\n",
    "nltk.download('stopwords')"
   ]
  },
  {
   "cell_type": "code",
   "execution_count": 413,
   "id": "0683375c",
   "metadata": {},
   "outputs": [],
   "source": [
    "tweet='struggle anxiety everyday im tired @kathyu'"
   ]
  },
  {
   "cell_type": "code",
   "execution_count": 414,
   "id": "a7df461d",
   "metadata": {},
   "outputs": [
    {
     "data": {
      "text/plain": [
       "'struggle anxiety everyday im tired @kathyu'"
      ]
     },
     "execution_count": 414,
     "metadata": {},
     "output_type": "execute_result"
    }
   ],
   "source": [
    "#preprocessing\n",
    "\n",
    "#lowercase conversion\n",
    "tweet.lower()\n",
    "\n",
    "#"
   ]
  },
  {
   "cell_type": "code",
   "execution_count": 415,
   "id": "6b4df96e",
   "metadata": {},
   "outputs": [],
   "source": [
    "#To remove Punctuation like link, emoji, etc\n",
    "def preprocessTweets(tweet):\n",
    "  tweet=tweet.lower()\n",
    "  #Remove Urls\n",
    "  tweet = re.sub(r\"http\\S+|www\\S+|https\\S+\", '', tweet)\n",
    "  #remove @reference and # from tweet\n",
    "  tweet = re.sub(r'\\@\\w+|\\#|\\d+','',tweet)\n",
    "  #remove stopword\n",
    "  tweet_token =word_tokenize(tweet) #Convert string to token\n",
    "  filtered_words =  [w for w in tweet_token if w not in stop_words]\n",
    "  #remove Punctuation\n",
    "  unpunctuated_words = [char for char in filtered_words if char not in string.punctuation]\n",
    "  unpunctuated_words = ' '.join(unpunctuated_words)\n",
    "\n",
    "  \n",
    "\n",
    "  return \"\".join(unpunctuated_words)\n",
    "\n",
    "# Function to obtain adjectives from tweets\n",
    "def getAdjective(tweet):\n",
    "  tweet = word_tokenize(tweet)\n",
    "  tweet = [word for(word, tag) in pos_tag(tweet) if tag ==\"JJ\" ]\n",
    "  return \" \".join(tweet)   "
   ]
  },
  {
   "cell_type": "code",
   "execution_count": 416,
   "id": "559053c7",
   "metadata": {},
   "outputs": [],
   "source": [
    "stop_words = list(stopwords.words('english'))"
   ]
  },
  {
   "cell_type": "code",
   "execution_count": 417,
   "id": "b373d0e5",
   "metadata": {},
   "outputs": [],
   "source": [
    "# function to return words to their base form using Lemmatizer\n",
    "def preprocessTweetsSentiments(tweet):\n",
    "  tweet_tokens= word_tokenize(tweet)\n",
    "  lemmatizer = WordNetLemmatizer()\n",
    "  lemma_words = [lemmatizer.lemmatize(w) for w in tweet_tokens]\n",
    "  return \" \".join(lemma_words)"
   ]
  },
  {
   "cell_type": "code",
   "execution_count": 418,
   "id": "69b7cafa",
   "metadata": {},
   "outputs": [],
   "source": [
    "processed_tweet=preprocessTweets(tweet)"
   ]
  },
  {
   "cell_type": "code",
   "execution_count": 419,
   "id": "2864a80a",
   "metadata": {},
   "outputs": [
    {
     "name": "stdout",
     "output_type": "stream",
     "text": [
      "struggle anxiety everyday im tired\n"
     ]
    }
   ],
   "source": [
    "#processed tweet\n",
    "print(processed_tweet)"
   ]
  },
  {
   "cell_type": "code",
   "execution_count": null,
   "id": "c41518c3",
   "metadata": {},
   "outputs": [],
   "source": [
    "\n",
    "    "
   ]
  },
  {
   "cell_type": "code",
   "execution_count": 420,
   "id": "3ec7935f",
   "metadata": {},
   "outputs": [],
   "source": [
    "# finding sentiment, subjectivity, polarity\n",
    "def getSubjectivity(tweet):\n",
    "  return TextBlob(tweet).sentiment.subjectivity\n",
    "\n",
    "def getPolarity(tweet):\n",
    "  return TextBlob(tweet).sentiment.polarity\n",
    "def getSentimentTextBlob(polarity):\n",
    "  if polarity<0:\n",
    "    return \"Negative\"\n",
    "  elif polarity ==0:\n",
    "    return \"Neutral\"\n",
    "  else:\n",
    "    return \"Positive\"    "
   ]
  },
  {
   "cell_type": "code",
   "execution_count": 421,
   "id": "5607a4fe",
   "metadata": {},
   "outputs": [],
   "source": [
    "subjectivity_of_tweet=getSubjectivity(tweet)\n",
    "polarity_of_tweet=getPolarity(tweet)\n",
    "sentiment_of_tweet=getSentimentTextBlob(polarity_of_tweet)\n"
   ]
  },
  {
   "cell_type": "code",
   "execution_count": 422,
   "id": "8f58ae2a",
   "metadata": {},
   "outputs": [
    {
     "name": "stdout",
     "output_type": "stream",
     "text": [
      "subjectivity of a tweet: 0.6499999999999999\n",
      "polarity: -0.30000000000000004\n",
      "sentiment:  Negative\n"
     ]
    }
   ],
   "source": [
    "print('subjectivity of a tweet:', subjectivity_of_tweet)\n",
    "print('polarity:' ,polarity_of_tweet)\n",
    "print('sentiment: ', sentiment_of_tweet )"
   ]
  },
  {
   "cell_type": "code",
   "execution_count": 423,
   "id": "1ae0f59f",
   "metadata": {},
   "outputs": [],
   "source": [
    "#tweet for recommendation\n",
    "def preprocessTweetsRecom(tweet):\n",
    "    \n",
    "      tweet=tweet.lower()\n",
    "      #Remove Urls\n",
    "      tweet = re.sub(r\"http\\S+|www\\S+|https\\S+\", '', tweet)\n",
    "      #remove @reference and # from tweet\n",
    "      tweet = re.sub(r'\\@\\w+|\\#|\\d+','',tweet)\n",
    "      #tokenization\n",
    "      tweet_token =word_tokenize(tweet)\n",
    "  #remove Punctuation\n",
    "      unpunctuated_words = [char for char in tweet_token if char not in string.punctuation]\n",
    "      unpunctuated_words = ' '.join(unpunctuated_words)\n",
    "\n",
    "\n",
    "\n",
    "      return \"\".join(unpunctuated_words)\n",
    "\n",
    "  "
   ]
  },
  {
   "cell_type": "code",
   "execution_count": 424,
   "id": "f742e1a6",
   "metadata": {},
   "outputs": [
    {
     "name": "stdout",
     "output_type": "stream",
     "text": [
      "tweet for recommendation: struggle anxiety everyday im tired\n"
     ]
    }
   ],
   "source": [
    "#tweet for recommendation\n",
    "tweet_for_recommendation=preprocessTweetsRecom(tweet)\n",
    "print('tweet for recommendation:', tweet_for_recommendation)"
   ]
  },
  {
   "cell_type": "code",
   "execution_count": 425,
   "id": "4aea5528",
   "metadata": {},
   "outputs": [],
   "source": [
    "#labelling of disease\n",
    "diseases=['asthma','autism','dengue','fever','flu','nausea','anxiety','sprain','stroke','obesity']\n",
    "\n",
    "def label(tweet):\n",
    "    label='NIL'\n",
    "    for j in range(0,len(diseases)):\n",
    "        \n",
    "        if diseases[j] in tweet_for_recommendation:\n",
    "            label=diseases[j]\n",
    "    return label\n",
    "      "
   ]
  },
  {
   "cell_type": "code",
   "execution_count": 426,
   "id": "f8b85441",
   "metadata": {},
   "outputs": [],
   "source": [
    "label=label(tweet_for_recommendation)"
   ]
  },
  {
   "cell_type": "code",
   "execution_count": 427,
   "id": "a08f94b9",
   "metadata": {},
   "outputs": [
    {
     "name": "stdout",
     "output_type": "stream",
     "text": [
      "anxiety\n"
     ]
    }
   ],
   "source": [
    "print(label)"
   ]
  },
  {
   "cell_type": "code",
   "execution_count": 453,
   "id": "35b41bd8",
   "metadata": {},
   "outputs": [],
   "source": [
    "#tweets=pd.read_csv('recommendationData.csV')\n",
    "#data sets needed\n",
    "\n",
    "recommendation_df = pd.read_csv('Diseasesupdated.csv')\n",
    "neutral_df = pd.read_csv('Neutral.csv')\n",
    "general=pd.read_csv('featuresdata.csv')"
   ]
  },
  {
   "cell_type": "code",
   "execution_count": 454,
   "id": "121ae91b",
   "metadata": {
    "scrolled": true
   },
   "outputs": [
    {
     "data": {
      "text/html": [
       "<div>\n",
       "<style scoped>\n",
       "    .dataframe tbody tr th:only-of-type {\n",
       "        vertical-align: middle;\n",
       "    }\n",
       "\n",
       "    .dataframe tbody tr th {\n",
       "        vertical-align: top;\n",
       "    }\n",
       "\n",
       "    .dataframe thead th {\n",
       "        text-align: right;\n",
       "    }\n",
       "</style>\n",
       "<table border=\"1\" class=\"dataframe\">\n",
       "  <thead>\n",
       "    <tr style=\"text-align: right;\">\n",
       "      <th></th>\n",
       "      <th>Diseases</th>\n",
       "      <th>Symptoms</th>\n",
       "      <th>Features</th>\n",
       "      <th>Suggestions</th>\n",
       "      <th>Description</th>\n",
       "    </tr>\n",
       "  </thead>\n",
       "  <tbody>\n",
       "    <tr>\n",
       "      <th>0</th>\n",
       "      <td>fever</td>\n",
       "      <td>High body temperature</td>\n",
       "      <td>temperature</td>\n",
       "      <td>Use a damp cloth ,Lower the room temperature</td>\n",
       "      <td>You can use a damp cloth or sponge to help low...</td>\n",
       "    </tr>\n",
       "    <tr>\n",
       "      <th>1</th>\n",
       "      <td>fever</td>\n",
       "      <td>Chills</td>\n",
       "      <td>chills</td>\n",
       "      <td>Drink warm fluids,Take a warm bath</td>\n",
       "      <td>Sipping on warm liquids, such as tea or soup, ...</td>\n",
       "    </tr>\n",
       "    <tr>\n",
       "      <th>2</th>\n",
       "      <td>fever</td>\n",
       "      <td>Sweating</td>\n",
       "      <td>sweating</td>\n",
       "      <td>Stay hydrated, Avoid triggers</td>\n",
       "      <td>Drinking plenty of water and fluids can help r...</td>\n",
       "    </tr>\n",
       "    <tr>\n",
       "      <th>3</th>\n",
       "      <td>fever</td>\n",
       "      <td>Headache</td>\n",
       "      <td>headache</td>\n",
       "      <td>Apply heat or cold, manage stress, drink fluids</td>\n",
       "      <td>Applying a cold or warm compress to the affect...</td>\n",
       "    </tr>\n",
       "    <tr>\n",
       "      <th>4</th>\n",
       "      <td>fever</td>\n",
       "      <td>Muscle aches</td>\n",
       "      <td>muscle aches</td>\n",
       "      <td>Massage ,stretch, apply heat or cold</td>\n",
       "      <td>Massaging the affected area can help increase ...</td>\n",
       "    </tr>\n",
       "    <tr>\n",
       "      <th>...</th>\n",
       "      <td>...</td>\n",
       "      <td>...</td>\n",
       "      <td>...</td>\n",
       "      <td>...</td>\n",
       "      <td>...</td>\n",
       "    </tr>\n",
       "    <tr>\n",
       "      <th>67</th>\n",
       "      <td>flu</td>\n",
       "      <td>Runny or stuffy nose</td>\n",
       "      <td>stuffy nose</td>\n",
       "      <td>Use saline nasal drops</td>\n",
       "      <td>Saline nasal drops or spray can help flush out...</td>\n",
       "    </tr>\n",
       "    <tr>\n",
       "      <th>68</th>\n",
       "      <td>flu</td>\n",
       "      <td>Body aches</td>\n",
       "      <td>body aches</td>\n",
       "      <td>Apply heat or cold</td>\n",
       "      <td>Applying heat or cold to the affected area can...</td>\n",
       "    </tr>\n",
       "    <tr>\n",
       "      <th>69</th>\n",
       "      <td>flu</td>\n",
       "      <td>virus</td>\n",
       "      <td>virus</td>\n",
       "      <td>virus</td>\n",
       "      <td>o it's important to rest and give your body ti...</td>\n",
       "    </tr>\n",
       "    <tr>\n",
       "      <th>70</th>\n",
       "      <td>flu</td>\n",
       "      <td>cold</td>\n",
       "      <td>cold</td>\n",
       "      <td>Use a humidifier</td>\n",
       "      <td>A cool mist humidifier can help keep the air m...</td>\n",
       "    </tr>\n",
       "    <tr>\n",
       "      <th>71</th>\n",
       "      <td>flu</td>\n",
       "      <td>headache</td>\n",
       "      <td>headache</td>\n",
       "      <td>Rest in a quiet, dark room</td>\n",
       "      <td>Rest in a quiet, dark room This can help allev...</td>\n",
       "    </tr>\n",
       "  </tbody>\n",
       "</table>\n",
       "<p>72 rows × 5 columns</p>\n",
       "</div>"
      ],
      "text/plain": [
       "   Diseases               Symptoms      Features  \\\n",
       "0     fever  High body temperature   temperature   \n",
       "1     fever                 Chills        chills   \n",
       "2     fever               Sweating      sweating   \n",
       "3     fever               Headache      headache   \n",
       "4     fever           Muscle aches  muscle aches   \n",
       "..      ...                    ...           ...   \n",
       "67      flu   Runny or stuffy nose   stuffy nose   \n",
       "68      flu             Body aches    body aches   \n",
       "69      flu                  virus         virus   \n",
       "70      flu                   cold          cold   \n",
       "71      flu               headache      headache   \n",
       "\n",
       "                                        Suggestions  \\\n",
       "0      Use a damp cloth ,Lower the room temperature   \n",
       "1                Drink warm fluids,Take a warm bath   \n",
       "2                     Stay hydrated, Avoid triggers   \n",
       "3   Apply heat or cold, manage stress, drink fluids   \n",
       "4              Massage ,stretch, apply heat or cold   \n",
       "..                                              ...   \n",
       "67                           Use saline nasal drops   \n",
       "68                               Apply heat or cold   \n",
       "69                                            virus   \n",
       "70                                 Use a humidifier   \n",
       "71                       Rest in a quiet, dark room   \n",
       "\n",
       "                                          Description  \n",
       "0   You can use a damp cloth or sponge to help low...  \n",
       "1   Sipping on warm liquids, such as tea or soup, ...  \n",
       "2   Drinking plenty of water and fluids can help r...  \n",
       "3   Applying a cold or warm compress to the affect...  \n",
       "4   Massaging the affected area can help increase ...  \n",
       "..                                                ...  \n",
       "67  Saline nasal drops or spray can help flush out...  \n",
       "68  Applying heat or cold to the affected area can...  \n",
       "69  o it's important to rest and give your body ti...  \n",
       "70  A cool mist humidifier can help keep the air m...  \n",
       "71  Rest in a quiet, dark room This can help allev...  \n",
       "\n",
       "[72 rows x 5 columns]"
      ]
     },
     "execution_count": 454,
     "metadata": {},
     "output_type": "execute_result"
    }
   ],
   "source": [
    "recommendation_df"
   ]
  },
  {
   "cell_type": "code",
   "execution_count": 456,
   "id": "b1795342",
   "metadata": {},
   "outputs": [
    {
     "data": {
      "text/html": [
       "<div>\n",
       "<style scoped>\n",
       "    .dataframe tbody tr th:only-of-type {\n",
       "        vertical-align: middle;\n",
       "    }\n",
       "\n",
       "    .dataframe tbody tr th {\n",
       "        vertical-align: top;\n",
       "    }\n",
       "\n",
       "    .dataframe thead th {\n",
       "        text-align: right;\n",
       "    }\n",
       "</style>\n",
       "<table border=\"1\" class=\"dataframe\">\n",
       "  <thead>\n",
       "    <tr style=\"text-align: right;\">\n",
       "      <th></th>\n",
       "      <th>Diseases</th>\n",
       "      <th>Symptoms</th>\n",
       "      <th>Features</th>\n",
       "      <th>Suggestions</th>\n",
       "      <th>Description</th>\n",
       "    </tr>\n",
       "  </thead>\n",
       "  <tbody>\n",
       "    <tr>\n",
       "      <th>30</th>\n",
       "      <td>anxiety</td>\n",
       "      <td>depression</td>\n",
       "      <td>depression</td>\n",
       "      <td>Seek professional help:</td>\n",
       "      <td>Talk to a mental health professional who can h...</td>\n",
       "    </tr>\n",
       "    <tr>\n",
       "      <th>31</th>\n",
       "      <td>anxiety</td>\n",
       "      <td>confusion</td>\n",
       "      <td>confusion</td>\n",
       "      <td>Engage in stimulating activities:</td>\n",
       "      <td>Activities such as puzzles, games, or creative...</td>\n",
       "    </tr>\n",
       "    <tr>\n",
       "      <th>32</th>\n",
       "      <td>anxiety</td>\n",
       "      <td>struggle</td>\n",
       "      <td>struggle</td>\n",
       "      <td>Practice self-compassion</td>\n",
       "      <td>Treat yourself with kindness and understanding...</td>\n",
       "    </tr>\n",
       "    <tr>\n",
       "      <th>33</th>\n",
       "      <td>anxiety</td>\n",
       "      <td>stress</td>\n",
       "      <td>stress</td>\n",
       "      <td>Exercise regularly</td>\n",
       "      <td>Exercise is a natural stress reliever and can ...</td>\n",
       "    </tr>\n",
       "    <tr>\n",
       "      <th>34</th>\n",
       "      <td>anxiety</td>\n",
       "      <td>Excessive worry or fear</td>\n",
       "      <td>fear</td>\n",
       "      <td>Healthy diet</td>\n",
       "      <td>Eating a healthy, balanced diet can help impro...</td>\n",
       "    </tr>\n",
       "    <tr>\n",
       "      <th>35</th>\n",
       "      <td>anxiety</td>\n",
       "      <td>Panic attacks</td>\n",
       "      <td>attacks</td>\n",
       "      <td>Breathing exercises</td>\n",
       "      <td>Focusing on slow, deep breathing can help redu...</td>\n",
       "    </tr>\n",
       "    <tr>\n",
       "      <th>36</th>\n",
       "      <td>anxiety</td>\n",
       "      <td>Difficulty sleeping</td>\n",
       "      <td>sleeping</td>\n",
       "      <td>Create a relaxing sleep environment</td>\n",
       "      <td>Make sure your bedroom is cool, quiet, and dar...</td>\n",
       "    </tr>\n",
       "    <tr>\n",
       "      <th>37</th>\n",
       "      <td>anxiety</td>\n",
       "      <td>Irritability</td>\n",
       "      <td>irritability</td>\n",
       "      <td>Social support</td>\n",
       "      <td>Talking to a trusted friend or family member, ...</td>\n",
       "    </tr>\n",
       "  </tbody>\n",
       "</table>\n",
       "</div>"
      ],
      "text/plain": [
       "   Diseases                 Symptoms      Features  \\\n",
       "30  anxiety               depression    depression   \n",
       "31  anxiety                confusion     confusion   \n",
       "32  anxiety                 struggle      struggle   \n",
       "33  anxiety                   stress        stress   \n",
       "34  anxiety  Excessive worry or fear          fear   \n",
       "35  anxiety            Panic attacks       attacks   \n",
       "36  anxiety      Difficulty sleeping      sleeping   \n",
       "37  anxiety             Irritability  irritability   \n",
       "\n",
       "                            Suggestions  \\\n",
       "30             Seek professional help:    \n",
       "31   Engage in stimulating activities:    \n",
       "32             Practice self-compassion   \n",
       "33                   Exercise regularly   \n",
       "34                         Healthy diet   \n",
       "35                  Breathing exercises   \n",
       "36  Create a relaxing sleep environment   \n",
       "37                       Social support   \n",
       "\n",
       "                                          Description  \n",
       "30  Talk to a mental health professional who can h...  \n",
       "31  Activities such as puzzles, games, or creative...  \n",
       "32  Treat yourself with kindness and understanding...  \n",
       "33  Exercise is a natural stress reliever and can ...  \n",
       "34  Eating a healthy, balanced diet can help impro...  \n",
       "35  Focusing on slow, deep breathing can help redu...  \n",
       "36  Make sure your bedroom is cool, quiet, and dar...  \n",
       "37  Talking to a trusted friend or family member, ...  "
      ]
     },
     "execution_count": 456,
     "metadata": {},
     "output_type": "execute_result"
    }
   ],
   "source": [
    "recommendation_df[recommendation_df['Diseases']=='anxiety']"
   ]
  },
  {
   "cell_type": "code",
   "execution_count": 457,
   "id": "a5f4659b",
   "metadata": {},
   "outputs": [],
   "source": [
    "#disease features\n",
    "disease_features = {\n",
    "   \n",
    "    'flu': ['cough','body aches','cold','headache','virus','stuffy nose','soar throat'],\n",
    "    'sprain': ['pain','soreness','injury','swelling','restricted','instability','bruising','twist foot','ankle'],\n",
    "    'stroke': ['redness','excessive tears','eyes','sudden headache','weakness','loss'],\n",
    "    'anxiety':['fear','worry','attacks','sleeping','irritability','stress','fatigue','depression','confusion','struggle'],\n",
    "    'obesity':['cholestrol','sleep','pain','body weight','fat','stress','weight'],\n",
    "    'autism':['disability','talk','upset','difficulties','neurodiversity'],\n",
    "    'fever':['temperature','chills','sweating','headache','muscle aches','fatigue','heartbeat','diarrhea','nausea','throat'],\n",
    "    'nausea':['vomit','sweating','salivation','queasiness','gagging','retching','anxiety','rapid heartbeat','headche','stomach'],\n",
    "    'dengue':['nausea','vomiting','mosquito','fever','virus','headache','platelet','joint pain','weakness','fatigue'],\n",
    "    'asthma':['wheezing','tightness','coughing','breath','lung','inhaler','allergy']\n",
    "    \n",
    "}"
   ]
  },
  {
   "cell_type": "code",
   "execution_count": 458,
   "id": "1b158d3e",
   "metadata": {},
   "outputs": [],
   "source": [
    "\n",
    "def recommendation(tweet):\n",
    "    result=\"\"\n",
    "   \n",
    "    \n",
    "    for i in range(1):\n",
    "        \n",
    "    \n",
    "        features=disease_features[label]\n",
    "    #     print(features)\n",
    "        if sentiment_of_tweet == 'Negative':\n",
    "            count = 0\n",
    "            for z in features:\n",
    "                if z.lower() in tweet_for_recommendation :\n",
    "                    count+=1\n",
    "                else:\n",
    "                    continue\n",
    "                    \n",
    "#             print(count)\n",
    "            if count == 0:\n",
    "                \n",
    "                        \n",
    "                for n in range(len(general)):\n",
    "                   \n",
    "#                     print(general.loc[n,'Diseases'].lower(),label.lower(),(general.loc[n,'Features'])\n",
    "#                     print((general.loc[n,'Diseases'].lower() == label.lower())==(general.loc[n,'Features'] == 'No'))\n",
    "\n",
    "                    if general['Diseases'][n]==label:\n",
    "                        if general['Features'][n]=='no':\n",
    "#                         print(general.loc[n,'Diseases'])\n",
    "\n",
    "                            result=general.loc[n,'Description']\n",
    "#                         result=general.loc[n,'Description']\n",
    "                            #tweets6.loc[i, 'recommend'] = general.loc[n,'Description']\n",
    "                            #tweets6.loc[i, 'symptoms1'] = \"No\"\n",
    "#                             tweets['Recommendations']=general.loc[n,'Description']\n",
    "            else:\n",
    "\n",
    "                for j in features:\n",
    "\n",
    "                    if j in tweet_for_recommendation:\n",
    "        #                 print(j,i)\n",
    "\n",
    "                        for l in range(len(recommendation_df)):\n",
    "\n",
    "                            if recommendation_df.loc[l,'Diseases'].lower() == label.lower():\n",
    "        #                         print(recommendation_df.loc[l,'Diseases'])\n",
    "\n",
    "                                if recommendation_df.loc[l,'Features'].lower() == j.lower():\n",
    "        #                             continue\n",
    "                                    result=recommendation_df.loc[l,'Description']\n",
    "                                    #tweets6.loc[i, 'recommend'] = recommendation_df.loc[l,'Description']\n",
    "                                    #tweets6.loc[i, 'symptoms1'] = j\n",
    "        #                             tweets['Recommendations']=recommendation_df.loc[l,'Description']\n",
    "\n",
    "\n",
    "        else:\n",
    "            ran = random.randint(2,len(neutral_df)-2)\n",
    "            result=neutral_df['Recommendation'][ran]\n",
    "            #tweets6.loc[i, 'recommend'] = neutral_df['Recommendation'][ran]\n",
    "            #tweets6.loc[i, 'symptoms1'] = \"No\"\n",
    "    return result\n",
    "#         tweets['Recommendations']=neutral_df['Recommendation']\n",
    "            \n"
   ]
  },
  {
   "cell_type": "code",
   "execution_count": 459,
   "id": "cc1c34d1",
   "metadata": {},
   "outputs": [
    {
     "name": "stdout",
     "output_type": "stream",
     "text": [
      "Treat yourself with kindness and understanding. Acknowledge that struggling is a normal part of the human experience, and give yourself permission to take time to heal.\n"
     ]
    }
   ],
   "source": [
    "print(recommendation(tweet_for_recommendation))"
   ]
  },
  {
   "cell_type": "code",
   "execution_count": null,
   "id": "a07e7050",
   "metadata": {},
   "outputs": [],
   "source": []
  },
  {
   "cell_type": "code",
   "execution_count": null,
   "id": "31a0d756",
   "metadata": {},
   "outputs": [],
   "source": []
  },
  {
   "cell_type": "code",
   "execution_count": null,
   "id": "aea48a79",
   "metadata": {},
   "outputs": [],
   "source": []
  }
 ],
 "metadata": {
  "kernelspec": {
   "display_name": "Python 3 (ipykernel)",
   "language": "python",
   "name": "python3"
  },
  "language_info": {
   "codemirror_mode": {
    "name": "ipython",
    "version": 3
   },
   "file_extension": ".py",
   "mimetype": "text/x-python",
   "name": "python",
   "nbconvert_exporter": "python",
   "pygments_lexer": "ipython3",
   "version": "3.10.5"
  }
 },
 "nbformat": 4,
 "nbformat_minor": 5
}
