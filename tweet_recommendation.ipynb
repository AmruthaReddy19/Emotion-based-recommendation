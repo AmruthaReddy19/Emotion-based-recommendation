{
 "cells": [
  {
   "cell_type": "code",
   "execution_count": 2,
   "id": "25644d2e",
   "metadata": {},
   "outputs": [],
   "source": [
    "import pandas as pd\n",
    "import re\n",
    "from nltk.tokenize import word_tokenize\n",
    "\n",
    "from nltk.stem import WordNetLemmatizer\n",
    "from nltk.corpus import stopwords, words\n",
    "\n",
    "from nltk.stem import PorterStemmer \n",
    "\n",
    "from nltk import pos_tag \n",
    "from textblob import TextBlob \n",
    "from wordcloud import WordCloud\n",
    "import numpy as np \n",
    "import re \n",
    "import string \n",
    "import glob \n"
   ]
  },
  {
   "cell_type": "code",
   "execution_count": 3,
   "id": "28e5393a",
   "metadata": {},
   "outputs": [
    {
     "name": "stderr",
     "output_type": "stream",
     "text": [
      "[nltk_data] Downloading package averaged_perceptron_tagger to\n",
      "[nltk_data]     C:\\Users\\Asus\\AppData\\Roaming\\nltk_data...\n",
      "[nltk_data]   Package averaged_perceptron_tagger is already up-to-\n",
      "[nltk_data]       date!\n",
      "[nltk_data] Downloading package stopwords to\n",
      "[nltk_data]     C:\\Users\\Asus\\AppData\\Roaming\\nltk_data...\n",
      "[nltk_data]   Package stopwords is already up-to-date!\n"
     ]
    },
    {
     "data": {
      "text/plain": [
       "True"
      ]
     },
     "execution_count": 3,
     "metadata": {},
     "output_type": "execute_result"
    }
   ],
   "source": [
    "import nltk\n",
    "from nltk.corpus import stopwords\n",
    "from tqdm import tqdm\n",
    "nltk.download('averaged_perceptron_tagger')\n",
    "nltk.download('stopwords')"
   ]
  },
  {
   "cell_type": "code",
   "execution_count": 372,
   "id": "3d419f68",
   "metadata": {},
   "outputs": [],
   "source": [
    "tweet='i am Having  worse   because of anxiety @kathyu'"
   ]
  },
  {
   "cell_type": "code",
   "execution_count": 373,
   "id": "78e3e048",
   "metadata": {},
   "outputs": [
    {
     "data": {
      "text/plain": [
       "'i am having  worse   because of anxiety @kathyu'"
      ]
     },
     "execution_count": 373,
     "metadata": {},
     "output_type": "execute_result"
    }
   ],
   "source": [
    "#preprocessing\n",
    "\n",
    "#lowercase conversion\n",
    "tweet.lower()\n",
    "\n",
    "#"
   ]
  },
  {
   "cell_type": "code",
   "execution_count": 374,
   "id": "e019c7b9",
   "metadata": {},
   "outputs": [],
   "source": [
    "#To remove Punctuation like link, emoji, etc\n",
    "def preprocessTweets(tweet):\n",
    "  tweet=tweet.lower()\n",
    "  #Remove Urls\n",
    "  tweet = re.sub(r\"http\\S+|www\\S+|https\\S+\", '', tweet)\n",
    "  #remove @reference and # from tweet\n",
    "  tweet = re.sub(r'\\@\\w+|\\#|\\d+','',tweet)\n",
    "  #remove stopword\n",
    "  tweet_token =word_tokenize(tweet) #Convert string to token\n",
    "  filtered_words =  [w for w in tweet_token if w not in stop_words]\n",
    "  #remove Punctuation\n",
    "  unpunctuated_words = [char for char in filtered_words if char not in string.punctuation]\n",
    "  unpunctuated_words = ' '.join(unpunctuated_words)\n",
    "\n",
    "  \n",
    "\n",
    "  return \"\".join(unpunctuated_words)\n",
    "\n",
    "# Function to obtain adjectives from tweets\n",
    "def getAdjective(tweet):\n",
    "  tweet = word_tokenize(tweet)\n",
    "  tweet = [word for(word, tag) in pos_tag(tweet) if tag ==\"JJ\" ]\n",
    "  return \" \".join(tweet)   "
   ]
  },
  {
   "cell_type": "code",
   "execution_count": 375,
   "id": "627beaa9",
   "metadata": {},
   "outputs": [],
   "source": [
    "stop_words = list(stopwords.words('english'))"
   ]
  },
  {
   "cell_type": "code",
   "execution_count": 376,
   "id": "05215e9a",
   "metadata": {},
   "outputs": [],
   "source": [
    "# function to return words to their base form using Lemmatizer\n",
    "def preprocessTweetsSentiments(tweet):\n",
    "  tweet_tokens= word_tokenize(tweet)\n",
    "  lemmatizer = WordNetLemmatizer()\n",
    "  lemma_words = [lemmatizer.lemmatize(w) for w in tweet_tokens]\n",
    "  return \" \".join(lemma_words)"
   ]
  },
  {
   "cell_type": "code",
   "execution_count": 377,
   "id": "096a9b73",
   "metadata": {},
   "outputs": [],
   "source": [
    "processed_tweet=preprocessTweets(tweet)"
   ]
  },
  {
   "cell_type": "code",
   "execution_count": 378,
   "id": "56d3a7f3",
   "metadata": {},
   "outputs": [
    {
     "name": "stdout",
     "output_type": "stream",
     "text": [
      "worse anxiety\n"
     ]
    }
   ],
   "source": [
    "#processed tweet\n",
    "print(processed_tweet)"
   ]
  },
  {
   "cell_type": "code",
   "execution_count": null,
   "id": "0af0a563",
   "metadata": {},
   "outputs": [],
   "source": [
    "\n",
    "    "
   ]
  },
  {
   "cell_type": "code",
   "execution_count": 379,
   "id": "1e606c27",
   "metadata": {},
   "outputs": [],
   "source": [
    "# finding sentiment, subjectivity, polarity\n",
    "def getSubjectivity(tweet):\n",
    "  return TextBlob(tweet).sentiment.subjectivity\n",
    "\n",
    "def getPolarity(tweet):\n",
    "  return TextBlob(tweet).sentiment.polarity\n",
    "def getSentimentTextBlob(polarity):\n",
    "  if polarity<0:\n",
    "    return \"Negative\"\n",
    "  elif polarity ==0:\n",
    "    return \"Neutral\"\n",
    "  else:\n",
    "    return \"Positive\"    "
   ]
  },
  {
   "cell_type": "code",
   "execution_count": 380,
   "id": "cb0f370a",
   "metadata": {},
   "outputs": [],
   "source": [
    "subjectivity_of_tweet=getSubjectivity(tweet)\n",
    "polarity_of_tweet=getPolarity(tweet)\n",
    "sentiment_of_tweet=getSentimentTextBlob(polarity_of_tweet)\n"
   ]
  },
  {
   "cell_type": "code",
   "execution_count": 381,
   "id": "1cc905d5",
   "metadata": {},
   "outputs": [
    {
     "name": "stdout",
     "output_type": "stream",
     "text": [
      "subjectivity of a tweet: 0.6\n",
      "polarity: -0.4\n",
      "sentiment:  Negative\n"
     ]
    }
   ],
   "source": [
    "print('subjectivity of a tweet:', subjectivity_of_tweet)\n",
    "print('polarity:' ,polarity_of_tweet)\n",
    "print('sentiment: ', sentiment_of_tweet )"
   ]
  },
  {
   "cell_type": "code",
   "execution_count": 382,
   "id": "fc3d36c3",
   "metadata": {},
   "outputs": [],
   "source": [
    "#tweet for recommendation\n",
    "def preprocessTweetsRecom(tweet):\n",
    "    \n",
    "      tweet=tweet.lower()\n",
    "      #Remove Urls\n",
    "      tweet = re.sub(r\"http\\S+|www\\S+|https\\S+\", '', tweet)\n",
    "      #remove @reference and # from tweet\n",
    "      tweet = re.sub(r'\\@\\w+|\\#|\\d+','',tweet)\n",
    "      #tokenization\n",
    "      tweet_token =word_tokenize(tweet)\n",
    "  #remove Punctuation\n",
    "      unpunctuated_words = [char for char in tweet_token if char not in string.punctuation]\n",
    "      unpunctuated_words = ' '.join(unpunctuated_words)\n",
    "\n",
    "\n",
    "\n",
    "      return \"\".join(unpunctuated_words)\n",
    "\n",
    "  "
   ]
  },
  {
   "cell_type": "code",
   "execution_count": 383,
   "id": "6c52440e",
   "metadata": {},
   "outputs": [
    {
     "name": "stdout",
     "output_type": "stream",
     "text": [
      "tweet for recommendation: i am having worse because of anxiety\n"
     ]
    }
   ],
   "source": [
    "#tweet for recommendation\n",
    "tweet_for_recommendation=preprocessTweetsRecom(tweet)\n",
    "print('tweet for recommendation:', tweet_for_recommendation)"
   ]
  },
  {
   "cell_type": "code",
   "execution_count": 384,
   "id": "c3fcff27",
   "metadata": {},
   "outputs": [],
   "source": [
    "#labelling of disease\n",
    "diseases=['asthma','autism','dengue','fever','flu','nausea','anxiety','sprain','stroke','obesity']\n",
    "\n",
    "def label(tweet):\n",
    "    label='NIL'\n",
    "    for j in range(0,len(diseases)):\n",
    "        \n",
    "        if diseases[j] in tweet_for_recommendation:\n",
    "            label=diseases[j]\n",
    "    return label\n",
    "      "
   ]
  },
  {
   "cell_type": "code",
   "execution_count": 385,
   "id": "e516a5da",
   "metadata": {},
   "outputs": [],
   "source": [
    "label=label(tweet_for_recommendation)"
   ]
  },
  {
   "cell_type": "code",
   "execution_count": 386,
   "id": "c4f994c9",
   "metadata": {},
   "outputs": [
    {
     "name": "stdout",
     "output_type": "stream",
     "text": [
      "anxiety\n"
     ]
    }
   ],
   "source": [
    "print(label)"
   ]
  },
  {
   "cell_type": "code",
   "execution_count": 387,
   "id": "db752a4b",
   "metadata": {},
   "outputs": [],
   "source": [
    "#tweets=pd.read_csv('recommendationData.csV')\n",
    "#data sets needed\n",
    "\n",
    "recommendation_df = pd.read_csv('Diseasesupdated.csv')\n",
    "neutral_df = pd.read_csv('Neutral.csv')\n",
    "general=pd.read_csv('featuresdata.csv')"
   ]
  },
  {
   "cell_type": "code",
   "execution_count": 388,
   "id": "45c6bfe7",
   "metadata": {},
   "outputs": [
    {
     "data": {
      "text/plain": [
       "Index(['Diseases', 'Symptoms', 'Features', 'Suggestions', 'Description'], dtype='object')"
      ]
     },
     "execution_count": 388,
     "metadata": {},
     "output_type": "execute_result"
    }
   ],
   "source": [
    "general.columns"
   ]
  },
  {
   "cell_type": "code",
   "execution_count": 389,
   "id": "b95ae97e",
   "metadata": {},
   "outputs": [],
   "source": [
    "#disease features\n",
    "disease_features = {\n",
    "   \n",
    "    'flu': ['cough','body aches','cold','headache','virus','stuffy nose','soar throat'],\n",
    "    'sprain': ['pain','soreness','injury','swelling','restricted','instability','bruising','twist foot','ankle'],\n",
    "    'stroke': ['redness','excessive tears','eyes','sudden headache','weakness','loss'],\n",
    "    'anxiety':['fear','worry','attacks','sleeping','irritability','stress','fatigue','depression','confusion','struggle'],\n",
    "    'obesity':['cholestrol','sleep','pain','body weight','fat','stress','weight'],\n",
    "    'autism':['disability','talk','upset','difficulties','neurodiversity'],\n",
    "    'fever':['temperature','chills','sweating','headache','muscle aches','fatigue','heartbeat','diarrhea','nausea','throat'],\n",
    "    'nausea':['vomit','sweating','salivation','queasiness','gagging','retching','anxiety','rapid heartbeat','headche','stomach'],\n",
    "    'dengue':['nausea','vomiting','mosquito','fever','virus','headache','platelet','joint pain','weakness','fatigue'],\n",
    "    'asthma':['wheezing','tightness','coughing','breath','lung','inhaler','allergy']\n",
    "    \n",
    "}"
   ]
  },
  {
   "cell_type": "code",
   "execution_count": 390,
   "id": "66a0d5c7",
   "metadata": {},
   "outputs": [],
   "source": [
    "\n",
    "def recommendation(tweet):\n",
    "    result=\"\"\n",
    "   \n",
    "    \n",
    "    for i in range(1):\n",
    "        \n",
    "    \n",
    "        features=disease_features[label]\n",
    "    #     print(features)\n",
    "        if sentiment_of_tweet == 'Negative':\n",
    "            count = 0\n",
    "            for z in features:\n",
    "                if z.lower() in tweet_for_recommendation :\n",
    "                    count+=1\n",
    "                else:\n",
    "                    continue\n",
    "                    \n",
    "#             print(count)\n",
    "            if count == 0:\n",
    "                \n",
    "                        \n",
    "                for n in range(len(general)):\n",
    "                   \n",
    "#                     print(general.loc[n,'Diseases'].lower(),label.lower(),(general.loc[n,'Features'])\n",
    "#                     print((general.loc[n,'Diseases'].lower() == label.lower())==(general.loc[n,'Features'] == 'No'))\n",
    "\n",
    "                    if general['Diseases'][n]==label:\n",
    "                        if general['Features'][n]=='no':\n",
    "#                         print(general.loc[n,'Diseases'])\n",
    "\n",
    "                            result=general.loc[n,'Description']\n",
    "#                         result=general.loc[n,'Description']\n",
    "                            #tweets6.loc[i, 'recommend'] = general.loc[n,'Description']\n",
    "                            #tweets6.loc[i, 'symptoms1'] = \"No\"\n",
    "#                             tweets['Recommendations']=general.loc[n,'Description']\n",
    "            else:\n",
    "\n",
    "                for j in features:\n",
    "\n",
    "                    if j in tweet_for_recommendation:\n",
    "        #                 print(j,i)\n",
    "\n",
    "                        for l in range(len(recommendation_df)):\n",
    "\n",
    "                            if recommendation_df.loc[l,'Diseases'].lower() == label.lower():\n",
    "        #                         print(recommendation_df.loc[l,'Diseases'])\n",
    "\n",
    "                                if recommendation_df.loc[l,'Features'].lower() == j.lower():\n",
    "        #                             continue\n",
    "                                    result=recommendation_df.loc[l,'Description']\n",
    "                                    #tweets6.loc[i, 'recommend'] = recommendation_df.loc[l,'Description']\n",
    "                                    #tweets6.loc[i, 'symptoms1'] = j\n",
    "        #                             tweets['Recommendations']=recommendation_df.loc[l,'Description']\n",
    "\n",
    "\n",
    "        else:\n",
    "            ran = random.randint(2,len(neutral_df)-2)\n",
    "            result=neutral_df['Recommendation'][ran]\n",
    "            #tweets6.loc[i, 'recommend'] = neutral_df['Recommendation'][ran]\n",
    "            #tweets6.loc[i, 'symptoms1'] = \"No\"\n",
    "    return result\n",
    "#         tweets['Recommendations']=neutral_df['Recommendation']\n",
    "            \n"
   ]
  },
  {
   "cell_type": "code",
   "execution_count": 391,
   "id": "6216c13d",
   "metadata": {},
   "outputs": [
    {
     "name": "stdout",
     "output_type": "stream",
     "text": [
      "Exercise: Regular exercise can help reduce anxiety by releasing endorphins and reducing stress hormones in the body.\n"
     ]
    }
   ],
   "source": [
    "print(recommendation(tweet_for_recommendation))"
   ]
  },
  {
   "cell_type": "code",
   "execution_count": null,
   "id": "efd0ee90",
   "metadata": {},
   "outputs": [],
   "source": []
  }
 ],
 "metadata": {
  "kernelspec": {
   "display_name": "Python 3 (ipykernel)",
   "language": "python",
   "name": "python3"
  },
  "language_info": {
   "codemirror_mode": {
    "name": "ipython",
    "version": 3
   },
   "file_extension": ".py",
   "mimetype": "text/x-python",
   "name": "python",
   "nbconvert_exporter": "python",
   "pygments_lexer": "ipython3",
   "version": "3.10.5"
  }
 },
 "nbformat": 4,
 "nbformat_minor": 5
}
