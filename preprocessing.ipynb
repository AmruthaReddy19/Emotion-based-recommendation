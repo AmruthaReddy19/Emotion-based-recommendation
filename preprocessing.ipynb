{
 "cells": [
  {
   "cell_type": "code",
   "execution_count": 30,
   "id": "ac69cbff",
   "metadata": {},
   "outputs": [
    {
     "name": "stderr",
     "output_type": "stream",
     "text": [
      "[nltk_data] Downloading package punkt to\n",
      "[nltk_data]     C:\\Users\\Asus\\AppData\\Roaming\\nltk_data...\n",
      "[nltk_data]   Package punkt is already up-to-date!\n",
      "[nltk_data] Downloading package stopwords to\n",
      "[nltk_data]     C:\\Users\\Asus\\AppData\\Roaming\\nltk_data...\n",
      "[nltk_data]   Package stopwords is already up-to-date!\n"
     ]
    },
    {
     "data": {
      "text/plain": [
       "True"
      ]
     },
     "execution_count": 30,
     "metadata": {},
     "output_type": "execute_result"
    }
   ],
   "source": [
    "import re,string\n",
    "import pandas as pd\n",
    "import nltk\n",
    "nltk.download('punkt')\n",
    "from nltk.tokenize import RegexpTokenizer\n",
    "import nltk\n",
    "from nltk.corpus import stopwords\n",
    "nltk.download('stopwords')\n",
    "\n"
   ]
  },
  {
   "cell_type": "code",
   "execution_count": 44,
   "id": "2dc69d7d",
   "metadata": {},
   "outputs": [],
   "source": [
    "tokenizer=RegexpTokenizer(r'\\w+')\n",
    "tokenized_sent=[]\n",
    "for i in prep:\n",
    "    \n",
    "    tokenized_sent.append(tokenizer.tokenize(i))\n",
    "stop_words = stopwords.words('english')\n",
    "filtered_words =  [w for w in tokenized_sent if w not in stop_words]\n",
    "#unpunctuated_words = [char for char in filtered_words if char not in string.punctuation]\n",
    "data['words']=filtered_words\n"
   ]
  },
  {
   "cell_type": "code",
   "execution_count": 5,
   "id": "7a3f7ea9",
   "metadata": {},
   "outputs": [],
   "source": [
    "data=pd.read_csv('equalData.csv')"
   ]
  },
  {
   "cell_type": "code",
   "execution_count": 8,
   "id": "6b529a0d",
   "metadata": {},
   "outputs": [],
   "source": [
    "tw=[]\n",
    "for i in data['Tweet']:\n",
    "    tw.append(i)"
   ]
  },
  {
   "cell_type": "code",
   "execution_count": 9,
   "id": "bd2a854b",
   "metadata": {},
   "outputs": [],
   "source": [
    "def strip_links(text):\n",
    "    link_regex    = re.compile('((https?):((//)|(\\\\\\\\))+([\\w\\d:#@%/;$()~_?\\+-=\\\\\\.&](#!)?)*)', re.DOTALL)\n",
    "    links         = re.findall(link_regex, text)\n",
    "    for link in links:\n",
    "        text = text.replace(link[0], ', ')    \n",
    "    return text\n",
    "\n",
    "def strip_all_entities(text):\n",
    "    entity_prefixes = ['@','#']\n",
    "    for separator in  string.punctuation:\n",
    "        if separator not in entity_prefixes :\n",
    "            text = text.replace(separator,' ')\n",
    "    words = []\n",
    "    for word in text.split():\n",
    "        word = word.strip()\n",
    "        if word:\n",
    "            if word[0] not in entity_prefixes:\n",
    "                words.append(word)\n",
    "    return ' '.join(words)"
   ]
  },
  {
   "cell_type": "code",
   "execution_count": 15,
   "id": "47c9805e",
   "metadata": {},
   "outputs": [],
   "source": [
    "prep=[]\n",
    "for t in tw:\n",
    "    prep.append(strip_all_entities(strip_links(t)))"
   ]
  },
  {
   "cell_type": "code",
   "execution_count": null,
   "id": "429df1f5",
   "metadata": {
    "scrolled": false
   },
   "outputs": [],
   "source": []
  },
  {
   "cell_type": "code",
   "execution_count": 17,
   "id": "8636000e",
   "metadata": {},
   "outputs": [],
   "source": [
    "data['pre']=prep"
   ]
  },
  {
   "cell_type": "code",
   "execution_count": 47,
   "id": "e62cce2d",
   "metadata": {
    "scrolled": true
   },
   "outputs": [
    {
     "data": {
      "text/html": [
       "<div>\n",
       "<style scoped>\n",
       "    .dataframe tbody tr th:only-of-type {\n",
       "        vertical-align: middle;\n",
       "    }\n",
       "\n",
       "    .dataframe tbody tr th {\n",
       "        vertical-align: top;\n",
       "    }\n",
       "\n",
       "    .dataframe thead th {\n",
       "        text-align: right;\n",
       "    }\n",
       "</style>\n",
       "<table border=\"1\" class=\"dataframe\">\n",
       "  <thead>\n",
       "    <tr style=\"text-align: right;\">\n",
       "      <th></th>\n",
       "      <th>id</th>\n",
       "      <th>Time</th>\n",
       "      <th>Tweet</th>\n",
       "      <th>tags</th>\n",
       "      <th>pre</th>\n",
       "      <th>words</th>\n",
       "    </tr>\n",
       "  </thead>\n",
       "  <tbody>\n",
       "    <tr>\n",
       "      <th>0</th>\n",
       "      <td>1578527198734065664</td>\n",
       "      <td>2023-02-13 17:09:44+00:00</td>\n",
       "      <td>b'runny nose tear eyes fever headache loss of ...</td>\n",
       "      <td>fever</td>\n",
       "      <td>b runny nose tear eyes fever headache loss of ...</td>\n",
       "      <td>[b, runny, nose, tear, eyes, fever, headache, ...</td>\n",
       "    </tr>\n",
       "    <tr>\n",
       "      <th>1</th>\n",
       "      <td>49049956</td>\n",
       "      <td>2023-02-13 15:34:08+00:00</td>\n",
       "      <td>b'@katkinneywrites i have hot/cold sometimes. ...</td>\n",
       "      <td>fever</td>\n",
       "      <td>b i have hot cold sometimes usually cold means...</td>\n",
       "      <td>[b, i, have, hot, cold, sometimes, usually, co...</td>\n",
       "    </tr>\n",
       "    <tr>\n",
       "      <th>2</th>\n",
       "      <td>92341784</td>\n",
       "      <td>2023-02-13 13:57:31+00:00</td>\n",
       "      <td>b'cytomegalovirus colitis - complication when ...</td>\n",
       "      <td>fever</td>\n",
       "      <td>b cytomegalovirus colitis complication when cd...</td>\n",
       "      <td>[b, cytomegalovirus, colitis, complication, wh...</td>\n",
       "    </tr>\n",
       "    <tr>\n",
       "      <th>3</th>\n",
       "      <td>1179433528687239173</td>\n",
       "      <td>2023-02-13 11:38:54+00:00</td>\n",
       "      <td>b'@fatalkci l know otli and matli for nausea a...</td>\n",
       "      <td>fever</td>\n",
       "      <td>b l know otli and matli for nausea and vomitin...</td>\n",
       "      <td>[b, l, know, otli, and, matli, for, nausea, an...</td>\n",
       "    </tr>\n",
       "    <tr>\n",
       "      <th>4</th>\n",
       "      <td>856681920</td>\n",
       "      <td>2023-02-13 01:57:45+00:00</td>\n",
       "      <td>b'went from a fever to a cough to a sore throa...</td>\n",
       "      <td>fever</td>\n",
       "      <td>b went from a fever to a cough to a sore throa...</td>\n",
       "      <td>[b, went, from, a, fever, to, a, cough, to, a,...</td>\n",
       "    </tr>\n",
       "  </tbody>\n",
       "</table>\n",
       "</div>"
      ],
      "text/plain": [
       "                    id                       Time  \\\n",
       "0  1578527198734065664  2023-02-13 17:09:44+00:00   \n",
       "1             49049956  2023-02-13 15:34:08+00:00   \n",
       "2             92341784  2023-02-13 13:57:31+00:00   \n",
       "3  1179433528687239173  2023-02-13 11:38:54+00:00   \n",
       "4            856681920  2023-02-13 01:57:45+00:00   \n",
       "\n",
       "                                               Tweet   tags  \\\n",
       "0  b'runny nose tear eyes fever headache loss of ...  fever   \n",
       "1  b'@katkinneywrites i have hot/cold sometimes. ...  fever   \n",
       "2  b'cytomegalovirus colitis - complication when ...  fever   \n",
       "3  b'@fatalkci l know otli and matli for nausea a...  fever   \n",
       "4  b'went from a fever to a cough to a sore throa...  fever   \n",
       "\n",
       "                                                 pre  \\\n",
       "0  b runny nose tear eyes fever headache loss of ...   \n",
       "1  b i have hot cold sometimes usually cold means...   \n",
       "2  b cytomegalovirus colitis complication when cd...   \n",
       "3  b l know otli and matli for nausea and vomitin...   \n",
       "4  b went from a fever to a cough to a sore throa...   \n",
       "\n",
       "                                               words  \n",
       "0  [b, runny, nose, tear, eyes, fever, headache, ...  \n",
       "1  [b, i, have, hot, cold, sometimes, usually, co...  \n",
       "2  [b, cytomegalovirus, colitis, complication, wh...  \n",
       "3  [b, l, know, otli, and, matli, for, nausea, an...  \n",
       "4  [b, went, from, a, fever, to, a, cough, to, a,...  "
      ]
     },
     "execution_count": 47,
     "metadata": {},
     "output_type": "execute_result"
    }
   ],
   "source": [
    "data.head()"
   ]
  },
  {
   "cell_type": "code",
   "execution_count": 46,
   "id": "f488d82b",
   "metadata": {},
   "outputs": [],
   "source": [
    "data.drop('k',axis=1,inplace=True)"
   ]
  },
  {
   "cell_type": "code",
   "execution_count": 48,
   "id": "13dd394c",
   "metadata": {},
   "outputs": [
    {
     "data": {
      "text/plain": [
       "fever      750\n",
       "nausea     750\n",
       "sprain     750\n",
       "stroke     750\n",
       "anxiety    750\n",
       "flu        750\n",
       "obesity    750\n",
       "autism     750\n",
       "asthma     750\n",
       "dengue     730\n",
       "Name: tags, dtype: int64"
      ]
     },
     "execution_count": 48,
     "metadata": {},
     "output_type": "execute_result"
    }
   ],
   "source": [
    " data['tags'].value_counts()"
   ]
  },
  {
   "cell_type": "code",
   "execution_count": 49,
   "id": "16e634e9",
   "metadata": {},
   "outputs": [],
   "source": [
    "data.to_csv('prepData.csv')"
   ]
  },
  {
   "cell_type": "code",
   "execution_count": null,
   "id": "4f295de1",
   "metadata": {},
   "outputs": [],
   "source": []
  }
 ],
 "metadata": {
  "kernelspec": {
   "display_name": "Python 3 (ipykernel)",
   "language": "python",
   "name": "python3"
  },
  "language_info": {
   "codemirror_mode": {
    "name": "ipython",
    "version": 3
   },
   "file_extension": ".py",
   "mimetype": "text/x-python",
   "name": "python",
   "nbconvert_exporter": "python",
   "pygments_lexer": "ipython3",
   "version": "3.10.5"
  }
 },
 "nbformat": 4,
 "nbformat_minor": 5
}
