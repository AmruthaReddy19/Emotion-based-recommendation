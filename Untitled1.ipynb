{
 "cells": [
  {
   "cell_type": "code",
   "execution_count": null,
   "id": "675f7f92",
   "metadata": {},
   "outputs": [],
   "source": [
    "import pandas as pd"
   ]
  },
  {
   "cell_type": "code",
   "execution_count": 4,
   "id": "b791f7c4",
   "metadata": {},
   "outputs": [],
   "source": [
    "df=pd.read_csv('dataset.csv')"
   ]
  },
  {
   "cell_type": "code",
   "execution_count": 5,
   "id": "2178c2bb",
   "metadata": {},
   "outputs": [
    {
     "data": {
      "text/html": [
       "<div>\n",
       "<style scoped>\n",
       "    .dataframe tbody tr th:only-of-type {\n",
       "        vertical-align: middle;\n",
       "    }\n",
       "\n",
       "    .dataframe tbody tr th {\n",
       "        vertical-align: top;\n",
       "    }\n",
       "\n",
       "    .dataframe thead th {\n",
       "        text-align: right;\n",
       "    }\n",
       "</style>\n",
       "<table border=\"1\" class=\"dataframe\">\n",
       "  <thead>\n",
       "    <tr style=\"text-align: right;\">\n",
       "      <th></th>\n",
       "      <th>Unnamed: 0</th>\n",
       "      <th>Tweet</th>\n",
       "      <th>tags</th>\n",
       "      <th>Processed_Tweets</th>\n",
       "      <th>Tweets_Adjectives</th>\n",
       "      <th>Tweets_Sentiment</th>\n",
       "      <th>Subjectivity</th>\n",
       "      <th>Polarity</th>\n",
       "      <th>Sentiment</th>\n",
       "    </tr>\n",
       "  </thead>\n",
       "  <tbody>\n",
       "    <tr>\n",
       "      <th>0</th>\n",
       "      <td>0</td>\n",
       "      <td>b'runny nose tear eyes fever headache loss of ...</td>\n",
       "      <td>fever</td>\n",
       "      <td>b'runny nose tear eyes fever headache loss app...</td>\n",
       "      <td>nose tear nausea idk im</td>\n",
       "      <td>runny nose tear eye fever headache loss appeti...</td>\n",
       "      <td>0.00000</td>\n",
       "      <td>0.00000</td>\n",
       "      <td>Neutral</td>\n",
       "    </tr>\n",
       "    <tr>\n",
       "      <th>1</th>\n",
       "      <td>1</td>\n",
       "      <td>b'@katkinneywrites i have hot/cold sometimes. ...</td>\n",
       "      <td>fever</td>\n",
       "      <td>b hot/cold sometimes usually cold means things...</td>\n",
       "      <td>cold</td>\n",
       "      <td>hot/cold sometimes usually cold mean thing tur...</td>\n",
       "      <td>0.84375</td>\n",
       "      <td>-0.45625</td>\n",
       "      <td>Negative</td>\n",
       "    </tr>\n",
       "    <tr>\n",
       "      <th>2</th>\n",
       "      <td>2</td>\n",
       "      <td>b'cytomegalovirus colitis - complication when ...</td>\n",
       "      <td>fever</td>\n",
       "      <td>b'cytomegalovirus colitis complication cd lt c...</td>\n",
       "      <td>NaN</td>\n",
       "      <td>cytomegalovirus colitis complication cd lt cel...</td>\n",
       "      <td>0.00000</td>\n",
       "      <td>0.00000</td>\n",
       "      <td>Neutral</td>\n",
       "    </tr>\n",
       "    <tr>\n",
       "      <th>3</th>\n",
       "      <td>3</td>\n",
       "      <td>b'@fatalkci l know otli and matli for nausea a...</td>\n",
       "      <td>fever</td>\n",
       "      <td>b l know otli matli nausea vomiting \\nsar-me-d...</td>\n",
       "      <td>sarmedarad</td>\n",
       "      <td>l know otli matli nausea vomiting \\nsar-me-dar...</td>\n",
       "      <td>0.00000</td>\n",
       "      <td>0.00000</td>\n",
       "      <td>Neutral</td>\n",
       "    </tr>\n",
       "    <tr>\n",
       "      <th>4</th>\n",
       "      <td>4</td>\n",
       "      <td>b'went from a fever to a cough to a sore throa...</td>\n",
       "      <td>fever</td>\n",
       "      <td>b'went fever cough sore throat flu perma sneez...</td>\n",
       "      <td>NaN</td>\n",
       "      <td>went fever cough sore throat flu perma sneezin...</td>\n",
       "      <td>0.00000</td>\n",
       "      <td>0.00000</td>\n",
       "      <td>Neutral</td>\n",
       "    </tr>\n",
       "  </tbody>\n",
       "</table>\n",
       "</div>"
      ],
      "text/plain": [
       "   Unnamed: 0                                              Tweet   tags  \\\n",
       "0           0  b'runny nose tear eyes fever headache loss of ...  fever   \n",
       "1           1  b'@katkinneywrites i have hot/cold sometimes. ...  fever   \n",
       "2           2  b'cytomegalovirus colitis - complication when ...  fever   \n",
       "3           3  b'@fatalkci l know otli and matli for nausea a...  fever   \n",
       "4           4  b'went from a fever to a cough to a sore throa...  fever   \n",
       "\n",
       "                                    Processed_Tweets        Tweets_Adjectives  \\\n",
       "0  b'runny nose tear eyes fever headache loss app...  nose tear nausea idk im   \n",
       "1  b hot/cold sometimes usually cold means things...                     cold   \n",
       "2  b'cytomegalovirus colitis complication cd lt c...                      NaN   \n",
       "3  b l know otli matli nausea vomiting \\nsar-me-d...               sarmedarad   \n",
       "4  b'went fever cough sore throat flu perma sneez...                      NaN   \n",
       "\n",
       "                                    Tweets_Sentiment  Subjectivity  Polarity  \\\n",
       "0  runny nose tear eye fever headache loss appeti...       0.00000   0.00000   \n",
       "1  hot/cold sometimes usually cold mean thing tur...       0.84375  -0.45625   \n",
       "2  cytomegalovirus colitis complication cd lt cel...       0.00000   0.00000   \n",
       "3  l know otli matli nausea vomiting \\nsar-me-dar...       0.00000   0.00000   \n",
       "4  went fever cough sore throat flu perma sneezin...       0.00000   0.00000   \n",
       "\n",
       "  Sentiment  \n",
       "0   Neutral  \n",
       "1  Negative  \n",
       "2   Neutral  \n",
       "3   Neutral  \n",
       "4   Neutral  "
      ]
     },
     "execution_count": 5,
     "metadata": {},
     "output_type": "execute_result"
    }
   ],
   "source": [
    "df.head()"
   ]
  },
  {
   "cell_type": "code",
   "execution_count": 6,
   "id": "8508d6bb",
   "metadata": {},
   "outputs": [],
   "source": [
    "import enchant\n",
    "\n",
    "d = enchant.Dict(\"en_US\")"
   ]
  },
  {
   "cell_type": "code",
   "execution_count": null,
   "id": "10012606",
   "metadata": {
    "scrolled": true
   },
   "outputs": [],
   "source": [
    "def correct_spelling(tweet):\n",
    "    words = tweet.split()\n",
    "    corrected_words = []\n",
    "    for word in words:\n",
    "        if not d.check(word):\n",
    "            suggestions = d.suggest(word)\n",
    "            if suggestions:\n",
    "                corrected_words.append(suggestions[0])\n",
    "            else:\n",
    "                corrected_words.append(word)\n",
    "        else:\n",
    "            corrected_words.append(word)\n",
    "    return ' '.join(corrected_words)"
   ]
  },
  {
   "cell_type": "code",
   "execution_count": null,
   "id": "9ebd436e",
   "metadata": {
    "scrolled": true
   },
   "outputs": [],
   "source": [
    "\n"
   ]
  },
  {
   "cell_type": "code",
   "execution_count": null,
   "id": "367cfc9f",
   "metadata": {},
   "outputs": [],
   "source": []
  },
  {
   "cell_type": "code",
   "execution_count": 14,
   "id": "129657b3",
   "metadata": {},
   "outputs": [],
   "source": []
  },
  {
   "cell_type": "code",
   "execution_count": 10,
   "id": "e1741fca",
   "metadata": {},
   "outputs": [],
   "source": []
  },
  {
   "cell_type": "code",
   "execution_count": 16,
   "id": "99b4dd0a",
   "metadata": {},
   "outputs": [],
   "source": []
  },
  {
   "cell_type": "code",
   "execution_count": null,
   "id": "b8db38af",
   "metadata": {},
   "outputs": [],
   "source": []
  },
  {
   "cell_type": "code",
   "execution_count": null,
   "id": "25eb77c5",
   "metadata": {},
   "outputs": [],
   "source": []
  },
  {
   "cell_type": "code",
   "execution_count": null,
   "id": "e5ac7b5e",
   "metadata": {},
   "outputs": [],
   "source": []
  },
  {
   "cell_type": "code",
   "execution_count": null,
   "id": "db52a1b5",
   "metadata": {},
   "outputs": [],
   "source": []
  },
  {
   "cell_type": "code",
   "execution_count": null,
   "id": "df941fcb",
   "metadata": {},
   "outputs": [],
   "source": []
  },
  {
   "cell_type": "code",
   "execution_count": null,
   "id": "c0f0b112",
   "metadata": {},
   "outputs": [],
   "source": []
  },
  {
   "cell_type": "code",
   "execution_count": null,
   "id": "4dd6cfb4",
   "metadata": {},
   "outputs": [],
   "source": []
  },
  {
   "cell_type": "code",
   "execution_count": null,
   "id": "ba4ef26f",
   "metadata": {},
   "outputs": [],
   "source": []
  },
  {
   "cell_type": "code",
   "execution_count": null,
   "id": "449af493",
   "metadata": {},
   "outputs": [],
   "source": []
  },
  {
   "cell_type": "code",
   "execution_count": null,
   "id": "86c2e876",
   "metadata": {},
   "outputs": [],
   "source": []
  },
  {
   "cell_type": "code",
   "execution_count": null,
   "id": "fee1bf95",
   "metadata": {},
   "outputs": [],
   "source": [
    "blob.words"
   ]
  },
  {
   "cell_type": "code",
   "execution_count": null,
   "id": "2a2be5be",
   "metadata": {},
   "outputs": [],
   "source": [
    "for i in blob.words:\n",
    "    print(i.sentimet)"
   ]
  },
  {
   "cell_type": "code",
   "execution_count": null,
   "id": "ea1fd62a",
   "metadata": {},
   "outputs": [],
   "source": [
    "word_scores = [word.sentiment.polarity for word in lst]"
   ]
  },
  {
   "cell_type": "code",
   "execution_count": 24,
   "id": "9ca7392d",
   "metadata": {},
   "outputs": [
    {
     "ename": "ModuleNotFoundError",
     "evalue": "No module named 'sentiwordnet'",
     "output_type": "error",
     "traceback": [
      "\u001b[1;31m---------------------------------------------------------------------------\u001b[0m",
      "\u001b[1;31mModuleNotFoundError\u001b[0m                       Traceback (most recent call last)",
      "Input \u001b[1;32mIn [24]\u001b[0m, in \u001b[0;36m<cell line: 3>\u001b[1;34m()\u001b[0m\n\u001b[0;32m      1\u001b[0m \u001b[38;5;28;01mimport\u001b[39;00m \u001b[38;5;21;01mnltk\u001b[39;00m\n\u001b[0;32m      2\u001b[0m \u001b[38;5;28;01mfrom\u001b[39;00m \u001b[38;5;21;01mnltk\u001b[39;00m\u001b[38;5;21;01m.\u001b[39;00m\u001b[38;5;21;01mcorpus\u001b[39;00m \u001b[38;5;28;01mimport\u001b[39;00m wordnet \u001b[38;5;28;01mas\u001b[39;00m wn\n\u001b[1;32m----> 3\u001b[0m \u001b[38;5;28;01mfrom\u001b[39;00m \u001b[38;5;21;01msentiwordnet\u001b[39;00m \u001b[38;5;28;01mimport\u001b[39;00m SentiWordNetCorpusReader\n\u001b[0;32m      5\u001b[0m \u001b[38;5;66;03m# Tokenize the sentence into words\u001b[39;00m\n\u001b[0;32m      6\u001b[0m sentence \u001b[38;5;241m=\u001b[39m \u001b[38;5;124m\"\u001b[39m\u001b[38;5;124mI love Python programming!\u001b[39m\u001b[38;5;124m\"\u001b[39m\n",
      "\u001b[1;31mModuleNotFoundError\u001b[0m: No module named 'sentiwordnet'"
     ]
    }
   ],
   "source": [
    "import nltk\n",
    "from nltk.corpus import wordnet as wn\n",
    "from sentiwordnet import SentiWordNetCorpusReader\n",
    "\n",
    "# Tokenize the sentence into words\n",
    "sentence = \"I love Python programming!\"\n",
    "words = nltk.word_tokenize(sentence)"
   ]
  },
  {
   "cell_type": "code",
   "execution_count": null,
   "id": "fc46d8e5",
   "metadata": {},
   "outputs": [],
   "source": []
  }
 ],
 "metadata": {
  "kernelspec": {
   "display_name": "Python 3 (ipykernel)",
   "language": "python",
   "name": "python3"
  },
  "language_info": {
   "codemirror_mode": {
    "name": "ipython",
    "version": 3
   },
   "file_extension": ".py",
   "mimetype": "text/x-python",
   "name": "python",
   "nbconvert_exporter": "python",
   "pygments_lexer": "ipython3",
   "version": "3.10.5"
  }
 },
 "nbformat": 4,
 "nbformat_minor": 5
}
