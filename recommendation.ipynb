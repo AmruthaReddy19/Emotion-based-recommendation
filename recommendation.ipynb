{
 "cells": [
  {
   "cell_type": "code",
   "execution_count": 1,
   "id": "48649343",
   "metadata": {},
   "outputs": [],
   "source": [
    "import pandas as pd\n",
    "import random"
   ]
  },
  {
   "cell_type": "code",
   "execution_count": 570,
   "id": "3d0f284e",
   "metadata": {},
   "outputs": [],
   "source": [
    "tweets=pd.read_csv('recommendationData.csV')"
   ]
  },
  {
   "cell_type": "code",
   "execution_count": 571,
   "id": "4f8b6e11",
   "metadata": {
    "scrolled": true
   },
   "outputs": [
    {
     "data": {
      "text/html": [
       "<div>\n",
       "<style scoped>\n",
       "    .dataframe tbody tr th:only-of-type {\n",
       "        vertical-align: middle;\n",
       "    }\n",
       "\n",
       "    .dataframe tbody tr th {\n",
       "        vertical-align: top;\n",
       "    }\n",
       "\n",
       "    .dataframe thead th {\n",
       "        text-align: right;\n",
       "    }\n",
       "</style>\n",
       "<table border=\"1\" class=\"dataframe\">\n",
       "  <thead>\n",
       "    <tr style=\"text-align: right;\">\n",
       "      <th></th>\n",
       "      <th>Tweet</th>\n",
       "      <th>tags</th>\n",
       "      <th>Cleaned_tweet</th>\n",
       "      <th>Subjectivity</th>\n",
       "      <th>Polarity</th>\n",
       "      <th>Sentiment</th>\n",
       "      <th>Noun_phrases</th>\n",
       "      <th>Adjectives</th>\n",
       "    </tr>\n",
       "  </thead>\n",
       "  <tbody>\n",
       "    <tr>\n",
       "      <th>0</th>\n",
       "      <td>b'runny nose tear eyes fever headache loss of ...</td>\n",
       "      <td>fever</td>\n",
       "      <td>runny nose tear eye fever headache loss appeti...</td>\n",
       "      <td>0.00000</td>\n",
       "      <td>0.00000</td>\n",
       "      <td>Neutral</td>\n",
       "      <td>['runny', 'nose tear eye', 'fever', 'headache'...</td>\n",
       "      <td>['nose', 'tear']</td>\n",
       "    </tr>\n",
       "    <tr>\n",
       "      <th>1</th>\n",
       "      <td>b'@katkinneywrites i have hot/cold sometimes. ...</td>\n",
       "      <td>fever</td>\n",
       "      <td>hot cold sometimes usually cold mean thing tur...</td>\n",
       "      <td>0.84375</td>\n",
       "      <td>-0.45625</td>\n",
       "      <td>Negative</td>\n",
       "      <td>['cold mean thing', 'fever', 'breaking']</td>\n",
       "      <td>['hot', 'cold', 'cold', 'mean']</td>\n",
       "    </tr>\n",
       "    <tr>\n",
       "      <th>2</th>\n",
       "      <td>b'cytomegalovirus colitis - complication when ...</td>\n",
       "      <td>fever</td>\n",
       "      <td>cytomegalovirus colitis complication cd lt cel...</td>\n",
       "      <td>0.00000</td>\n",
       "      <td>0.00000</td>\n",
       "      <td>Neutral</td>\n",
       "      <td>['cytomegalovirus', 'colitis', 'complication',...</td>\n",
       "      <td>['s']</td>\n",
       "    </tr>\n",
       "    <tr>\n",
       "      <th>3</th>\n",
       "      <td>b'@fatalkci l know otli and matli for nausea a...</td>\n",
       "      <td>fever</td>\n",
       "      <td>l know otli matli nausea vomiting  sar me dara...</td>\n",
       "      <td>0.00000</td>\n",
       "      <td>0.00000</td>\n",
       "      <td>Neutral</td>\n",
       "      <td>['l', 'matli', 'nausea', 'darad headache', 'bu...</td>\n",
       "      <td>['darad']</td>\n",
       "    </tr>\n",
       "    <tr>\n",
       "      <th>4</th>\n",
       "      <td>b'went from a fever to a cough to a sore throa...</td>\n",
       "      <td>fever</td>\n",
       "      <td>went fever cough sore throat flu perma sneezin...</td>\n",
       "      <td>0.00000</td>\n",
       "      <td>0.00000</td>\n",
       "      <td>Neutral</td>\n",
       "      <td>['cough sore', 'throat', 'flu', 'perma', 'nose...</td>\n",
       "      <td>['cough', 'nosebleed']</td>\n",
       "    </tr>\n",
       "  </tbody>\n",
       "</table>\n",
       "</div>"
      ],
      "text/plain": [
       "                                               Tweet   tags  \\\n",
       "0  b'runny nose tear eyes fever headache loss of ...  fever   \n",
       "1  b'@katkinneywrites i have hot/cold sometimes. ...  fever   \n",
       "2  b'cytomegalovirus colitis - complication when ...  fever   \n",
       "3  b'@fatalkci l know otli and matli for nausea a...  fever   \n",
       "4  b'went from a fever to a cough to a sore throa...  fever   \n",
       "\n",
       "                                       Cleaned_tweet  Subjectivity  Polarity  \\\n",
       "0  runny nose tear eye fever headache loss appeti...       0.00000   0.00000   \n",
       "1  hot cold sometimes usually cold mean thing tur...       0.84375  -0.45625   \n",
       "2  cytomegalovirus colitis complication cd lt cel...       0.00000   0.00000   \n",
       "3  l know otli matli nausea vomiting  sar me dara...       0.00000   0.00000   \n",
       "4  went fever cough sore throat flu perma sneezin...       0.00000   0.00000   \n",
       "\n",
       "  Sentiment                                       Noun_phrases  \\\n",
       "0   Neutral  ['runny', 'nose tear eye', 'fever', 'headache'...   \n",
       "1  Negative           ['cold mean thing', 'fever', 'breaking']   \n",
       "2   Neutral  ['cytomegalovirus', 'colitis', 'complication',...   \n",
       "3   Neutral  ['l', 'matli', 'nausea', 'darad headache', 'bu...   \n",
       "4   Neutral  ['cough sore', 'throat', 'flu', 'perma', 'nose...   \n",
       "\n",
       "                        Adjectives  \n",
       "0                 ['nose', 'tear']  \n",
       "1  ['hot', 'cold', 'cold', 'mean']  \n",
       "2                            ['s']  \n",
       "3                        ['darad']  \n",
       "4           ['cough', 'nosebleed']  "
      ]
     },
     "execution_count": 571,
     "metadata": {},
     "output_type": "execute_result"
    }
   ],
   "source": [
    "tweets.head()"
   ]
  },
  {
   "cell_type": "code",
   "execution_count": 572,
   "id": "75860274",
   "metadata": {},
   "outputs": [
    {
     "data": {
      "text/plain": [
       "sprain     750\n",
       "stroke     750\n",
       "anxiety    750\n",
       "flu        750\n",
       "asthma     750\n",
       "fever      749\n",
       "nausea     748\n",
       "obesity    748\n",
       "autism     736\n",
       "dengue     730\n",
       "Name: tags, dtype: int64"
      ]
     },
     "execution_count": 572,
     "metadata": {},
     "output_type": "execute_result"
    }
   ],
   "source": [
    "tweets['tags'].value_counts()"
   ]
  },
  {
   "cell_type": "code",
   "execution_count": 573,
   "id": "68cdab36",
   "metadata": {
    "scrolled": true
   },
   "outputs": [],
   "source": [
    "#tweets=pd.read_csv('recommendationData.csV')\n",
    "recommendation_df = pd.read_csv('Diseasesupdated.csv')\n",
    "neutral_df = pd.read_csv('Neutral.csv')"
   ]
  },
  {
   "cell_type": "code",
   "execution_count": 574,
   "id": "bac49e1e",
   "metadata": {},
   "outputs": [],
   "source": [
    "#disease features\n",
    "#disease features\n",
    "disease_features = {\n",
    "   \n",
    "    'flu': ['cough','body aches','cold','headache','virus','stuffy nose','soar throat'],\n",
    "    'sprain': ['pain','soreness','injury','swelling','restricted','instability','bruising','twist foot','ankle'],\n",
    "    'stroke': ['redness','excessive tears','eyes','sudden headache','weakness','loss'],\n",
    "    'anxiety':['fear','worry','attacks','sleeping','irritability','stress','fatigue','depression','confusion','struggle'],\n",
    "    'obesity':['cholestrol','sleep','pain','body weight','fat','stress','weight'],\n",
    "    'autism':['disability','talk','upset','difficulties','neurodiversity'],\n",
    "    'fever':['temperature','chills','sweating','headache','muscle aches','fatigue','heartbeat','diarrhea','nausea','throat'],\n",
    "    'nausea':['vomit','sweating','salivation','queasiness','gagging','retching','anxiety','rapid heartbeat','headche','stomach'],\n",
    "    'dengue':['nausea','vomiting','mosquito','fever','virus','headache','platelet','joint pain','weakness','fatigue'],\n",
    "    'asthma':['wheezing','tightness','coughing','breath','lung','inhaler','allergy']\n",
    "    \n",
    "}"
   ]
  },
  {
   "cell_type": "code",
   "execution_count": 599,
   "id": "e064c9f0",
   "metadata": {},
   "outputs": [],
   "source": [
    "tweets=pd.read_csv('recommendationData.csV')\n",
    "recommendation_df = pd.read_csv('Diseasesupdated.csv')\n",
    "neutral_df = pd.read_csv('Neutral.csv')\n",
    "general=pd.read_csv('featuresdata.csv')"
   ]
  },
  {
   "cell_type": "code",
   "execution_count": 600,
   "id": "48a8a2a9",
   "metadata": {},
   "outputs": [],
   "source": [
    "def recommendation(tweets6):\n",
    "    \n",
    "    for i in range(len(tweets6)):\n",
    "        \n",
    "    \n",
    "        features=disease_features[tweets6.loc[i,'tags']]\n",
    "    #     print(features)\n",
    "        if tweets6.loc[i,'Sentiment'] == 'Negative':\n",
    "            count = 0\n",
    "            for z in features:\n",
    "                if z.lower() in tweets6.loc[i,'Cleaned_tweet']:\n",
    "                    count+=1\n",
    "                else:\n",
    "                    continue\n",
    "            if count == 0:\n",
    "                for n in range(len(general)):\n",
    "\n",
    "                        if general.loc[n,'Diseases'] == tweets6.loc[i,'tags']:\n",
    "    #                         print(general.loc[n,'Diseases'])\n",
    "                            if general.loc[n,'Features'] == 'no':\n",
    "    #                             continue\n",
    "                                #print(general.loc[n,'Description'])\n",
    "                                tweets6.loc[i, 'recommend'] = general.loc[n,'Description']\n",
    "                                tweets6.loc[i, 'symptoms1'] = \"no\"\n",
    "    #                             tweets['Recommendations']=general.loc[n,'Description']\n",
    "            else:\n",
    "\n",
    "                for j in features:\n",
    "\n",
    "                    if j in tweets6.loc[i,'Cleaned_tweet']:\n",
    "        #                 print(j,i)\n",
    "\n",
    "                        for l in range(len(recommendation_df)):\n",
    "\n",
    "                            if recommendation_df.loc[l,'Diseases'].lower() == tweets6.loc[i,'tags'].lower():\n",
    "        #                         print(recommendation_df.loc[l,'Diseases'])\n",
    "\n",
    "                                if recommendation_df.loc[l,'Features'].lower() == j.lower():\n",
    "        #                             continue\n",
    "                                    #print(recommendation_df.loc[l,'Description'])\n",
    "                                    tweets6.loc[i, 'recommend'] = recommendation_df.loc[l,'Description']\n",
    "                                    tweets6.loc[i, 'symptoms1'] = j\n",
    "        #                             tweets['Recommendations']=recommendation_df.loc[l,'Description']\n",
    "\n",
    "\n",
    "        else:\n",
    "            ran = random.randint(2,len(neutral_df)-2)\n",
    "            #print(neutral_df['Recommendation'][ran])\n",
    "            tweets6.loc[i, 'recommend'] = neutral_df['Recommendation'][ran]\n",
    "            tweets6.loc[i, 'symptoms1'] = \"no\"\n",
    "    return tweets6\n",
    "#         tweets['Recommendations']=neutral_df['Recommendation'][ran]\n",
    "\n",
    "        \n",
    "            \n",
    "\n",
    "    \n",
    "    \n",
    "    \n",
    "    \n",
    "   \n",
    "    \n",
    "        \n",
    "    "
   ]
  },
  {
   "cell_type": "code",
   "execution_count": null,
   "id": "78ca036e",
   "metadata": {},
   "outputs": [],
   "source": [
    "df=recommendation(tweets)"
   ]
  },
  {
   "cell_type": "code",
   "execution_count": null,
   "id": "c1aae3ae",
   "metadata": {},
   "outputs": [],
   "source": [
    "df[df['tags']=='anxiety']['symptoms1'].isnull().sum()"
   ]
  },
  {
   "cell_type": "code",
   "execution_count": null,
   "id": "06b9e578",
   "metadata": {},
   "outputs": [],
   "source": []
  },
  {
   "cell_type": "code",
   "execution_count": null,
   "id": "4dcbefa2",
   "metadata": {},
   "outputs": [],
   "source": []
  },
  {
   "cell_type": "code",
   "execution_count": null,
   "id": "36827d6c",
   "metadata": {},
   "outputs": [],
   "source": []
  },
  {
   "cell_type": "code",
   "execution_count": null,
   "id": "0feafbc3",
   "metadata": {},
   "outputs": [],
   "source": []
  },
  {
   "cell_type": "code",
   "execution_count": null,
   "id": "bdac669b",
   "metadata": {},
   "outputs": [],
   "source": []
  },
  {
   "cell_type": "code",
   "execution_count": null,
   "id": "b9fb5f42",
   "metadata": {},
   "outputs": [],
   "source": []
  },
  {
   "cell_type": "code",
   "execution_count": null,
   "id": "cdb13fe5",
   "metadata": {},
   "outputs": [],
   "source": []
  },
  {
   "cell_type": "code",
   "execution_count": null,
   "id": "182322cf",
   "metadata": {},
   "outputs": [],
   "source": []
  },
  {
   "cell_type": "code",
   "execution_count": null,
   "id": "803d08c1",
   "metadata": {},
   "outputs": [],
   "source": []
  },
  {
   "cell_type": "code",
   "execution_count": null,
   "id": "3c25a3ce",
   "metadata": {},
   "outputs": [],
   "source": []
  },
  {
   "cell_type": "code",
   "execution_count": null,
   "id": "12ee2480",
   "metadata": {},
   "outputs": [],
   "source": []
  },
  {
   "cell_type": "code",
   "execution_count": null,
   "id": "67c3654e",
   "metadata": {},
   "outputs": [],
   "source": []
  },
  {
   "cell_type": "code",
   "execution_count": null,
   "id": "a423812e",
   "metadata": {},
   "outputs": [],
   "source": []
  },
  {
   "cell_type": "code",
   "execution_count": null,
   "id": "550d4d19",
   "metadata": {},
   "outputs": [],
   "source": []
  },
  {
   "cell_type": "code",
   "execution_count": null,
   "id": "80a1b29f",
   "metadata": {},
   "outputs": [],
   "source": []
  },
  {
   "cell_type": "code",
   "execution_count": null,
   "id": "1f12b30a",
   "metadata": {},
   "outputs": [],
   "source": []
  },
  {
   "cell_type": "code",
   "execution_count": null,
   "id": "0a460fc7",
   "metadata": {},
   "outputs": [],
   "source": []
  },
  {
   "cell_type": "code",
   "execution_count": null,
   "id": "cafb9856",
   "metadata": {},
   "outputs": [],
   "source": []
  },
  {
   "cell_type": "code",
   "execution_count": null,
   "id": "5e8325df",
   "metadata": {},
   "outputs": [],
   "source": []
  },
  {
   "cell_type": "code",
   "execution_count": 577,
   "id": "c84feb2b",
   "metadata": {},
   "outputs": [
    {
     "ename": "IndentationError",
     "evalue": "expected an indented block after function definition on line 1 (94535397.py, line 3)",
     "output_type": "error",
     "traceback": [
      "\u001b[1;36m  Input \u001b[1;32mIn [577]\u001b[1;36m\u001b[0m\n\u001b[1;33m    for i in range(len(tweets6)):\u001b[0m\n\u001b[1;37m    ^\u001b[0m\n\u001b[1;31mIndentationError\u001b[0m\u001b[1;31m:\u001b[0m expected an indented block after function definition on line 1\n"
     ]
    }
   ],
   "source": [
    "\n",
    "    def recommendation(tweets6):\n",
    "    \n",
    "    for i in range(len(tweets6)):\n",
    "        \n",
    "    \n",
    "        features=disease_features[tweets6.loc[i,'tags']]\n",
    "    #     print(features)\n",
    "        if tweets6.loc[i,'Sentiment'] == 'Negative':\n",
    "            count = 0\n",
    "            for z in features:\n",
    "                if z.lower() in tweets6.loc[i,'Cleaned_tweet']:\n",
    "                    count+=1\n",
    "                else:\n",
    "                    continue\n",
    "            if count == 0:\n",
    "                for n in range(len(general)):\n",
    "\n",
    "                        if general.loc[n,'Diseases'].lower() == tweets6.loc[i,'tags'].lower():\n",
    "    #                         print(general.loc[n,'Diseases'])\n",
    "                            if general.loc[n,'Features'] == 'No':\n",
    "    #                             continue\n",
    "                                #print(general.loc[n,'Description'])\n",
    "                                tweets6.loc[i, 'recommend'] = general.loc[n,'Description']\n",
    "                                tweets6.loc[i, 'symptoms1'] = \"No\"\n",
    "    #                             tweets['Recommendations']=general.loc[n,'Description']\n",
    "            else:\n",
    "\n",
    "                for j in features:\n",
    "\n",
    "                    if j in tweets6.loc[i,'Cleaned_tweet']:\n",
    "        #                 print(j,i)\n",
    "\n",
    "                        for l in range(len(recommendation_df)):\n",
    "\n",
    "                            if recommendation_df.loc[l,'Diseases'].lower() == tweets6.loc[i,'tags'].lower():\n",
    "        #                         print(recommendation_df.loc[l,'Diseases'])\n",
    "\n",
    "                                if recommendation_df.loc[l,'Features'].lower() == j.lower():\n",
    "        #                             continue\n",
    "                                    #print(recommendation_df.loc[l,'Description'])\n",
    "                                    tweets6.loc[i, 'recommend'] = recommendation_df.loc[l,'Description']\n",
    "                                    tweets6.loc[i, 'symptoms1'] = j\n",
    "        #                             tweets['Recommendations']=recommendation_df.loc[l,'Description']\n",
    "\n",
    "\n",
    "        else:\n",
    "            ran = random.randint(2,len(neutral_df)-2)\n",
    "            #print(neutral_df['Recommendation'][ran])\n",
    "            tweets6.loc[i, 'recommend'] = neutral_df['Recommendation'][ran]\n",
    "            tweets6.loc[i, 'symptoms1'] = \"No\"\n",
    "    return tweets6"
   ]
  },
  {
   "cell_type": "code",
   "execution_count": 56,
   "id": "f42592cf",
   "metadata": {},
   "outputs": [],
   "source": []
  },
  {
   "cell_type": "code",
   "execution_count": 60,
   "id": "5e5182b3",
   "metadata": {},
   "outputs": [],
   "source": []
  },
  {
   "cell_type": "code",
   "execution_count": null,
   "id": "13f6c9e2",
   "metadata": {
    "scrolled": true
   },
   "outputs": [],
   "source": []
  },
  {
   "cell_type": "code",
   "execution_count": null,
   "id": "657ac043",
   "metadata": {},
   "outputs": [],
   "source": []
  },
  {
   "cell_type": "code",
   "execution_count": null,
   "id": "987af507",
   "metadata": {},
   "outputs": [],
   "source": []
  },
  {
   "cell_type": "code",
   "execution_count": 74,
   "id": "9b6bffd4",
   "metadata": {},
   "outputs": [],
   "source": [
    "\n"
   ]
  },
  {
   "cell_type": "code",
   "execution_count": 88,
   "id": "e50074ea",
   "metadata": {},
   "outputs": [],
   "source": []
  },
  {
   "cell_type": "code",
   "execution_count": 126,
   "id": "68848c6a",
   "metadata": {},
   "outputs": [],
   "source": []
  },
  {
   "cell_type": "code",
   "execution_count": 127,
   "id": "8ac7c8bd",
   "metadata": {},
   "outputs": [],
   "source": []
  },
  {
   "cell_type": "code",
   "execution_count": null,
   "id": "c5f38574",
   "metadata": {
    "scrolled": true
   },
   "outputs": [],
   "source": []
  },
  {
   "cell_type": "code",
   "execution_count": null,
   "id": "75e6083f",
   "metadata": {},
   "outputs": [],
   "source": []
  },
  {
   "cell_type": "code",
   "execution_count": null,
   "id": "8e953c93",
   "metadata": {},
   "outputs": [],
   "source": []
  },
  {
   "cell_type": "code",
   "execution_count": null,
   "id": "01d47f37",
   "metadata": {},
   "outputs": [],
   "source": []
  },
  {
   "cell_type": "code",
   "execution_count": 114,
   "id": "a1e98752",
   "metadata": {},
   "outputs": [],
   "source": []
  },
  {
   "cell_type": "code",
   "execution_count": 147,
   "id": "349ab18e",
   "metadata": {},
   "outputs": [],
   "source": []
  },
  {
   "cell_type": "code",
   "execution_count": 136,
   "id": "fda28d4e",
   "metadata": {},
   "outputs": [],
   "source": []
  },
  {
   "cell_type": "code",
   "execution_count": null,
   "id": "f5e75dcd",
   "metadata": {
    "scrolled": true
   },
   "outputs": [],
   "source": []
  },
  {
   "cell_type": "code",
   "execution_count": null,
   "id": "8bd58423",
   "metadata": {
    "scrolled": false
   },
   "outputs": [],
   "source": []
  },
  {
   "cell_type": "code",
   "execution_count": null,
   "id": "7132ce56",
   "metadata": {},
   "outputs": [],
   "source": []
  },
  {
   "cell_type": "code",
   "execution_count": null,
   "id": "33538215",
   "metadata": {},
   "outputs": [],
   "source": []
  },
  {
   "cell_type": "code",
   "execution_count": null,
   "id": "ccb01a5a",
   "metadata": {},
   "outputs": [],
   "source": []
  },
  {
   "cell_type": "code",
   "execution_count": 549,
   "id": "9bb329d1",
   "metadata": {},
   "outputs": [],
   "source": []
  },
  {
   "cell_type": "code",
   "execution_count": null,
   "id": "ad356221",
   "metadata": {},
   "outputs": [],
   "source": []
  },
  {
   "cell_type": "code",
   "execution_count": null,
   "id": "1442dbb9",
   "metadata": {},
   "outputs": [],
   "source": []
  },
  {
   "cell_type": "code",
   "execution_count": null,
   "id": "6651783d",
   "metadata": {
    "scrolled": false
   },
   "outputs": [],
   "source": []
  },
  {
   "cell_type": "code",
   "execution_count": 539,
   "id": "38590e49",
   "metadata": {},
   "outputs": [],
   "source": []
  },
  {
   "cell_type": "code",
   "execution_count": null,
   "id": "c95e46f0",
   "metadata": {},
   "outputs": [],
   "source": []
  },
  {
   "cell_type": "code",
   "execution_count": null,
   "id": "efefe4bc",
   "metadata": {
    "scrolled": false
   },
   "outputs": [],
   "source": [
    "\n",
    "                \n",
    "            \n",
    "              \n",
    "            \n",
    "                \n",
    "    "
   ]
  },
  {
   "cell_type": "code",
   "execution_count": 359,
   "id": "c6fb7e80",
   "metadata": {},
   "outputs": [],
   "source": []
  },
  {
   "cell_type": "code",
   "execution_count": null,
   "id": "5d255632",
   "metadata": {},
   "outputs": [],
   "source": []
  },
  {
   "cell_type": "code",
   "execution_count": null,
   "id": "1c98b34c",
   "metadata": {
    "scrolled": false
   },
   "outputs": [],
   "source": []
  },
  {
   "cell_type": "code",
   "execution_count": 515,
   "id": "56f326cc",
   "metadata": {},
   "outputs": [],
   "source": []
  },
  {
   "cell_type": "code",
   "execution_count": 347,
   "id": "cf08b26a",
   "metadata": {},
   "outputs": [],
   "source": [
    "\n"
   ]
  },
  {
   "cell_type": "code",
   "execution_count": 493,
   "id": "03a487ae",
   "metadata": {
    "scrolled": false
   },
   "outputs": [],
   "source": []
  },
  {
   "cell_type": "code",
   "execution_count": null,
   "id": "68ea52f4",
   "metadata": {},
   "outputs": [],
   "source": []
  },
  {
   "cell_type": "code",
   "execution_count": 551,
   "id": "b6a724bb",
   "metadata": {
    "scrolled": false
   },
   "outputs": [],
   "source": [
    "\n",
    "for i in range(len(tweets6)):\n",
    "    \n",
    "    features=disease_features[tweets6.loc[i,'tags']]\n",
    "#     print(features)\n",
    "    if tweets6.loc[i,'Sentiment'] == 'Negative':\n",
    "        count = 0\n",
    "        for z in features:\n",
    "            if z.lower() in tweets6.loc[i,'Cleaned_tweet']:\n",
    "                count+=1\n",
    "            else:\n",
    "                continue\n",
    "        if count == 0:\n",
    "            for n in range(len(general)):\n",
    "                    \n",
    "                    if general.loc[n,'Diseases'].lower() == tweets6.loc[i,'tags'].lower():\n",
    "#                         print(general.loc[n,'Diseases'])\n",
    "                        if general.loc[n,'Features'] == 'No':\n",
    "#                             continue\n",
    "                            #print(general.loc[n,'Description'])\n",
    "                            tweets6.loc[i, 'recommend'] = general.loc[n,'Description']\n",
    "                            tweets6.loc[i, 'symptoms1'] = \"No\"\n",
    "#                             tweets['Recommendations']=general.loc[n,'Description']\n",
    "        else:\n",
    "            \n",
    "            for j in features:\n",
    "\n",
    "                if j in tweets6.loc[i,'Cleaned_tweet']:\n",
    "    #                 print(j,i)\n",
    "\n",
    "                    for l in range(len(recommendation_df)):\n",
    "\n",
    "                        if recommendation_df.loc[l,'Diseases'].lower() == tweets6.loc[i,'tags'].lower():\n",
    "    #                         print(recommendation_df.loc[l,'Diseases'])\n",
    "\n",
    "                            if recommendation_df.loc[l,'Features'].lower() == j.lower():\n",
    "    #                             continue\n",
    "                                #print(recommendation_df.loc[l,'Description'])\n",
    "                                tweets6.loc[i, 'recommend'] = recommendation_df.loc[l,'Description']\n",
    "                                tweets6.loc[i, 'symptoms1'] = j\n",
    "    #                             tweets['Recommendations']=recommendation_df.loc[l,'Description']\n",
    "\n",
    "  \n",
    "    else:\n",
    "        ran = random.randint(2,len(neutral_df)-2)\n",
    "        #print(neutral_df['Recommendation'][ran])\n",
    "        tweets6.loc[i, 'recommend'] = neutral_df['Recommendation'][ran]\n",
    "        tweets6.loc[i, 'symptoms1'] = \"No\"\n",
    "#         tweets['Recommendations']=neutral_df['Recommendation'][ran]\n",
    "        \n",
    "            \n",
    "\n",
    "    \n",
    "    \n",
    "    \n",
    "    \n",
    "   \n",
    "    \n",
    "        "
   ]
  },
  {
   "cell_type": "code",
   "execution_count": 520,
   "id": "6e11eb90",
   "metadata": {
    "scrolled": true
   },
   "outputs": [],
   "source": []
  },
  {
   "cell_type": "code",
   "execution_count": 560,
   "id": "5002cc4f",
   "metadata": {
    "scrolled": true
   },
   "outputs": [
    {
     "data": {
      "text/plain": [
       "0       No\n",
       "1       No\n",
       "2       No\n",
       "3       No\n",
       "4       No\n",
       "        ..\n",
       "7456    No\n",
       "7457    No\n",
       "7458    No\n",
       "7459    No\n",
       "7460    No\n",
       "Name: symptoms1, Length: 7461, dtype: object"
      ]
     },
     "execution_count": 560,
     "metadata": {},
     "output_type": "execute_result"
    }
   ],
   "source": [
    "tweets6['symptoms1']"
   ]
  },
  {
   "cell_type": "code",
   "execution_count": 565,
   "id": "3e6acdb5",
   "metadata": {},
   "outputs": [
    {
     "data": {
      "text/plain": [
       "1660"
      ]
     },
     "execution_count": 565,
     "metadata": {},
     "output_type": "execute_result"
    }
   ],
   "source": [
    "(tweets6['Sentiment']=='Negative').sum()"
   ]
  },
  {
   "cell_type": "code",
   "execution_count": 562,
   "id": "ef13d776",
   "metadata": {},
   "outputs": [
    {
     "data": {
      "text/plain": [
       "No                 1138\n",
       "ankle               156\n",
       "cold                 43\n",
       "fever                19\n",
       "nausea               16\n",
       "virus                11\n",
       "vomit                10\n",
       "throat                9\n",
       "weight                9\n",
       "fat                   8\n",
       "mosquito              8\n",
       "anxiety               5\n",
       "allergy               5\n",
       "lung                  5\n",
       "headache              4\n",
       "injury                3\n",
       "gagging               1\n",
       "rapid heartbeat       1\n",
       "pain                  1\n",
       "cough                 1\n",
       "Name: symptoms1, dtype: int64"
      ]
     },
     "execution_count": 562,
     "metadata": {},
     "output_type": "execute_result"
    }
   ],
   "source": [
    "tweets6[tweets6['Sentiment']=='Negative']['symptoms1'].value_counts()"
   ]
  },
  {
   "cell_type": "code",
   "execution_count": 535,
   "id": "a12d6819",
   "metadata": {},
   "outputs": [],
   "source": [
    "tweets.dropna(inplace=True)\n",
    "tweets4.reset_index(inplace=True,drop=True)"
   ]
  },
  {
   "cell_type": "code",
   "execution_count": 536,
   "id": "25c5019a",
   "metadata": {},
   "outputs": [],
   "source": [
    "feature_match_list=list(tweets4[tweets4['Sentiment']=='Negative']['symptoms1'])"
   ]
  },
  {
   "cell_type": "code",
   "execution_count": null,
   "id": "c48fdda5",
   "metadata": {},
   "outputs": [],
   "source": []
  },
  {
   "cell_type": "code",
   "execution_count": 537,
   "id": "29b399c6",
   "metadata": {},
   "outputs": [
    {
     "data": {
      "text/plain": [
       "Counter({'No': 1441, 'vomit': 11, 'gagging': 1, 'sweating': 2, 'cough': 2})"
      ]
     },
     "execution_count": 537,
     "metadata": {},
     "output_type": "execute_result"
    }
   ],
   "source": [
    "from collections import Counter\n",
    "\n",
    "Counter(feature_match_list)"
   ]
  },
  {
   "cell_type": "code",
   "execution_count": 514,
   "id": "040a3f0d",
   "metadata": {},
   "outputs": [],
   "source": [
    "tweets.to_csv('Data_with_final_recommendation.csv')"
   ]
  },
  {
   "cell_type": "code",
   "execution_count": null,
   "id": "b856872d",
   "metadata": {},
   "outputs": [],
   "source": []
  },
  {
   "cell_type": "code",
   "execution_count": null,
   "id": "00ae37b4",
   "metadata": {},
   "outputs": [],
   "source": []
  },
  {
   "cell_type": "code",
   "execution_count": 202,
   "id": "b4bc07b7",
   "metadata": {},
   "outputs": [],
   "source": []
  },
  {
   "cell_type": "code",
   "execution_count": null,
   "id": "874315a7",
   "metadata": {},
   "outputs": [],
   "source": []
  },
  {
   "cell_type": "code",
   "execution_count": null,
   "id": "0516cb98",
   "metadata": {},
   "outputs": [],
   "source": []
  },
  {
   "cell_type": "code",
   "execution_count": null,
   "id": "abd916f9",
   "metadata": {},
   "outputs": [],
   "source": []
  },
  {
   "cell_type": "code",
   "execution_count": null,
   "id": "57921a06",
   "metadata": {},
   "outputs": [],
   "source": []
  },
  {
   "cell_type": "code",
   "execution_count": 512,
   "id": "f4c345d9",
   "metadata": {},
   "outputs": [
    {
     "data": {
      "text/plain": [
       "14249"
      ]
     },
     "execution_count": 512,
     "metadata": {},
     "output_type": "execute_result"
    }
   ],
   "source": []
  },
  {
   "cell_type": "code",
   "execution_count": null,
   "id": "d4647ee4",
   "metadata": {},
   "outputs": [],
   "source": []
  },
  {
   "cell_type": "code",
   "execution_count": null,
   "id": "bda13f01",
   "metadata": {},
   "outputs": [],
   "source": []
  },
  {
   "cell_type": "code",
   "execution_count": null,
   "id": "3ee54e19",
   "metadata": {},
   "outputs": [],
   "source": []
  },
  {
   "cell_type": "code",
   "execution_count": null,
   "id": "3ba254e4",
   "metadata": {},
   "outputs": [],
   "source": []
  }
 ],
 "metadata": {
  "kernelspec": {
   "display_name": "Python 3 (ipykernel)",
   "language": "python",
   "name": "python3"
  },
  "language_info": {
   "codemirror_mode": {
    "name": "ipython",
    "version": 3
   },
   "file_extension": ".py",
   "mimetype": "text/x-python",
   "name": "python",
   "nbconvert_exporter": "python",
   "pygments_lexer": "ipython3",
   "version": "3.10.5"
  }
 },
 "nbformat": 4,
 "nbformat_minor": 5
}
