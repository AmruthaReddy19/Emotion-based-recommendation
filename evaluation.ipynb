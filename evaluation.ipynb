{
 "cells": [
  {
   "cell_type": "code",
   "execution_count": 4,
   "id": "b66f5e85",
   "metadata": {},
   "outputs": [],
   "source": [
    "import pandas as pd"
   ]
  },
  {
   "cell_type": "code",
   "execution_count": 71,
   "id": "c126ad30",
   "metadata": {
    "scrolled": true
   },
   "outputs": [],
   "source": [
    "df1=pd.read_csv('final_recommended_data.csv')"
   ]
  },
  {
   "cell_type": "code",
   "execution_count": null,
   "id": "b53788d6",
   "metadata": {
    "scrolled": true
   },
   "outputs": [],
   "source": []
  },
  {
   "cell_type": "code",
   "execution_count": null,
   "id": "e286821b",
   "metadata": {},
   "outputs": [],
   "source": []
  },
  {
   "cell_type": "code",
   "execution_count": 72,
   "id": "cf92fb56",
   "metadata": {},
   "outputs": [],
   "source": [
    "df1=df1[df1['Sentiment']=='Negative']"
   ]
  },
  {
   "cell_type": "code",
   "execution_count": 73,
   "id": "86f331fa",
   "metadata": {},
   "outputs": [],
   "source": [
    "df1=df1[df1['symptoms1']=='No']"
   ]
  },
  {
   "cell_type": "code",
   "execution_count": 74,
   "id": "be4a7af6",
   "metadata": {},
   "outputs": [],
   "source": [
    "feature_matching=df1[df1['symptoms1']=='No']"
   ]
  },
  {
   "cell_type": "code",
   "execution_count": 75,
   "id": "1b9cefdc",
   "metadata": {
    "scrolled": true
   },
   "outputs": [
    {
     "data": {
      "text/plain": [
       "Index(['Unnamed: 0', 'Tweet', 'tags', 'Cleaned_tweet', 'Subjectivity',\n",
       "       'Polarity', 'Sentiment', 'Noun_phrases', 'Adjectives', 'recommend',\n",
       "       'symptoms1'],\n",
       "      dtype='object')"
      ]
     },
     "execution_count": 75,
     "metadata": {},
     "output_type": "execute_result"
    }
   ],
   "source": [
    "feature_matching.columns"
   ]
  },
  {
   "cell_type": "code",
   "execution_count": 77,
   "id": "57897efd",
   "metadata": {},
   "outputs": [],
   "source": [
    "feature_matching.drop(['Unnamed: 0', 'Tweet','Subjectivity',\n",
    "       'Polarity', 'Sentiment', 'Noun_phrases', 'Adjectives'],axis=1,inplace=True)"
   ]
  },
  {
   "cell_type": "code",
   "execution_count": 78,
   "id": "5d332db4",
   "metadata": {},
   "outputs": [],
   "source": [
    "feature_matching.to_csv('feature_matching_final.csv')"
   ]
  },
  {
   "cell_type": "code",
   "execution_count": 21,
   "id": "330f0941",
   "metadata": {},
   "outputs": [
    {
     "data": {
      "text/plain": [
       "Index(['Unnamed: 0', 'Tweet', 'tags', 'Cleaned_tweet', 'Subjectivity',\n",
       "       'Polarity', 'Sentiment', 'Noun_phrases', 'Adjectives',\n",
       "       'Recommendations', 'final', 'symptoms1', 'Unnamed: 12'],\n",
       "      dtype='object')"
      ]
     },
     "execution_count": 21,
     "metadata": {},
     "output_type": "execute_result"
    }
   ],
   "source": []
  },
  {
   "cell_type": "code",
   "execution_count": 26,
   "id": "5e269d2a",
   "metadata": {},
   "outputs": [],
   "source": [
    "negative_cleaned=negative_with_no.drop(['Recommendations','Unnamed: 12'],axis=1)"
   ]
  },
  {
   "cell_type": "code",
   "execution_count": 27,
   "id": "f8af7308",
   "metadata": {
    "scrolled": true
   },
   "outputs": [
    {
     "data": {
      "text/html": [
       "<div>\n",
       "<style scoped>\n",
       "    .dataframe tbody tr th:only-of-type {\n",
       "        vertical-align: middle;\n",
       "    }\n",
       "\n",
       "    .dataframe tbody tr th {\n",
       "        vertical-align: top;\n",
       "    }\n",
       "\n",
       "    .dataframe thead th {\n",
       "        text-align: right;\n",
       "    }\n",
       "</style>\n",
       "<table border=\"1\" class=\"dataframe\">\n",
       "  <thead>\n",
       "    <tr style=\"text-align: right;\">\n",
       "      <th></th>\n",
       "      <th>Unnamed: 0</th>\n",
       "      <th>Tweet</th>\n",
       "      <th>tags</th>\n",
       "      <th>Cleaned_tweet</th>\n",
       "      <th>Subjectivity</th>\n",
       "      <th>Polarity</th>\n",
       "      <th>Sentiment</th>\n",
       "      <th>Noun_phrases</th>\n",
       "      <th>Adjectives</th>\n",
       "      <th>final</th>\n",
       "      <th>symptoms1</th>\n",
       "    </tr>\n",
       "  </thead>\n",
       "  <tbody>\n",
       "    <tr>\n",
       "      <th>1</th>\n",
       "      <td>1</td>\n",
       "      <td>b'@katkinneywrites i have hot/cold sometimes. ...</td>\n",
       "      <td>fever</td>\n",
       "      <td>hot cold sometimes usually cold mean thing tur...</td>\n",
       "      <td>0.843750</td>\n",
       "      <td>-0.456250</td>\n",
       "      <td>Negative</td>\n",
       "      <td>['cold mean thing', 'fever', 'breaking']</td>\n",
       "      <td>['hot', 'cold', 'cold', 'mean']</td>\n",
       "      <td>Dress in Light Clothing.</td>\n",
       "      <td>No</td>\n",
       "    </tr>\n",
       "    <tr>\n",
       "      <th>5</th>\n",
       "      <td>5</td>\n",
       "      <td>b'the initial sick day of covid was absolutely...</td>\n",
       "      <td>fever</td>\n",
       "      <td>the initial sick day covid absolutely brutal  ...</td>\n",
       "      <td>0.731429</td>\n",
       "      <td>-0.537857</td>\n",
       "      <td>Negative</td>\n",
       "      <td>['the initial sick day', 'nausea', 'today', 'w...</td>\n",
       "      <td>['initial', 'sick', 'brutal', 'weird']</td>\n",
       "      <td>Dress in Light Clothing.</td>\n",
       "      <td>No</td>\n",
       "    </tr>\n",
       "    <tr>\n",
       "      <th>10</th>\n",
       "      <td>10</td>\n",
       "      <td>b'well my wish came true... body aches, fever,...</td>\n",
       "      <td>fever</td>\n",
       "      <td>well wish came true  body ache fever nausea im...</td>\n",
       "      <td>0.825000</td>\n",
       "      <td>-0.325000</td>\n",
       "      <td>Negative</td>\n",
       "      <td>['true body', 'ache', 'fever', 'nausea', 'im',...</td>\n",
       "      <td>['wish', 'true']</td>\n",
       "      <td>Dress in Light Clothing.</td>\n",
       "      <td>No</td>\n",
       "    </tr>\n",
       "    <tr>\n",
       "      <th>12</th>\n",
       "      <td>12</td>\n",
       "      <td>b'@auntmaggiep fever, nausea, vomiting, bowel ...</td>\n",
       "      <td>fever</td>\n",
       "      <td>fever nausea vomiting bowel issue weak dizzy ..</td>\n",
       "      <td>0.625000</td>\n",
       "      <td>-0.375000</td>\n",
       "      <td>Negative</td>\n",
       "      <td>['fever', 'nausea', 'bowel issue', 'weak dizzy...</td>\n",
       "      <td>['bowel', 'weak']</td>\n",
       "      <td>Dress in Light Clothing.</td>\n",
       "      <td>No</td>\n",
       "    </tr>\n",
       "    <tr>\n",
       "      <th>13</th>\n",
       "      <td>13</td>\n",
       "      <td>b\"kid got sick and has a high fever and nausea...</td>\n",
       "      <td>fever</td>\n",
       "      <td>kid got sick high fever nausea think 'm sick...</td>\n",
       "      <td>0.688571</td>\n",
       "      <td>-0.233810</td>\n",
       "      <td>Negative</td>\n",
       "      <td>['kid', 'sick high fever', 'nausea', 'sick nea...</td>\n",
       "      <td>['sick', 'high', 'sick']</td>\n",
       "      <td>Dress in Light Clothing.</td>\n",
       "      <td>No</td>\n",
       "    </tr>\n",
       "  </tbody>\n",
       "</table>\n",
       "</div>"
      ],
      "text/plain": [
       "    Unnamed: 0                                              Tweet   tags  \\\n",
       "1            1  b'@katkinneywrites i have hot/cold sometimes. ...  fever   \n",
       "5            5  b'the initial sick day of covid was absolutely...  fever   \n",
       "10          10  b'well my wish came true... body aches, fever,...  fever   \n",
       "12          12  b'@auntmaggiep fever, nausea, vomiting, bowel ...  fever   \n",
       "13          13  b\"kid got sick and has a high fever and nausea...  fever   \n",
       "\n",
       "                                        Cleaned_tweet  Subjectivity  Polarity  \\\n",
       "1   hot cold sometimes usually cold mean thing tur...      0.843750 -0.456250   \n",
       "5   the initial sick day covid absolutely brutal  ...      0.731429 -0.537857   \n",
       "10  well wish came true  body ache fever nausea im...      0.825000 -0.325000   \n",
       "12    fever nausea vomiting bowel issue weak dizzy ..      0.625000 -0.375000   \n",
       "13    kid got sick high fever nausea think 'm sick...      0.688571 -0.233810   \n",
       "\n",
       "   Sentiment                                       Noun_phrases  \\\n",
       "1   Negative           ['cold mean thing', 'fever', 'breaking']   \n",
       "5   Negative  ['the initial sick day', 'nausea', 'today', 'w...   \n",
       "10  Negative  ['true body', 'ache', 'fever', 'nausea', 'im',...   \n",
       "12  Negative  ['fever', 'nausea', 'bowel issue', 'weak dizzy...   \n",
       "13  Negative  ['kid', 'sick high fever', 'nausea', 'sick nea...   \n",
       "\n",
       "                                Adjectives                     final symptoms1  \n",
       "1          ['hot', 'cold', 'cold', 'mean']  Dress in Light Clothing.        No  \n",
       "5   ['initial', 'sick', 'brutal', 'weird']  Dress in Light Clothing.        No  \n",
       "10                        ['wish', 'true']  Dress in Light Clothing.        No  \n",
       "12                       ['bowel', 'weak']  Dress in Light Clothing.        No  \n",
       "13                ['sick', 'high', 'sick']  Dress in Light Clothing.        No  "
      ]
     },
     "execution_count": 27,
     "metadata": {},
     "output_type": "execute_result"
    }
   ],
   "source": [
    "negative_cleaned.head()"
   ]
  },
  {
   "cell_type": "code",
   "execution_count": 28,
   "id": "35f91a73",
   "metadata": {
    "scrolled": true
   },
   "outputs": [
    {
     "data": {
      "text/plain": [
       "nausea     245\n",
       "flu        221\n",
       "sprain     200\n",
       "asthma     164\n",
       "autism     149\n",
       "fever      137\n",
       "obesity    123\n",
       "stroke     111\n",
       "dengue     100\n",
       "Name: tags, dtype: int64"
      ]
     },
     "execution_count": 28,
     "metadata": {},
     "output_type": "execute_result"
    }
   ],
   "source": [
    "negative_cleaned['tags'].value_counts()"
   ]
  },
  {
   "cell_type": "code",
   "execution_count": null,
   "id": "09c2e12c",
   "metadata": {},
   "outputs": [],
   "source": [
    "negative_cleaned['symptoms1']==''"
   ]
  },
  {
   "cell_type": "code",
   "execution_count": null,
   "id": "8904e54d",
   "metadata": {},
   "outputs": [],
   "source": [
    "disease_features = {\n",
    "    'sprain': ['pain','soreness','injury','twist foot'],\n",
    "    'flu': ['cough','virus','cold','headche'],\n",
    "    'sprain': ['Swelling','Restricted','instability','Bruising'],\n",
    "    'stroke': ['redness','excessive tears','eyes','sudden headache','weakness'],\n",
    "    'anxiety':['fear','worry','panic attack','sleeping','irritability'],\n",
    "    'obesity':['cholestrol','sleep apenea','pain','body weight'],\n",
    "    'autism':['communication diificulties','reptitive behaviours'],\n",
    "    'fever':['High body temperature','High body temperature','Chills',\n",
    "'Sweating','Headache','Muscle aches','Fatigue','Rapid heartbeat'],\n",
    "    'nausea':['vomit','sweating','salivation','queasiness','gagging','retching'],\n",
    "    'dengue':['nausea','vomiting'],\n",
    "    'asthma':['wheezing','chest tightness','coughing']\n",
    "    \n",
    "}\n"
   ]
  }
 ],
 "metadata": {
  "kernelspec": {
   "display_name": "Python 3 (ipykernel)",
   "language": "python",
   "name": "python3"
  },
  "language_info": {
   "codemirror_mode": {
    "name": "ipython",
    "version": 3
   },
   "file_extension": ".py",
   "mimetype": "text/x-python",
   "name": "python",
   "nbconvert_exporter": "python",
   "pygments_lexer": "ipython3",
   "version": "3.10.5"
  }
 },
 "nbformat": 4,
 "nbformat_minor": 5
}
